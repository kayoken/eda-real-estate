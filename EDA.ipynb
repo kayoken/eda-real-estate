{
 "cells": [
  {
   "cell_type": "markdown",
   "metadata": {},
   "source": [
    "## EDA for King County Housing\n",
    "\n",
    "### The client is Larry Sanders.\n",
    "\n",
    "- Waterfront\n",
    "- Limited budget\n",
    "- Nice & Isolated \n",
    "- But central neighborhood \n",
    "- Without kids (but got some of his own, just doesn't want his kids to play with other kids .. because of germs)\n",
    "\n",
    "## Questions\n",
    "\n",
    "1. Are there Waterfront Properties that fit a limited budget?\n",
    "    - Does a limited budget exclude outliers and whiskers?\n",
    "2. What influences the price most? View or Waterfront?\n",
    "    - If the waterfront house is closer to the city center, is the price higher?\n",
    "3. Are there isolated properties in central neighborhoods?\n",
    "    - Is a smaller waterfront house with big lot size cheaper than a big waterfront house with smaller lot?\n",
    "4. If your neighbours had big properties would you consider the area closer to the city and not so isolated?\n",
    "5. What are the best areas to buy in the city with the biggest lot sizes?\n",
    "\n",
    "### Some Information\n",
    "\n",
    "Your client wants to get a good understanding of the general housing condition in Seattle and surroundings and furthermore to have some recommendations tailored to their needs.\n"
   ]
  },
  {
   "cell_type": "code",
   "execution_count": 544,
   "metadata": {},
   "outputs": [],
   "source": [
    "import warnings\n",
    "\n",
    "warnings.filterwarnings(\"ignore\")\n",
    "\n",
    "import pandas as pd\n",
    "import plotly.express as px\n",
    "import numpy as np\n",
    "import missingno as msno\n",
    "import matplotlib.pyplot as plt\n",
    "import seaborn as sns\n",
    "from haversine import haversine, Unit\n",
    "from matplotlib.ticker import PercentFormatter\n",
    "\n",
    "plt.rcParams.update({ \"figure.figsize\" : (8, 5),\"axes.facecolor\" : \"white\", \"axes.edgecolor\":  \"black\"})\n",
    "plt.rcParams[\"figure.facecolor\"]= \"w\"\n",
    "pd.plotting.register_matplotlib_converters()\n",
    "pd.set_option('display.float_format', lambda x: '%.3f' % x)"
   ]
  },
  {
   "cell_type": "code",
   "execution_count": 545,
   "metadata": {},
   "outputs": [
    {
     "data": {
      "text/plain": [
       "Index(['id', 'bedrooms', 'bathrooms', 'sqft_living', 'sqft_lot', 'floors',\n",
       "       'waterfront', 'view', 'condition', 'grade', 'sqft_above',\n",
       "       'sqft_basement', 'yr_built', 'yr_renovated', 'zipcode', 'lat', 'long',\n",
       "       'sqft_living15', 'sqft_lot15', 'date', 'price', 'house_id', 'sale_id'],\n",
       "      dtype='object')"
      ]
     },
     "execution_count": 545,
     "metadata": {},
     "output_type": "execute_result"
    }
   ],
   "source": [
    "df = pd.read_csv('./data/eda.csv')\n",
    "\n",
    "#converting to proper datetime format\n",
    "df.date = pd.to_datetime(df.date)\n",
    "df = df.rename({'id.1': 'sale_id'}, axis=1)\n",
    "df.columns\n"
   ]
  },
  {
   "cell_type": "code",
   "execution_count": 546,
   "metadata": {},
   "outputs": [
    {
     "data": {
      "text/plain": [
       "(21597, 23)"
      ]
     },
     "execution_count": 546,
     "metadata": {},
     "output_type": "execute_result"
    }
   ],
   "source": [
    "df.shape"
   ]
  },
  {
   "cell_type": "code",
   "execution_count": 547,
   "metadata": {},
   "outputs": [
    {
     "data": {
      "text/html": [
       "<div>\n",
       "<style scoped>\n",
       "    .dataframe tbody tr th:only-of-type {\n",
       "        vertical-align: middle;\n",
       "    }\n",
       "\n",
       "    .dataframe tbody tr th {\n",
       "        vertical-align: top;\n",
       "    }\n",
       "\n",
       "    .dataframe thead th {\n",
       "        text-align: right;\n",
       "    }\n",
       "</style>\n",
       "<table border=\"1\" class=\"dataframe\">\n",
       "  <thead>\n",
       "    <tr style=\"text-align: right;\">\n",
       "      <th></th>\n",
       "      <th>id</th>\n",
       "      <th>bedrooms</th>\n",
       "      <th>bathrooms</th>\n",
       "      <th>sqft_living</th>\n",
       "      <th>sqft_lot</th>\n",
       "      <th>floors</th>\n",
       "      <th>waterfront</th>\n",
       "      <th>view</th>\n",
       "      <th>condition</th>\n",
       "      <th>grade</th>\n",
       "      <th>...</th>\n",
       "      <th>yr_renovated</th>\n",
       "      <th>zipcode</th>\n",
       "      <th>lat</th>\n",
       "      <th>long</th>\n",
       "      <th>sqft_living15</th>\n",
       "      <th>sqft_lot15</th>\n",
       "      <th>date</th>\n",
       "      <th>price</th>\n",
       "      <th>house_id</th>\n",
       "      <th>sale_id</th>\n",
       "    </tr>\n",
       "  </thead>\n",
       "  <tbody>\n",
       "    <tr>\n",
       "      <th>0</th>\n",
       "      <td>7129300520</td>\n",
       "      <td>3.000</td>\n",
       "      <td>1.000</td>\n",
       "      <td>1180.000</td>\n",
       "      <td>5650.000</td>\n",
       "      <td>1.000</td>\n",
       "      <td>NaN</td>\n",
       "      <td>0.000</td>\n",
       "      <td>3</td>\n",
       "      <td>7</td>\n",
       "      <td>...</td>\n",
       "      <td>0.000</td>\n",
       "      <td>98178</td>\n",
       "      <td>47.511</td>\n",
       "      <td>-122.257</td>\n",
       "      <td>1340.000</td>\n",
       "      <td>5650.000</td>\n",
       "      <td>2014-10-13</td>\n",
       "      <td>221900.000</td>\n",
       "      <td>7129300520</td>\n",
       "      <td>1</td>\n",
       "    </tr>\n",
       "    <tr>\n",
       "      <th>1</th>\n",
       "      <td>6414100192</td>\n",
       "      <td>3.000</td>\n",
       "      <td>2.250</td>\n",
       "      <td>2570.000</td>\n",
       "      <td>7242.000</td>\n",
       "      <td>2.000</td>\n",
       "      <td>0.000</td>\n",
       "      <td>0.000</td>\n",
       "      <td>3</td>\n",
       "      <td>7</td>\n",
       "      <td>...</td>\n",
       "      <td>19910.000</td>\n",
       "      <td>98125</td>\n",
       "      <td>47.721</td>\n",
       "      <td>-122.319</td>\n",
       "      <td>1690.000</td>\n",
       "      <td>7639.000</td>\n",
       "      <td>2014-12-09</td>\n",
       "      <td>538000.000</td>\n",
       "      <td>6414100192</td>\n",
       "      <td>2</td>\n",
       "    </tr>\n",
       "    <tr>\n",
       "      <th>2</th>\n",
       "      <td>5631500400</td>\n",
       "      <td>2.000</td>\n",
       "      <td>1.000</td>\n",
       "      <td>770.000</td>\n",
       "      <td>10000.000</td>\n",
       "      <td>1.000</td>\n",
       "      <td>0.000</td>\n",
       "      <td>0.000</td>\n",
       "      <td>3</td>\n",
       "      <td>6</td>\n",
       "      <td>...</td>\n",
       "      <td>NaN</td>\n",
       "      <td>98028</td>\n",
       "      <td>47.738</td>\n",
       "      <td>-122.233</td>\n",
       "      <td>2720.000</td>\n",
       "      <td>8062.000</td>\n",
       "      <td>2015-02-25</td>\n",
       "      <td>180000.000</td>\n",
       "      <td>5631500400</td>\n",
       "      <td>3</td>\n",
       "    </tr>\n",
       "    <tr>\n",
       "      <th>3</th>\n",
       "      <td>2487200875</td>\n",
       "      <td>4.000</td>\n",
       "      <td>3.000</td>\n",
       "      <td>1960.000</td>\n",
       "      <td>5000.000</td>\n",
       "      <td>1.000</td>\n",
       "      <td>0.000</td>\n",
       "      <td>0.000</td>\n",
       "      <td>5</td>\n",
       "      <td>7</td>\n",
       "      <td>...</td>\n",
       "      <td>0.000</td>\n",
       "      <td>98136</td>\n",
       "      <td>47.521</td>\n",
       "      <td>-122.393</td>\n",
       "      <td>1360.000</td>\n",
       "      <td>5000.000</td>\n",
       "      <td>2014-12-09</td>\n",
       "      <td>604000.000</td>\n",
       "      <td>2487200875</td>\n",
       "      <td>4</td>\n",
       "    </tr>\n",
       "    <tr>\n",
       "      <th>4</th>\n",
       "      <td>1954400510</td>\n",
       "      <td>3.000</td>\n",
       "      <td>2.000</td>\n",
       "      <td>1680.000</td>\n",
       "      <td>8080.000</td>\n",
       "      <td>1.000</td>\n",
       "      <td>0.000</td>\n",
       "      <td>0.000</td>\n",
       "      <td>3</td>\n",
       "      <td>8</td>\n",
       "      <td>...</td>\n",
       "      <td>0.000</td>\n",
       "      <td>98074</td>\n",
       "      <td>47.617</td>\n",
       "      <td>-122.045</td>\n",
       "      <td>1800.000</td>\n",
       "      <td>7503.000</td>\n",
       "      <td>2015-02-18</td>\n",
       "      <td>510000.000</td>\n",
       "      <td>1954400510</td>\n",
       "      <td>5</td>\n",
       "    </tr>\n",
       "  </tbody>\n",
       "</table>\n",
       "<p>5 rows × 23 columns</p>\n",
       "</div>"
      ],
      "text/plain": [
       "           id  bedrooms  bathrooms  sqft_living  sqft_lot  floors  waterfront  \\\n",
       "0  7129300520     3.000      1.000     1180.000  5650.000   1.000         NaN   \n",
       "1  6414100192     3.000      2.250     2570.000  7242.000   2.000       0.000   \n",
       "2  5631500400     2.000      1.000      770.000 10000.000   1.000       0.000   \n",
       "3  2487200875     4.000      3.000     1960.000  5000.000   1.000       0.000   \n",
       "4  1954400510     3.000      2.000     1680.000  8080.000   1.000       0.000   \n",
       "\n",
       "   view  condition  grade  ...  yr_renovated  zipcode    lat     long  \\\n",
       "0 0.000          3      7  ...         0.000    98178 47.511 -122.257   \n",
       "1 0.000          3      7  ...     19910.000    98125 47.721 -122.319   \n",
       "2 0.000          3      6  ...           NaN    98028 47.738 -122.233   \n",
       "3 0.000          5      7  ...         0.000    98136 47.521 -122.393   \n",
       "4 0.000          3      8  ...         0.000    98074 47.617 -122.045   \n",
       "\n",
       "   sqft_living15  sqft_lot15       date      price    house_id sale_id  \n",
       "0       1340.000    5650.000 2014-10-13 221900.000  7129300520       1  \n",
       "1       1690.000    7639.000 2014-12-09 538000.000  6414100192       2  \n",
       "2       2720.000    8062.000 2015-02-25 180000.000  5631500400       3  \n",
       "3       1360.000    5000.000 2014-12-09 604000.000  2487200875       4  \n",
       "4       1800.000    7503.000 2015-02-18 510000.000  1954400510       5  \n",
       "\n",
       "[5 rows x 23 columns]"
      ]
     },
     "execution_count": 547,
     "metadata": {},
     "output_type": "execute_result"
    }
   ],
   "source": [
    "df.head()"
   ]
  },
  {
   "cell_type": "code",
   "execution_count": 548,
   "metadata": {},
   "outputs": [
    {
     "data": {
      "text/plain": [
       "<Axes: >"
      ]
     },
     "execution_count": 548,
     "metadata": {},
     "output_type": "execute_result"
    },
    {
     "data": {
      "image/png": "[encoded data removed]",
      "text/plain": [
       "<Figure size 2500x1000 with 3 Axes>"
      ]
     },
     "metadata": {},
     "output_type": "display_data"
    },
    {
     "data": {
      "image/png": "[encoded data removed]",
      "text/plain": [
       "<Figure size 2500x1000 with 2 Axes>"
      ]
     },
     "metadata": {},
     "output_type": "display_data"
    }
   ],
   "source": [
    "msno.bar(df)\n",
    "msno.matrix(df)"
   ]
  },
  {
   "cell_type": "code",
   "execution_count": 549,
   "metadata": {},
   "outputs": [
    {
     "data": {
      "text/plain": [
       "array([nan,  0.,  1.])"
      ]
     },
     "execution_count": 549,
     "metadata": {},
     "output_type": "execute_result"
    }
   ],
   "source": [
    "# examining whether there are random values\n",
    "df.waterfront.unique()"
   ]
  },
  {
   "cell_type": "code",
   "execution_count": 550,
   "metadata": {},
   "outputs": [
    {
     "data": {
      "text/plain": [
       "False    21597\n",
       "Name: count, dtype: int64"
      ]
     },
     "execution_count": 550,
     "metadata": {},
     "output_type": "execute_result"
    }
   ],
   "source": [
    "df.duplicated().value_counts()\n",
    "# we don't have any duplicates"
   ]
  },
  {
   "cell_type": "code",
   "execution_count": 551,
   "metadata": {},
   "outputs": [],
   "source": [
    "# save these real estate properties for later\n",
    "df_waterfront_unknown= df[df['waterfront'].isna() == True]\n",
    "df_on_waterfront = df[df['waterfront'] == 1]"
   ]
  },
  {
   "cell_type": "code",
   "execution_count": 552,
   "metadata": {},
   "outputs": [
    {
     "data": {
      "application/vnd.plotly.v1+json": {
       "config": {
        "plotlyServerURL": "https://plot.ly"
       },
       "data": [
        {
         "customdata": [
          [
           1350000
          ],
          [
           655000
          ],
          [
           2400000
          ],
          [
           369900
          ],
          [
           3080000
          ],
          [
           705000
          ],
          [
           2130000
          ],
          [
           3070000
          ],
          [
           825000
          ],
          [
           1960000
          ],
          [
           790000
          ],
          [
           5110000
          ],
          [
           290000
          ],
          [
           995000
          ],
          [
           5300000
          ],
          [
           2200000
          ],
          [
           1180000
          ],
          [
           1700000
          ],
          [
           960000
          ],
          [
           480000
          ],
          [
           1200000
          ],
          [
           3850000
          ],
          [
           1700000
          ],
          [
           1650000
          ],
          [
           1370000
          ],
          [
           3280000
          ],
          [
           4500000
          ],
          [
           3600000
          ],
          [
           999000
          ],
          [
           1900000
          ],
          [
           700000
          ],
          [
           1000000
          ],
          [
           7060000
          ],
          [
           1380000
          ],
          [
           2400000
          ],
          [
           1880000
          ],
          [
           1570000
          ],
          [
           1160000
          ],
          [
           1150000
          ],
          [
           1710000
          ],
          [
           2000000
          ],
          [
           2490000
          ],
          [
           1850000
          ],
          [
           549000
          ],
          [
           1600000
          ],
          [
           1850000
          ],
          [
           1100000
          ],
          [
           340000
          ],
          [
           2200000
          ],
          [
           2900000
          ],
          [
           1340000
          ],
          [
           3650000
          ],
          [
           2700000
          ],
          [
           3100000
          ],
          [
           1150000
          ],
          [
           1900000
          ],
          [
           3400000
          ],
          [
           1850000
          ],
          [
           4670000
          ],
          [
           503000
          ],
          [
           1450000
          ],
          [
           949950
          ],
          [
           400000
          ],
          [
           1250000
          ],
          [
           1800000
          ],
          [
           650000
          ],
          [
           1360000
          ],
          [
           1960000
          ],
          [
           1190000
          ],
          [
           629000
          ],
          [
           985000
          ],
          [
           2700000
          ],
          [
           3120000
          ],
          [
           1580000
          ],
          [
           1660000
          ],
          [
           1180000
          ],
          [
           750000
          ],
          [
           2560000
          ],
          [
           3000000
          ],
          [
           2300000
          ],
          [
           950000
          ],
          [
           2750000
          ],
          [
           357000
          ],
          [
           770000
          ],
          [
           1900000
          ],
          [
           2000000
          ],
          [
           835000
          ],
          [
           685000
          ],
          [
           500000
          ],
          [
           635000
          ],
          [
           2600000
          ],
          [
           3400000
          ],
          [
           3300000
          ],
          [
           947500
          ],
          [
           600000
          ],
          [
           2230000
          ],
          [
           1300000
          ],
          [
           1610000
          ],
          [
           2600000
          ],
          [
           465000
          ],
          [
           3640000
          ],
          [
           520000
          ],
          [
           658000
          ],
          [
           840500
          ],
          [
           1650000
          ],
          [
           3200000
          ],
          [
           1800000
          ],
          [
           1680000
          ],
          [
           1640000
          ],
          [
           700000
          ],
          [
           1340000
          ],
          [
           1600000
          ],
          [
           1310000
          ],
          [
           1200000
          ],
          [
           869000
          ],
          [
           750000
          ],
          [
           340000
          ],
          [
           800000
          ],
          [
           750000
          ],
          [
           540000
          ],
          [
           2510000
          ],
          [
           820000
          ],
          [
           2050000
          ],
          [
           975000
          ],
          [
           1600000
          ],
          [
           528000
          ],
          [
           3300000
          ],
          [
           285000
          ],
          [
           2700000
          ],
          [
           2950000
          ],
          [
           570000
          ],
          [
           1230000
          ],
          [
           1700000
          ],
          [
           1680000
          ],
          [
           380000
          ],
          [
           1400000
          ],
          [
           385000
          ],
          [
           615000
          ],
          [
           1410000
          ],
          [
           1150000
          ],
          [
           988500
          ],
          [
           1900000
          ],
          [
           3000000
          ],
          [
           2300000
          ],
          [
           2230000
          ],
          [
           3570000
          ]
         ],
         "hovertemplate": "price=%{marker.color}<br>lat=%{lat}<br>long=%{lon}<extra></extra>",
         "lat": [
          47.4041,
          47.4497,
          47.6338,
          47.4683,
          47.6053,
          47.3844,
          47.4169,
          47.7022,
          47.502,
          47.7165,
          47.5105,
          47.6767,
          47.4339,
          47.4734,
          47.5631,
          47.6393,
          47.7345,
          47.5115,
          47.645,
          47.3853,
          47.5779,
          47.585,
          47.5883,
          47.5487,
          47.5684,
          47.6042,
          47.7493,
          47.5925,
          47.3782,
          47.4485,
          47.5117,
          47.5488,
          47.65,
          47.3907,
          47.5884,
          47.6699,
          47.5169,
          47.488,
          47.3344,
          47.5596,
          47.5682,
          47.5636,
          47.5784,
          47.3312,
          47.5894,
          47.7404,
          47.5033,
          47.4285,
          47.5554,
          47.5379,
          47.5489,
          47.6515,
          47.5919,
          47.5716,
          47.6307,
          47.5395,
          47.5348,
          47.5571,
          47.557,
          47.3276,
          47.5686,
          47.5193,
          47.3338,
          47.5814,
          47.5466,
          47.3554,
          47.7142,
          47.5287,
          47.7134,
          47.3311,
          47.4499,
          47.6803,
          47.6997,
          47.4414,
          47.525,
          47.5495,
          47.5022,
          47.661,
          47.7011,
          47.6934,
          47.3881,
          47.5968,
          47.3811,
          47.4536,
          47.5924,
          47.6092,
          47.3571,
          47.4502,
          47.3799,
          47.459,
          47.5696,
          47.6967,
          47.605,
          47.4522,
          47.358,
          47.5516,
          47.7729,
          47.5316,
          47.5721,
          47.4728,
          47.6409,
          47.3648,
          47.5476,
          47.5114,
          47.6163,
          47.5928,
          47.7519,
          47.7561,
          47.4418,
          47.5121,
          47.7308,
          47.7434,
          47.4396,
          47.502,
          47.5121,
          47.4996,
          47.4557,
          47.373,
          47.4,
          47.4997,
          47.4558,
          47.3573,
          47.7087,
          47.4969,
          47.704,
          47.404,
          47.6083,
          47.4716,
          47.572,
          47.6608,
          47.3509,
          47.3535,
          47.6361,
          47.7265,
          47.4551,
          47.5895,
          47.4012,
          47.3979,
          47.5036,
          47.7336,
          47.45,
          47.6318,
          47.5283,
          47.5724,
          47.5285,
          47.5943
         ],
         "legendgroup": "",
         "lon": [
          -122.451,
          -122.375,
          -122.072,
          -122.438,
          -122.077,
          -122.438,
          -122.348,
          -122.224,
          -122.222,
          -122.259,
          -122.238,
          -122.211,
          -122.512,
          -122.365,
          -122.21,
          -122.097,
          -122.285,
          -122.246,
          -122.084,
          -122.479,
          -122.246,
          -122.222,
          -122.111,
          -122.197,
          -122.06,
          -122.112,
          -122.28,
          -122.287,
          -122.514,
          -122.369,
          -122.248,
          -122.197,
          -122.214,
          -122.448,
          -122.086,
          -122.416,
          -122.209,
          -122.364,
          -122.37,
          -122.403,
          -122.059,
          -122.231,
          -122.076,
          -122.503,
          -122.111,
          -122.284,
          -122.225,
          -122.511,
          -122.077,
          -122.264,
          -122.398,
          -122.277,
          -122.251,
          -122.204,
          -122.088,
          -122.21,
          -122.243,
          -122.193,
          -122.21,
          -122.389,
          -122.06,
          -122.257,
          -122.511,
          -122.081,
          -122.197,
          -122.324,
          -122.277,
          -122.22,
          -122.277,
          -122.375,
          -122.376,
          -122.214,
          -122.24,
          -122.354,
          -122.393,
          -122.398,
          -122.223,
          -122.269,
          -122.244,
          -122.271,
          -122.326,
          -122.083,
          -122.325,
          -122.376,
          -122.287,
          -122.073,
          -122.324,
          -122.378,
          -122.325,
          -122.504,
          -122.09,
          -122.216,
          -122.112,
          -122.378,
          -122.446,
          -122.398,
          -122.393,
          -122.263,
          -122.239,
          -122.497,
          -122.241,
          -122.325,
          -122.399,
          -122.245,
          -122.068,
          -122.086,
          -122.276,
          -122.271,
          -122.354,
          -122.248,
          -122.282,
          -122.263,
          -122.353,
          -122.385,
          -122.248,
          -122.378,
          -122.443,
          -122.464,
          -122.42,
          -122.379,
          -122.371,
          -122.324,
          -122.276,
          -122.376,
          -122.245,
          -122.447,
          -122.11,
          -122.445,
          -122.102,
          -122.269,
          -122.323,
          -122.323,
          -122.093,
          -122.281,
          -122.373,
          -122.111,
          -122.425,
          -122.465,
          -122.387,
          -122.284,
          -122.377,
          -122.071,
          -122.205,
          -122.104,
          -122.205,
          -122.11
         ],
         "marker": {
          "color": [
           1350000,
           655000,
           2400000,
           369900,
           3080000,
           705000,
           2130000,
           3070000,
           825000,
           1960000,
           790000,
           5110000,
           290000,
           995000,
           5300000,
           2200000,
           1180000,
           1700000,
           960000,
           480000,
           1200000,
           3850000,
           1700000,
           1650000,
           1370000,
           3280000,
           4500000,
           3600000,
           999000,
           1900000,
           700000,
           1000000,
           7060000,
           1380000,
           2400000,
           1880000,
           1570000,
           1160000,
           1150000,
           1710000,
           2000000,
           2490000,
           1850000,
           549000,
           1600000,
           1850000,
           1100000,
           340000,
           2200000,
           2900000,
           1340000,
           3650000,
           2700000,
           3100000,
           1150000,
           1900000,
           3400000,
           1850000,
           4670000,
           503000,
           1450000,
           949950,
           400000,
           1250000,
           1800000,
           650000,
           1360000,
           1960000,
           1190000,
           629000,
           985000,
           2700000,
           3120000,
           1580000,
           1660000,
           1180000,
           750000,
           2560000,
           3000000,
           2300000,
           950000,
           2750000,
           357000,
           770000,
           1900000,
           2000000,
           835000,
           685000,
           500000,
           635000,
           2600000,
           3400000,
           3300000,
           947500,
           600000,
           2230000,
           1300000,
           1610000,
           2600000,
           465000,
           3640000,
           520000,
           658000,
           840500,
           1650000,
           3200000,
           1800000,
           1680000,
           1640000,
           700000,
           1340000,
           1600000,
           1310000,
           1200000,
           869000,
           750000,
           340000,
           800000,
           750000,
           540000,
           2510000,
           820000,
           2050000,
           975000,
           1600000,
           528000,
           3300000,
           285000,
           2700000,
           2950000,
           570000,
           1230000,
           1700000,
           1680000,
           380000,
           1400000,
           385000,
           615000,
           1410000,
           1150000,
           988500,
           1900000,
           3000000,
           2300000,
           2230000,
           3570000
          ],
          "coloraxis": "coloraxis",
          "size": [
           1350000,
           655000,
           2400000,
           369900,
           3080000,
           705000,
           2130000,
           3070000,
           825000,
           1960000,
           790000,
           5110000,
           290000,
           995000,
           5300000,
           2200000,
           1180000,
           1700000,
           960000,
           480000,
           1200000,
           3850000,
           1700000,
           1650000,
           1370000,
           3280000,
           4500000,
           3600000,
           999000,
           1900000,
           700000,
           1000000,
           7060000,
           1380000,
           2400000,
           1880000,
           1570000,
           1160000,
           1150000,
           1710000,
           2000000,
           2490000,
           1850000,
           549000,
           1600000,
           1850000,
           1100000,
           340000,
           2200000,
           2900000,
           1340000,
           3650000,
           2700000,
           3100000,
           1150000,
           1900000,
           3400000,
           1850000,
           4670000,
           503000,
           1450000,
           949950,
           400000,
           1250000,
           1800000,
           650000,
           1360000,
           1960000,
           1190000,
           629000,
           985000,
           2700000,
           3120000,
           1580000,
           1660000,
           1180000,
           750000,
           2560000,
           3000000,
           2300000,
           950000,
           2750000,
           357000,
           770000,
           1900000,
           2000000,
           835000,
           685000,
           500000,
           635000,
           2600000,
           3400000,
           3300000,
           947500,
           600000,
           2230000,
           1300000,
           1610000,
           2600000,
           465000,
           3640000,
           520000,
           658000,
           840500,
           1650000,
           3200000,
           1800000,
           1680000,
           1640000,
           700000,
           1340000,
           1600000,
           1310000,
           1200000,
           869000,
           750000,
           340000,
           800000,
           750000,
           540000,
           2510000,
           820000,
           2050000,
           975000,
           1600000,
           528000,
           3300000,
           285000,
           2700000,
           2950000,
           570000,
           1230000,
           1700000,
           1680000,
           380000,
           1400000,
           385000,
           615000,
           1410000,
           1150000,
           988500,
           1900000,
           3000000,
           2300000,
           2230000,
           3570000
          ],
          "sizemode": "area",
          "sizeref": 17650
         },
         "mode": "markers",
         "name": "",
         "showlegend": false,
         "subplot": "mapbox",
         "type": "scattermapbox"
        }
       ],
       "layout": {
        "coloraxis": {
         "colorbar": {
          "title": {
           "text": "price"
          }
         },
         "colorscale": [
          [
           0,
           "rgb(252, 222, 156)"
          ],
          [
           0.16666666666666666,
           "rgb(250, 164, 118)"
          ],
          [
           0.3333333333333333,
           "rgb(240, 116, 110)"
          ],
          [
           0.5,
           "rgb(227, 79, 111)"
          ],
          [
           0.6666666666666666,
           "rgb(220, 57, 119)"
          ],
          [
           0.8333333333333334,
           "rgb(185, 37, 122)"
          ],
          [
           1,
           "rgb(124, 29, 111)"
          ]
         ]
        },
        "geo": {
         "fitbounds": "locations"
        },
        "height": 1000,
        "legend": {
         "itemsizing": "constant",
         "tracegroupgap": 0
        },
        "mapbox": {
         "center": {
          "lat": 47.53967671232878,
          "lon": -122.27816438356164
         },
         "domain": {
          "x": [
           0,
           1
          ],
          "y": [
           0,
           1
          ]
         },
         "style": "open-street-map",
         "zoom": 9.5
        },
        "margin": {
         "b": 50,
         "l": 50,
         "r": 50,
         "t": 50
        },
        "template": {
         "data": {
          "bar": [
           {
            "error_x": {
             "color": "#2a3f5f"
            },
            "error_y": {
             "color": "#2a3f5f"
            },
            "marker": {
             "line": {
              "color": "#E5ECF6",
              "width": 0.5
             },
             "pattern": {
              "fillmode": "overlay",
              "size": 10,
              "solidity": 0.2
             }
            },
            "type": "bar"
           }
          ],
          "barpolar": [
           {
            "marker": {
             "line": {
              "color": "#E5ECF6",
              "width": 0.5
             },
             "pattern": {
              "fillmode": "overlay",
              "size": 10,
              "solidity": 0.2
             }
            },
            "type": "barpolar"
           }
          ],
          "carpet": [
           {
            "aaxis": {
             "endlinecolor": "#2a3f5f",
             "gridcolor": "white",
             "linecolor": "white",
             "minorgridcolor": "white",
             "startlinecolor": "#2a3f5f"
            },
            "baxis": {
             "endlinecolor": "#2a3f5f",
             "gridcolor": "white",
             "linecolor": "white",
             "minorgridcolor": "white",
             "startlinecolor": "#2a3f5f"
            },
            "type": "carpet"
           }
          ],
          "choropleth": [
           {
            "colorbar": {
             "outlinewidth": 0,
             "ticks": ""
            },
            "type": "choropleth"
           }
          ],
          "contour": [
           {
            "colorbar": {
             "outlinewidth": 0,
             "ticks": ""
            },
            "colorscale": [
             [
              0,
              "#0d0887"
             ],
             [
              0.1111111111111111,
              "#46039f"
             ],
             [
              0.2222222222222222,
              "#7201a8"
             ],
             [
              0.3333333333333333,
              "#9c179e"
             ],
             [
              0.4444444444444444,
              "#bd3786"
             ],
             [
              0.5555555555555556,
              "#d8576b"
             ],
             [
              0.6666666666666666,
              "#ed7953"
             ],
             [
              0.7777777777777778,
              "#fb9f3a"
             ],
             [
              0.8888888888888888,
              "#fdca26"
             ],
             [
              1,
              "#f0f921"
             ]
            ],
            "type": "contour"
           }
          ],
          "contourcarpet": [
           {
            "colorbar": {
             "outlinewidth": 0,
             "ticks": ""
            },
            "type": "contourcarpet"
           }
          ],
          "heatmap": [
           {
            "colorbar": {
             "outlinewidth": 0,
             "ticks": ""
            },
            "colorscale": [
             [
              0,
              "#0d0887"
             ],
             [
              0.1111111111111111,
              "#46039f"
             ],
             [
              0.2222222222222222,
              "#7201a8"
             ],
             [
              0.3333333333333333,
              "#9c179e"
             ],
             [
              0.4444444444444444,
              "#bd3786"
             ],
             [
              0.5555555555555556,
              "#d8576b"
             ],
             [
              0.6666666666666666,
              "#ed7953"
             ],
             [
              0.7777777777777778,
              "#fb9f3a"
             ],
             [
              0.8888888888888888,
              "#fdca26"
             ],
             [
              1,
              "#f0f921"
             ]
            ],
            "type": "heatmap"
           }
          ],
          "heatmapgl": [
           {
            "colorbar": {
             "outlinewidth": 0,
             "ticks": ""
            },
            "colorscale": [
             [
              0,
              "#0d0887"
             ],
             [
              0.1111111111111111,
              "#46039f"
             ],
             [
              0.2222222222222222,
              "#7201a8"
             ],
             [
              0.3333333333333333,
              "#9c179e"
             ],
             [
              0.4444444444444444,
              "#bd3786"
             ],
             [
              0.5555555555555556,
              "#d8576b"
             ],
             [
              0.6666666666666666,
              "#ed7953"
             ],
             [
              0.7777777777777778,
              "#fb9f3a"
             ],
             [
              0.8888888888888888,
              "#fdca26"
             ],
             [
              1,
              "#f0f921"
             ]
            ],
            "type": "heatmapgl"
           }
          ],
          "histogram": [
           {
            "marker": {
             "pattern": {
              "fillmode": "overlay",
              "size": 10,
              "solidity": 0.2
             }
            },
            "type": "histogram"
           }
          ],
          "histogram2d": [
           {
            "colorbar": {
             "outlinewidth": 0,
             "ticks": ""
            },
            "colorscale": [
             [
              0,
              "#0d0887"
             ],
             [
              0.1111111111111111,
              "#46039f"
             ],
             [
              0.2222222222222222,
              "#7201a8"
             ],
             [
              0.3333333333333333,
              "#9c179e"
             ],
             [
              0.4444444444444444,
              "#bd3786"
             ],
             [
              0.5555555555555556,
              "#d8576b"
             ],
             [
              0.6666666666666666,
              "#ed7953"
             ],
             [
              0.7777777777777778,
              "#fb9f3a"
             ],
             [
              0.8888888888888888,
              "#fdca26"
             ],
             [
              1,
              "#f0f921"
             ]
            ],
            "type": "histogram2d"
           }
          ],
          "histogram2dcontour": [
           {
            "colorbar": {
             "outlinewidth": 0,
             "ticks": ""
            },
            "colorscale": [
             [
              0,
              "#0d0887"
             ],
             [
              0.1111111111111111,
              "#46039f"
             ],
             [
              0.2222222222222222,
              "#7201a8"
             ],
             [
              0.3333333333333333,
              "#9c179e"
             ],
             [
              0.4444444444444444,
              "#bd3786"
             ],
             [
              0.5555555555555556,
              "#d8576b"
             ],
             [
              0.6666666666666666,
              "#ed7953"
             ],
             [
              0.7777777777777778,
              "#fb9f3a"
             ],
             [
              0.8888888888888888,
              "#fdca26"
             ],
             [
              1,
              "#f0f921"
             ]
            ],
            "type": "histogram2dcontour"
           }
          ],
          "mesh3d": [
           {
            "colorbar": {
             "outlinewidth": 0,
             "ticks": ""
            },
            "type": "mesh3d"
           }
          ],
          "parcoords": [
           {
            "line": {
             "colorbar": {
              "outlinewidth": 0,
              "ticks": ""
             }
            },
            "type": "parcoords"
           }
          ],
          "pie": [
           {
            "automargin": true,
            "type": "pie"
           }
          ],
          "scatter": [
           {
            "fillpattern": {
             "fillmode": "overlay",
             "size": 10,
             "solidity": 0.2
            },
            "type": "scatter"
           }
          ],
          "scatter3d": [
           {
            "line": {
             "colorbar": {
              "outlinewidth": 0,
              "ticks": ""
             }
            },
            "marker": {
             "colorbar": {
              "outlinewidth": 0,
              "ticks": ""
             }
            },
            "type": "scatter3d"
           }
          ],
          "scattercarpet": [
           {
            "marker": {
             "colorbar": {
              "outlinewidth": 0,
              "ticks": ""
             }
            },
            "type": "scattercarpet"
           }
          ],
          "scattergeo": [
           {
            "marker": {
             "colorbar": {
              "outlinewidth": 0,
              "ticks": ""
             }
            },
            "type": "scattergeo"
           }
          ],
          "scattergl": [
           {
            "marker": {
             "colorbar": {
              "outlinewidth": 0,
              "ticks": ""
             }
            },
            "type": "scattergl"
           }
          ],
          "scattermapbox": [
           {
            "marker": {
             "colorbar": {
              "outlinewidth": 0,
              "ticks": ""
             }
            },
            "type": "scattermapbox"
           }
          ],
          "scatterpolar": [
           {
            "marker": {
             "colorbar": {
              "outlinewidth": 0,
              "ticks": ""
             }
            },
            "type": "scatterpolar"
           }
          ],
          "scatterpolargl": [
           {
            "marker": {
             "colorbar": {
              "outlinewidth": 0,
              "ticks": ""
             }
            },
            "type": "scatterpolargl"
           }
          ],
          "scatterternary": [
           {
            "marker": {
             "colorbar": {
              "outlinewidth": 0,
              "ticks": ""
             }
            },
            "type": "scatterternary"
           }
          ],
          "surface": [
           {
            "colorbar": {
             "outlinewidth": 0,
             "ticks": ""
            },
            "colorscale": [
             [
              0,
              "#0d0887"
             ],
             [
              0.1111111111111111,
              "#46039f"
             ],
             [
              0.2222222222222222,
              "#7201a8"
             ],
             [
              0.3333333333333333,
              "#9c179e"
             ],
             [
              0.4444444444444444,
              "#bd3786"
             ],
             [
              0.5555555555555556,
              "#d8576b"
             ],
             [
              0.6666666666666666,
              "#ed7953"
             ],
             [
              0.7777777777777778,
              "#fb9f3a"
             ],
             [
              0.8888888888888888,
              "#fdca26"
             ],
             [
              1,
              "#f0f921"
             ]
            ],
            "type": "surface"
           }
          ],
          "table": [
           {
            "cells": {
             "fill": {
              "color": "#EBF0F8"
             },
             "line": {
              "color": "white"
             }
            },
            "header": {
             "fill": {
              "color": "#C8D4E3"
             },
             "line": {
              "color": "white"
             }
            },
            "type": "table"
           }
          ]
         },
         "layout": {
          "annotationdefaults": {
           "arrowcolor": "#2a3f5f",
           "arrowhead": 0,
           "arrowwidth": 1
          },
          "autotypenumbers": "strict",
          "coloraxis": {
           "colorbar": {
            "outlinewidth": 0,
            "ticks": ""
           }
          },
          "colorscale": {
           "diverging": [
            [
             0,
             "#8e0152"
            ],
            [
             0.1,
             "#c51b7d"
            ],
            [
             0.2,
             "#de77ae"
            ],
            [
             0.3,
             "#f1b6da"
            ],
            [
             0.4,
             "#fde0ef"
            ],
            [
             0.5,
             "#f7f7f7"
            ],
            [
             0.6,
             "#e6f5d0"
            ],
            [
             0.7,
             "#b8e186"
            ],
            [
             0.8,
             "#7fbc41"
            ],
            [
             0.9,
             "#4d9221"
            ],
            [
             1,
             "#276419"
            ]
           ],
           "sequential": [
            [
             0,
             "#0d0887"
            ],
            [
             0.1111111111111111,
             "#46039f"
            ],
            [
             0.2222222222222222,
             "#7201a8"
            ],
            [
             0.3333333333333333,
             "#9c179e"
            ],
            [
             0.4444444444444444,
             "#bd3786"
            ],
            [
             0.5555555555555556,
             "#d8576b"
            ],
            [
             0.6666666666666666,
             "#ed7953"
            ],
            [
             0.7777777777777778,
             "#fb9f3a"
            ],
            [
             0.8888888888888888,
             "#fdca26"
            ],
            [
             1,
             "#f0f921"
            ]
           ],
           "sequentialminus": [
            [
             0,
             "#0d0887"
            ],
            [
             0.1111111111111111,
             "#46039f"
            ],
            [
             0.2222222222222222,
             "#7201a8"
            ],
            [
             0.3333333333333333,
             "#9c179e"
            ],
            [
             0.4444444444444444,
             "#bd3786"
            ],
            [
             0.5555555555555556,
             "#d8576b"
            ],
            [
             0.6666666666666666,
             "#ed7953"
            ],
            [
             0.7777777777777778,
             "#fb9f3a"
            ],
            [
             0.8888888888888888,
             "#fdca26"
            ],
            [
             1,
             "#f0f921"
            ]
           ]
          },
          "colorway": [
           "#636efa",
           "#EF553B",
           "#00cc96",
           "#ab63fa",
           "#FFA15A",
           "#19d3f3",
           "#FF6692",
           "#B6E880",
           "#FF97FF",
           "#FECB52"
          ],
          "font": {
           "color": "#2a3f5f"
          },
          "geo": {
           "bgcolor": "white",
           "lakecolor": "white",
           "landcolor": "#E5ECF6",
           "showlakes": true,
           "showland": true,
           "subunitcolor": "white"
          },
          "hoverlabel": {
           "align": "left"
          },
          "hovermode": "closest",
          "mapbox": {
           "style": "light"
          },
          "paper_bgcolor": "white",
          "plot_bgcolor": "#E5ECF6",
          "polar": {
           "angularaxis": {
            "gridcolor": "white",
            "linecolor": "white",
            "ticks": ""
           },
           "bgcolor": "#E5ECF6",
           "radialaxis": {
            "gridcolor": "white",
            "linecolor": "white",
            "ticks": ""
           }
          },
          "scene": {
           "xaxis": {
            "backgroundcolor": "#E5ECF6",
            "gridcolor": "white",
            "gridwidth": 2,
            "linecolor": "white",
            "showbackground": true,
            "ticks": "",
            "zerolinecolor": "white"
           },
           "yaxis": {
            "backgroundcolor": "#E5ECF6",
            "gridcolor": "white",
            "gridwidth": 2,
            "linecolor": "white",
            "showbackground": true,
            "ticks": "",
            "zerolinecolor": "white"
           },
           "zaxis": {
            "backgroundcolor": "#E5ECF6",
            "gridcolor": "white",
            "gridwidth": 2,
            "linecolor": "white",
            "showbackground": true,
            "ticks": "",
            "zerolinecolor": "white"
           }
          },
          "shapedefaults": {
           "line": {
            "color": "#2a3f5f"
           }
          },
          "ternary": {
           "aaxis": {
            "gridcolor": "white",
            "linecolor": "white",
            "ticks": ""
           },
           "baxis": {
            "gridcolor": "white",
            "linecolor": "white",
            "ticks": ""
           },
           "bgcolor": "#E5ECF6",
           "caxis": {
            "gridcolor": "white",
            "linecolor": "white",
            "ticks": ""
           }
          },
          "title": {
           "x": 0.05
          },
          "xaxis": {
           "automargin": true,
           "gridcolor": "white",
           "linecolor": "white",
           "ticks": "",
           "title": {
            "standoff": 15
           },
           "zerolinecolor": "white",
           "zerolinewidth": 2
          },
          "yaxis": {
           "automargin": true,
           "gridcolor": "white",
           "linecolor": "white",
           "ticks": "",
           "title": {
            "standoff": 15
           },
           "zerolinecolor": "white",
           "zerolinewidth": 2
          }
         }
        },
        "width": 1000
       }
      }
     },
     "metadata": {},
     "output_type": "display_data"
    }
   ],
   "source": [
    "\n",
    "title = \"Waterfront Properties in King County Close to City Centers\"\n",
    "\n",
    "lats = df_on_waterfront.lat\n",
    "lons = df_on_waterfront.long\n",
    "\n",
    "fig = px.scatter_mapbox(df_on_waterfront, \n",
    "                        lat=lats, \n",
    "                        lon=lons,\n",
    "                        hover_data=[\"price\"], \n",
    "                        size='price',\n",
    "                        color='price',\n",
    "                        color_continuous_scale=px.colors.carto.Sunsetdark,\n",
    "                        zoom=9.5\n",
    "                        )\n",
    "\n",
    "fig.update_geos(fitbounds=\"locations\")\n",
    "fig.update_layout(height=1000, width=1000)\n",
    "fig.update_layout(mapbox_style=\"open-street-map\")\n",
    "fig.update_layout(margin={\"r\":50,\"t\":50,\"l\":50,\"b\":50})\n",
    "\n",
    "fig.show()"
   ]
  },
  {
   "cell_type": "markdown",
   "metadata": {},
   "source": [
    "### Calculate the distance from City Centers of Seattle and Bellevue"
   ]
  },
  {
   "cell_type": "code",
   "execution_count": 553,
   "metadata": {},
   "outputs": [],
   "source": [
    "\n",
    "\n",
    "CONST_SEATTLE_CENTER = 47.608013, -122.335167\n",
    "CONST_BELLEVUE_CENTER = 47.610378, -122.200676\n",
    "\n",
    "\n",
    "df_on_waterfront['distance_seattle_center'] = [haversine((row.lat, row.long), CONST_SEATTLE_CENTER, Unit.MILES) for _, row in df_on_waterfront[['lat', 'long']].iterrows()]\n",
    "df_on_waterfront['distance_bellevue_center'] = [haversine((row.lat, row.long), CONST_BELLEVUE_CENTER, Unit.MILES) for _, row in df_on_waterfront[['lat', 'long']].iterrows()]\n",
    "\n",
    "# data is clean\n",
    "# df_on_waterfront['waterfront'].describe()\n"
   ]
  },
  {
   "cell_type": "code",
   "execution_count": 554,
   "metadata": {},
   "outputs": [
    {
     "data": {
      "application/vnd.plotly.v1+json": {
       "config": {
        "plotlyServerURL": "https://plot.ly"
       },
       "data": [
        {
         "customdata": [
          [
           1350000
          ],
          [
           655000
          ],
          [
           2400000
          ],
          [
           369900
          ],
          [
           3080000
          ],
          [
           705000
          ],
          [
           2130000
          ],
          [
           3070000
          ],
          [
           825000
          ],
          [
           1960000
          ],
          [
           790000
          ],
          [
           5110000
          ],
          [
           290000
          ],
          [
           995000
          ],
          [
           5300000
          ],
          [
           2200000
          ],
          [
           1180000
          ],
          [
           1700000
          ],
          [
           960000
          ],
          [
           480000
          ],
          [
           1200000
          ],
          [
           3850000
          ],
          [
           1700000
          ],
          [
           1650000
          ],
          [
           1370000
          ],
          [
           3280000
          ],
          [
           4500000
          ],
          [
           3600000
          ],
          [
           999000
          ],
          [
           1900000
          ],
          [
           700000
          ],
          [
           1000000
          ],
          [
           7060000
          ],
          [
           1380000
          ],
          [
           2400000
          ],
          [
           1880000
          ],
          [
           1570000
          ],
          [
           1160000
          ],
          [
           1150000
          ],
          [
           1710000
          ],
          [
           2000000
          ],
          [
           2490000
          ],
          [
           1850000
          ],
          [
           1600000
          ],
          [
           1850000
          ],
          [
           1100000
          ],
          [
           340000
          ],
          [
           2200000
          ],
          [
           2900000
          ],
          [
           1340000
          ],
          [
           3650000
          ],
          [
           2700000
          ],
          [
           3100000
          ],
          [
           1150000
          ],
          [
           1900000
          ],
          [
           3400000
          ],
          [
           1850000
          ],
          [
           4670000
          ],
          [
           503000
          ],
          [
           1450000
          ],
          [
           949950
          ],
          [
           1250000
          ],
          [
           1800000
          ],
          [
           650000
          ],
          [
           1360000
          ],
          [
           1960000
          ],
          [
           1190000
          ],
          [
           629000
          ],
          [
           985000
          ],
          [
           2700000
          ],
          [
           3120000
          ],
          [
           1580000
          ],
          [
           1660000
          ],
          [
           1180000
          ],
          [
           750000
          ],
          [
           2560000
          ],
          [
           3000000
          ],
          [
           2300000
          ],
          [
           950000
          ],
          [
           2750000
          ],
          [
           357000
          ],
          [
           770000
          ],
          [
           1900000
          ],
          [
           2000000
          ],
          [
           835000
          ],
          [
           685000
          ],
          [
           500000
          ],
          [
           635000
          ],
          [
           2600000
          ],
          [
           3400000
          ],
          [
           3300000
          ],
          [
           947500
          ],
          [
           600000
          ],
          [
           2230000
          ],
          [
           1300000
          ],
          [
           1610000
          ],
          [
           2600000
          ],
          [
           465000
          ],
          [
           3640000
          ],
          [
           520000
          ],
          [
           658000
          ],
          [
           840500
          ],
          [
           1650000
          ],
          [
           3200000
          ],
          [
           1800000
          ],
          [
           1680000
          ],
          [
           1640000
          ],
          [
           700000
          ],
          [
           1340000
          ],
          [
           1600000
          ],
          [
           1310000
          ],
          [
           1200000
          ],
          [
           869000
          ],
          [
           750000
          ],
          [
           340000
          ],
          [
           800000
          ],
          [
           750000
          ],
          [
           540000
          ],
          [
           2510000
          ],
          [
           820000
          ],
          [
           2050000
          ],
          [
           975000
          ],
          [
           1600000
          ],
          [
           528000
          ],
          [
           3300000
          ],
          [
           285000
          ],
          [
           2700000
          ],
          [
           2950000
          ],
          [
           570000
          ],
          [
           1230000
          ],
          [
           1700000
          ],
          [
           1680000
          ],
          [
           380000
          ],
          [
           1400000
          ],
          [
           385000
          ],
          [
           615000
          ],
          [
           1410000
          ],
          [
           1150000
          ],
          [
           988500
          ],
          [
           1900000
          ],
          [
           3000000
          ],
          [
           2300000
          ],
          [
           2230000
          ],
          [
           3570000
          ]
         ],
         "hovertemplate": "price=%{marker.color}<br>lat=%{lat}<br>long=%{lon}<extra></extra>",
         "lat": [
          47.4041,
          47.4497,
          47.6338,
          47.4683,
          47.6053,
          47.3844,
          47.4169,
          47.7022,
          47.502,
          47.7165,
          47.5105,
          47.6767,
          47.4339,
          47.4734,
          47.5631,
          47.6393,
          47.7345,
          47.5115,
          47.645,
          47.3853,
          47.5779,
          47.585,
          47.5883,
          47.5487,
          47.5684,
          47.6042,
          47.7493,
          47.5925,
          47.3782,
          47.4485,
          47.5117,
          47.5488,
          47.65,
          47.3907,
          47.5884,
          47.6699,
          47.5169,
          47.488,
          47.3344,
          47.5596,
          47.5682,
          47.5636,
          47.5784,
          47.5894,
          47.7404,
          47.5033,
          47.4285,
          47.5554,
          47.5379,
          47.5489,
          47.6515,
          47.5919,
          47.5716,
          47.6307,
          47.5395,
          47.5348,
          47.5571,
          47.557,
          47.3276,
          47.5686,
          47.5193,
          47.5814,
          47.5466,
          47.3554,
          47.7142,
          47.5287,
          47.7134,
          47.3311,
          47.4499,
          47.6803,
          47.6997,
          47.4414,
          47.525,
          47.5495,
          47.5022,
          47.661,
          47.7011,
          47.6934,
          47.3881,
          47.5968,
          47.3811,
          47.4536,
          47.5924,
          47.6092,
          47.3571,
          47.4502,
          47.3799,
          47.459,
          47.5696,
          47.6967,
          47.605,
          47.4522,
          47.358,
          47.5516,
          47.7729,
          47.5316,
          47.5721,
          47.4728,
          47.6409,
          47.3648,
          47.5476,
          47.5114,
          47.6163,
          47.5928,
          47.7519,
          47.7561,
          47.4418,
          47.5121,
          47.7308,
          47.7434,
          47.4396,
          47.502,
          47.5121,
          47.4996,
          47.4557,
          47.373,
          47.4,
          47.4997,
          47.4558,
          47.3573,
          47.7087,
          47.4969,
          47.704,
          47.404,
          47.6083,
          47.4716,
          47.572,
          47.6608,
          47.3509,
          47.3535,
          47.6361,
          47.7265,
          47.4551,
          47.5895,
          47.4012,
          47.3979,
          47.5036,
          47.7336,
          47.45,
          47.6318,
          47.5283,
          47.5724,
          47.5285,
          47.5943
         ],
         "legendgroup": "",
         "lon": [
          -122.451,
          -122.375,
          -122.072,
          -122.438,
          -122.077,
          -122.438,
          -122.348,
          -122.224,
          -122.222,
          -122.259,
          -122.238,
          -122.211,
          -122.512,
          -122.365,
          -122.21,
          -122.097,
          -122.285,
          -122.246,
          -122.084,
          -122.479,
          -122.246,
          -122.222,
          -122.111,
          -122.197,
          -122.06,
          -122.112,
          -122.28,
          -122.287,
          -122.514,
          -122.369,
          -122.248,
          -122.197,
          -122.214,
          -122.448,
          -122.086,
          -122.416,
          -122.209,
          -122.364,
          -122.37,
          -122.403,
          -122.059,
          -122.231,
          -122.076,
          -122.111,
          -122.284,
          -122.225,
          -122.511,
          -122.077,
          -122.264,
          -122.398,
          -122.277,
          -122.251,
          -122.204,
          -122.088,
          -122.21,
          -122.243,
          -122.193,
          -122.21,
          -122.389,
          -122.06,
          -122.257,
          -122.081,
          -122.197,
          -122.324,
          -122.277,
          -122.22,
          -122.277,
          -122.375,
          -122.376,
          -122.214,
          -122.24,
          -122.354,
          -122.393,
          -122.398,
          -122.223,
          -122.269,
          -122.244,
          -122.271,
          -122.326,
          -122.083,
          -122.325,
          -122.376,
          -122.287,
          -122.073,
          -122.324,
          -122.378,
          -122.325,
          -122.504,
          -122.09,
          -122.216,
          -122.112,
          -122.378,
          -122.446,
          -122.398,
          -122.393,
          -122.263,
          -122.239,
          -122.497,
          -122.241,
          -122.325,
          -122.399,
          -122.245,
          -122.068,
          -122.086,
          -122.276,
          -122.271,
          -122.354,
          -122.248,
          -122.282,
          -122.263,
          -122.353,
          -122.385,
          -122.248,
          -122.378,
          -122.443,
          -122.464,
          -122.42,
          -122.379,
          -122.371,
          -122.324,
          -122.276,
          -122.376,
          -122.245,
          -122.447,
          -122.11,
          -122.445,
          -122.102,
          -122.269,
          -122.323,
          -122.323,
          -122.093,
          -122.281,
          -122.373,
          -122.111,
          -122.425,
          -122.465,
          -122.387,
          -122.284,
          -122.377,
          -122.071,
          -122.205,
          -122.104,
          -122.205,
          -122.11
         ],
         "marker": {
          "color": [
           1350000,
           655000,
           2400000,
           369900,
           3080000,
           705000,
           2130000,
           3070000,
           825000,
           1960000,
           790000,
           5110000,
           290000,
           995000,
           5300000,
           2200000,
           1180000,
           1700000,
           960000,
           480000,
           1200000,
           3850000,
           1700000,
           1650000,
           1370000,
           3280000,
           4500000,
           3600000,
           999000,
           1900000,
           700000,
           1000000,
           7060000,
           1380000,
           2400000,
           1880000,
           1570000,
           1160000,
           1150000,
           1710000,
           2000000,
           2490000,
           1850000,
           1600000,
           1850000,
           1100000,
           340000,
           2200000,
           2900000,
           1340000,
           3650000,
           2700000,
           3100000,
           1150000,
           1900000,
           3400000,
           1850000,
           4670000,
           503000,
           1450000,
           949950,
           1250000,
           1800000,
           650000,
           1360000,
           1960000,
           1190000,
           629000,
           985000,
           2700000,
           3120000,
           1580000,
           1660000,
           1180000,
           750000,
           2560000,
           3000000,
           2300000,
           950000,
           2750000,
           357000,
           770000,
           1900000,
           2000000,
           835000,
           685000,
           500000,
           635000,
           2600000,
           3400000,
           3300000,
           947500,
           600000,
           2230000,
           1300000,
           1610000,
           2600000,
           465000,
           3640000,
           520000,
           658000,
           840500,
           1650000,
           3200000,
           1800000,
           1680000,
           1640000,
           700000,
           1340000,
           1600000,
           1310000,
           1200000,
           869000,
           750000,
           340000,
           800000,
           750000,
           540000,
           2510000,
           820000,
           2050000,
           975000,
           1600000,
           528000,
           3300000,
           285000,
           2700000,
           2950000,
           570000,
           1230000,
           1700000,
           1680000,
           380000,
           1400000,
           385000,
           615000,
           1410000,
           1150000,
           988500,
           1900000,
           3000000,
           2300000,
           2230000,
           3570000
          ],
          "coloraxis": "coloraxis",
          "size": [
           1350000,
           655000,
           2400000,
           369900,
           3080000,
           705000,
           2130000,
           3070000,
           825000,
           1960000,
           790000,
           5110000,
           290000,
           995000,
           5300000,
           2200000,
           1180000,
           1700000,
           960000,
           480000,
           1200000,
           3850000,
           1700000,
           1650000,
           1370000,
           3280000,
           4500000,
           3600000,
           999000,
           1900000,
           700000,
           1000000,
           7060000,
           1380000,
           2400000,
           1880000,
           1570000,
           1160000,
           1150000,
           1710000,
           2000000,
           2490000,
           1850000,
           1600000,
           1850000,
           1100000,
           340000,
           2200000,
           2900000,
           1340000,
           3650000,
           2700000,
           3100000,
           1150000,
           1900000,
           3400000,
           1850000,
           4670000,
           503000,
           1450000,
           949950,
           1250000,
           1800000,
           650000,
           1360000,
           1960000,
           1190000,
           629000,
           985000,
           2700000,
           3120000,
           1580000,
           1660000,
           1180000,
           750000,
           2560000,
           3000000,
           2300000,
           950000,
           2750000,
           357000,
           770000,
           1900000,
           2000000,
           835000,
           685000,
           500000,
           635000,
           2600000,
           3400000,
           3300000,
           947500,
           600000,
           2230000,
           1300000,
           1610000,
           2600000,
           465000,
           3640000,
           520000,
           658000,
           840500,
           1650000,
           3200000,
           1800000,
           1680000,
           1640000,
           700000,
           1340000,
           1600000,
           1310000,
           1200000,
           869000,
           750000,
           340000,
           800000,
           750000,
           540000,
           2510000,
           820000,
           2050000,
           975000,
           1600000,
           528000,
           3300000,
           285000,
           2700000,
           2950000,
           570000,
           1230000,
           1700000,
           1680000,
           380000,
           1400000,
           385000,
           615000,
           1410000,
           1150000,
           988500,
           1900000,
           3000000,
           2300000,
           2230000,
           3570000
          ],
          "sizemode": "area",
          "sizeref": 17650
         },
         "mode": "markers",
         "name": "",
         "showlegend": false,
         "subplot": "mapbox",
         "type": "scattermapbox"
        }
       ],
       "layout": {
        "coloraxis": {
         "colorbar": {
          "title": {
           "text": "price"
          }
         },
         "colorscale": [
          [
           0,
           "rgb(237, 217, 163)"
          ],
          [
           0.16666666666666666,
           "rgb(246, 169, 122)"
          ],
          [
           0.3333333333333333,
           "rgb(250, 120, 118)"
          ],
          [
           0.5,
           "rgb(234, 79, 136)"
          ],
          [
           0.6666666666666666,
           "rgb(192, 54, 157)"
          ],
          [
           0.8333333333333334,
           "rgb(135, 44, 162)"
          ],
          [
           1,
           "rgb(75, 41, 145)"
          ]
         ]
        },
        "geo": {
         "fitbounds": "locations"
        },
        "height": 700,
        "legend": {
         "itemsizing": "constant",
         "tracegroupgap": 0
        },
        "mapbox": {
         "center": {
          "lat": 47.54255416666667,
          "lon": -122.2749861111111
         },
         "domain": {
          "x": [
           0,
           1
          ],
          "y": [
           0,
           1
          ]
         },
         "style": "open-street-map",
         "zoom": 9.5
        },
        "margin": {
         "b": 50,
         "l": 50,
         "r": 50,
         "t": 50
        },
        "template": {
         "data": {
          "bar": [
           {
            "error_x": {
             "color": "#2a3f5f"
            },
            "error_y": {
             "color": "#2a3f5f"
            },
            "marker": {
             "line": {
              "color": "#E5ECF6",
              "width": 0.5
             },
             "pattern": {
              "fillmode": "overlay",
              "size": 10,
              "solidity": 0.2
             }
            },
            "type": "bar"
           }
          ],
          "barpolar": [
           {
            "marker": {
             "line": {
              "color": "#E5ECF6",
              "width": 0.5
             },
             "pattern": {
              "fillmode": "overlay",
              "size": 10,
              "solidity": 0.2
             }
            },
            "type": "barpolar"
           }
          ],
          "carpet": [
           {
            "aaxis": {
             "endlinecolor": "#2a3f5f",
             "gridcolor": "white",
             "linecolor": "white",
             "minorgridcolor": "white",
             "startlinecolor": "#2a3f5f"
            },
            "baxis": {
             "endlinecolor": "#2a3f5f",
             "gridcolor": "white",
             "linecolor": "white",
             "minorgridcolor": "white",
             "startlinecolor": "#2a3f5f"
            },
            "type": "carpet"
           }
          ],
          "choropleth": [
           {
            "colorbar": {
             "outlinewidth": 0,
             "ticks": ""
            },
            "type": "choropleth"
           }
          ],
          "contour": [
           {
            "colorbar": {
             "outlinewidth": 0,
             "ticks": ""
            },
            "colorscale": [
             [
              0,
              "#0d0887"
             ],
             [
              0.1111111111111111,
              "#46039f"
             ],
             [
              0.2222222222222222,
              "#7201a8"
             ],
             [
              0.3333333333333333,
              "#9c179e"
             ],
             [
              0.4444444444444444,
              "#bd3786"
             ],
             [
              0.5555555555555556,
              "#d8576b"
             ],
             [
              0.6666666666666666,
              "#ed7953"
             ],
             [
              0.7777777777777778,
              "#fb9f3a"
             ],
             [
              0.8888888888888888,
              "#fdca26"
             ],
             [
              1,
              "#f0f921"
             ]
            ],
            "type": "contour"
           }
          ],
          "contourcarpet": [
           {
            "colorbar": {
             "outlinewidth": 0,
             "ticks": ""
            },
            "type": "contourcarpet"
           }
          ],
          "heatmap": [
           {
            "colorbar": {
             "outlinewidth": 0,
             "ticks": ""
            },
            "colorscale": [
             [
              0,
              "#0d0887"
             ],
             [
              0.1111111111111111,
              "#46039f"
             ],
             [
              0.2222222222222222,
              "#7201a8"
             ],
             [
              0.3333333333333333,
              "#9c179e"
             ],
             [
              0.4444444444444444,
              "#bd3786"
             ],
             [
              0.5555555555555556,
              "#d8576b"
             ],
             [
              0.6666666666666666,
              "#ed7953"
             ],
             [
              0.7777777777777778,
              "#fb9f3a"
             ],
             [
              0.8888888888888888,
              "#fdca26"
             ],
             [
              1,
              "#f0f921"
             ]
            ],
            "type": "heatmap"
           }
          ],
          "heatmapgl": [
           {
            "colorbar": {
             "outlinewidth": 0,
             "ticks": ""
            },
            "colorscale": [
             [
              0,
              "#0d0887"
             ],
             [
              0.1111111111111111,
              "#46039f"
             ],
             [
              0.2222222222222222,
              "#7201a8"
             ],
             [
              0.3333333333333333,
              "#9c179e"
             ],
             [
              0.4444444444444444,
              "#bd3786"
             ],
             [
              0.5555555555555556,
              "#d8576b"
             ],
             [
              0.6666666666666666,
              "#ed7953"
             ],
             [
              0.7777777777777778,
              "#fb9f3a"
             ],
             [
              0.8888888888888888,
              "#fdca26"
             ],
             [
              1,
              "#f0f921"
             ]
            ],
            "type": "heatmapgl"
           }
          ],
          "histogram": [
           {
            "marker": {
             "pattern": {
              "fillmode": "overlay",
              "size": 10,
              "solidity": 0.2
             }
            },
            "type": "histogram"
           }
          ],
          "histogram2d": [
           {
            "colorbar": {
             "outlinewidth": 0,
             "ticks": ""
            },
            "colorscale": [
             [
              0,
              "#0d0887"
             ],
             [
              0.1111111111111111,
              "#46039f"
             ],
             [
              0.2222222222222222,
              "#7201a8"
             ],
             [
              0.3333333333333333,
              "#9c179e"
             ],
             [
              0.4444444444444444,
              "#bd3786"
             ],
             [
              0.5555555555555556,
              "#d8576b"
             ],
             [
              0.6666666666666666,
              "#ed7953"
             ],
             [
              0.7777777777777778,
              "#fb9f3a"
             ],
             [
              0.8888888888888888,
              "#fdca26"
             ],
             [
              1,
              "#f0f921"
             ]
            ],
            "type": "histogram2d"
           }
          ],
          "histogram2dcontour": [
           {
            "colorbar": {
             "outlinewidth": 0,
             "ticks": ""
            },
            "colorscale": [
             [
              0,
              "#0d0887"
             ],
             [
              0.1111111111111111,
              "#46039f"
             ],
             [
              0.2222222222222222,
              "#7201a8"
             ],
             [
              0.3333333333333333,
              "#9c179e"
             ],
             [
              0.4444444444444444,
              "#bd3786"
             ],
             [
              0.5555555555555556,
              "#d8576b"
             ],
             [
              0.6666666666666666,
              "#ed7953"
             ],
             [
              0.7777777777777778,
              "#fb9f3a"
             ],
             [
              0.8888888888888888,
              "#fdca26"
             ],
             [
              1,
              "#f0f921"
             ]
            ],
            "type": "histogram2dcontour"
           }
          ],
          "mesh3d": [
           {
            "colorbar": {
             "outlinewidth": 0,
             "ticks": ""
            },
            "type": "mesh3d"
           }
          ],
          "parcoords": [
           {
            "line": {
             "colorbar": {
              "outlinewidth": 0,
              "ticks": ""
             }
            },
            "type": "parcoords"
           }
          ],
          "pie": [
           {
            "automargin": true,
            "type": "pie"
           }
          ],
          "scatter": [
           {
            "fillpattern": {
             "fillmode": "overlay",
             "size": 10,
             "solidity": 0.2
            },
            "type": "scatter"
           }
          ],
          "scatter3d": [
           {
            "line": {
             "colorbar": {
              "outlinewidth": 0,
              "ticks": ""
             }
            },
            "marker": {
             "colorbar": {
              "outlinewidth": 0,
              "ticks": ""
             }
            },
            "type": "scatter3d"
           }
          ],
          "scattercarpet": [
           {
            "marker": {
             "colorbar": {
              "outlinewidth": 0,
              "ticks": ""
             }
            },
            "type": "scattercarpet"
           }
          ],
          "scattergeo": [
           {
            "marker": {
             "colorbar": {
              "outlinewidth": 0,
              "ticks": ""
             }
            },
            "type": "scattergeo"
           }
          ],
          "scattergl": [
           {
            "marker": {
             "colorbar": {
              "outlinewidth": 0,
              "ticks": ""
             }
            },
            "type": "scattergl"
           }
          ],
          "scattermapbox": [
           {
            "marker": {
             "colorbar": {
              "outlinewidth": 0,
              "ticks": ""
             }
            },
            "type": "scattermapbox"
           }
          ],
          "scatterpolar": [
           {
            "marker": {
             "colorbar": {
              "outlinewidth": 0,
              "ticks": ""
             }
            },
            "type": "scatterpolar"
           }
          ],
          "scatterpolargl": [
           {
            "marker": {
             "colorbar": {
              "outlinewidth": 0,
              "ticks": ""
             }
            },
            "type": "scatterpolargl"
           }
          ],
          "scatterternary": [
           {
            "marker": {
             "colorbar": {
              "outlinewidth": 0,
              "ticks": ""
             }
            },
            "type": "scatterternary"
           }
          ],
          "surface": [
           {
            "colorbar": {
             "outlinewidth": 0,
             "ticks": ""
            },
            "colorscale": [
             [
              0,
              "#0d0887"
             ],
             [
              0.1111111111111111,
              "#46039f"
             ],
             [
              0.2222222222222222,
              "#7201a8"
             ],
             [
              0.3333333333333333,
              "#9c179e"
             ],
             [
              0.4444444444444444,
              "#bd3786"
             ],
             [
              0.5555555555555556,
              "#d8576b"
             ],
             [
              0.6666666666666666,
              "#ed7953"
             ],
             [
              0.7777777777777778,
              "#fb9f3a"
             ],
             [
              0.8888888888888888,
              "#fdca26"
             ],
             [
              1,
              "#f0f921"
             ]
            ],
            "type": "surface"
           }
          ],
          "table": [
           {
            "cells": {
             "fill": {
              "color": "#EBF0F8"
             },
             "line": {
              "color": "white"
             }
            },
            "header": {
             "fill": {
              "color": "#C8D4E3"
             },
             "line": {
              "color": "white"
             }
            },
            "type": "table"
           }
          ]
         },
         "layout": {
          "annotationdefaults": {
           "arrowcolor": "#2a3f5f",
           "arrowhead": 0,
           "arrowwidth": 1
          },
          "autotypenumbers": "strict",
          "coloraxis": {
           "colorbar": {
            "outlinewidth": 0,
            "ticks": ""
           }
          },
          "colorscale": {
           "diverging": [
            [
             0,
             "#8e0152"
            ],
            [
             0.1,
             "#c51b7d"
            ],
            [
             0.2,
             "#de77ae"
            ],
            [
             0.3,
             "#f1b6da"
            ],
            [
             0.4,
             "#fde0ef"
            ],
            [
             0.5,
             "#f7f7f7"
            ],
            [
             0.6,
             "#e6f5d0"
            ],
            [
             0.7,
             "#b8e186"
            ],
            [
             0.8,
             "#7fbc41"
            ],
            [
             0.9,
             "#4d9221"
            ],
            [
             1,
             "#276419"
            ]
           ],
           "sequential": [
            [
             0,
             "#0d0887"
            ],
            [
             0.1111111111111111,
             "#46039f"
            ],
            [
             0.2222222222222222,
             "#7201a8"
            ],
            [
             0.3333333333333333,
             "#9c179e"
            ],
            [
             0.4444444444444444,
             "#bd3786"
            ],
            [
             0.5555555555555556,
             "#d8576b"
            ],
            [
             0.6666666666666666,
             "#ed7953"
            ],
            [
             0.7777777777777778,
             "#fb9f3a"
            ],
            [
             0.8888888888888888,
             "#fdca26"
            ],
            [
             1,
             "#f0f921"
            ]
           ],
           "sequentialminus": [
            [
             0,
             "#0d0887"
            ],
            [
             0.1111111111111111,
             "#46039f"
            ],
            [
             0.2222222222222222,
             "#7201a8"
            ],
            [
             0.3333333333333333,
             "#9c179e"
            ],
            [
             0.4444444444444444,
             "#bd3786"
            ],
            [
             0.5555555555555556,
             "#d8576b"
            ],
            [
             0.6666666666666666,
             "#ed7953"
            ],
            [
             0.7777777777777778,
             "#fb9f3a"
            ],
            [
             0.8888888888888888,
             "#fdca26"
            ],
            [
             1,
             "#f0f921"
            ]
           ]
          },
          "colorway": [
           "#636efa",
           "#EF553B",
           "#00cc96",
           "#ab63fa",
           "#FFA15A",
           "#19d3f3",
           "#FF6692",
           "#B6E880",
           "#FF97FF",
           "#FECB52"
          ],
          "font": {
           "color": "#2a3f5f"
          },
          "geo": {
           "bgcolor": "white",
           "lakecolor": "white",
           "landcolor": "#E5ECF6",
           "showlakes": true,
           "showland": true,
           "subunitcolor": "white"
          },
          "hoverlabel": {
           "align": "left"
          },
          "hovermode": "closest",
          "mapbox": {
           "style": "light"
          },
          "paper_bgcolor": "white",
          "plot_bgcolor": "#E5ECF6",
          "polar": {
           "angularaxis": {
            "gridcolor": "white",
            "linecolor": "white",
            "ticks": ""
           },
           "bgcolor": "#E5ECF6",
           "radialaxis": {
            "gridcolor": "white",
            "linecolor": "white",
            "ticks": ""
           }
          },
          "scene": {
           "xaxis": {
            "backgroundcolor": "#E5ECF6",
            "gridcolor": "white",
            "gridwidth": 2,
            "linecolor": "white",
            "showbackground": true,
            "ticks": "",
            "zerolinecolor": "white"
           },
           "yaxis": {
            "backgroundcolor": "#E5ECF6",
            "gridcolor": "white",
            "gridwidth": 2,
            "linecolor": "white",
            "showbackground": true,
            "ticks": "",
            "zerolinecolor": "white"
           },
           "zaxis": {
            "backgroundcolor": "#E5ECF6",
            "gridcolor": "white",
            "gridwidth": 2,
            "linecolor": "white",
            "showbackground": true,
            "ticks": "",
            "zerolinecolor": "white"
           }
          },
          "shapedefaults": {
           "line": {
            "color": "#2a3f5f"
           }
          },
          "ternary": {
           "aaxis": {
            "gridcolor": "white",
            "linecolor": "white",
            "ticks": ""
           },
           "baxis": {
            "gridcolor": "white",
            "linecolor": "white",
            "ticks": ""
           },
           "bgcolor": "#E5ECF6",
           "caxis": {
            "gridcolor": "white",
            "linecolor": "white",
            "ticks": ""
           }
          },
          "title": {
           "x": 0.05
          },
          "xaxis": {
           "automargin": true,
           "gridcolor": "white",
           "linecolor": "white",
           "ticks": "",
           "title": {
            "standoff": 15
           },
           "zerolinecolor": "white",
           "zerolinewidth": 2
          },
          "yaxis": {
           "automargin": true,
           "gridcolor": "white",
           "linecolor": "white",
           "ticks": "",
           "title": {
            "standoff": 15
           },
           "zerolinecolor": "white",
           "zerolinewidth": 2
          }
         }
        },
        "title": {
         "text": "Properties in Seattle"
        },
        "width": 700
       }
      }
     },
     "metadata": {},
     "output_type": "display_data"
    }
   ],
   "source": [
    "df_city_distance_20 = df_on_waterfront[(df_on_waterfront['distance_seattle_center'] < 20) | (df_on_waterfront['distance_bellevue_center'] < 20)]\n",
    "\n",
    "title = \"Properties in Seattle\"\n",
    "\n",
    "lats = df_city_distance_20.lat\n",
    "lons = df_city_distance_20.long\n",
    "\n",
    "fig = px.scatter_mapbox(df_city_distance_20, \n",
    "                        lat=lats, \n",
    "                        lon=lons,\n",
    "                        hover_data=[\"price\"], \n",
    "                        size='price',\n",
    "                        color='price',\n",
    "                        color_continuous_scale=px.colors.carto.Agsunset_r, \n",
    "                        zoom=9.5,\n",
    "                        title=title\n",
    "                        )\n",
    "\n",
    "fig.update_geos(fitbounds=\"locations\")\n",
    "fig.update_layout(height=700, width=700)\n",
    "fig.update_layout(mapbox_style=\"open-street-map\")\n",
    "fig.update_layout(margin={\"r\":50,\"t\":50,\"l\":50,\"b\":50})\n",
    "\n",
    "fig.show()"
   ]
  },
  {
   "cell_type": "markdown",
   "metadata": {},
   "source": [
    "## Getting all properties that are 30 miles or less from Seattle OR Bellevue\n",
    "\n",
    "### Thesis - Proximity to City Center influences Price?\n",
    "\n",
    "Question: If the waterfront house is closer to the city center, is the price higher?\n",
    "\n",
    "Findings: \n",
    "\n",
    "1. Only slightly - Prices are distributed quite evenly\n",
    "2. Prices are Influenced by distance in Bellevue\n",
    "3. Prices don't vary much when farther from Seattly city center"
   ]
  },
  {
   "cell_type": "code",
   "execution_count": 555,
   "metadata": {},
   "outputs": [
    {
     "data": {
      "image/png": "[encoded data removed]",
      "text/plain": [
       "<Figure size 1000x700 with 1 Axes>"
      ]
     },
     "metadata": {},
     "output_type": "display_data"
    }
   ],
   "source": [
    "distance = 25\n",
    "df_city_distance = df_on_waterfront[(df_on_waterfront['distance_seattle_center'] < distance) | (df_on_waterfront['distance_bellevue_center'] < distance)]\n",
    "distance_seattle = df_city_distance[['distance_seattle_center']]\n",
    "distance_bellevue = df_city_distance['distance_bellevue_center']\n",
    "price = df_city_distance['price']\n",
    "\n",
    "plt.style.use( 'seaborn-v0_8-pastel')\n",
    "\n",
    "fig, ax = plt.subplots(figsize=(10, 7))\n",
    "\n",
    "ax.scatter(distance_seattle, price, alpha=1)\n",
    "ax.scatter(distance_bellevue, price, alpha=1)\n",
    "ax.set_title('Prices vs Distance from City Center', fontsize=14)\n",
    "ax.set_ylabel('Price in $')\n",
    "ax.set_xlabel('Distance from City Centers of Seattle or Bellevue (Miles)')\n",
    "\n",
    "ax.tick_params(right=False, left=True, axis='y', color='r', length=16,\n",
    "                grid_color='r')\n",
    "ax.tick_params(axis='x', color='m', length=4, direction='in', width=4,\n",
    "                labelcolor='r', grid_color='r')\n",
    "ax.ticklabel_format(style=\"plain\", axis=\"y\")  \n",
    "\n",
    "plt.show()"
   ]
  },
  {
   "cell_type": "code",
   "execution_count": 560,
   "metadata": {},
   "outputs": [
    {
     "data": {
      "text/plain": [
       "count       146.000\n",
       "mean    1717214.726\n",
       "std     1145384.857\n",
       "min      285000.000\n",
       "25%      827500.000\n",
       "50%     1510000.000\n",
       "75%     2282500.000\n",
       "max     7060000.000\n",
       "Name: price, dtype: float64"
      ]
     },
     "execution_count": 560,
     "metadata": {},
     "output_type": "execute_result"
    }
   ],
   "source": [
    "df_on_waterfront['price'].describe()\n"
   ]
  },
  {
   "cell_type": "markdown",
   "metadata": {},
   "source": [
    "### It should be Nice & Isolated \n",
    "\n",
    "Question:\n",
    "\n",
    "1. Is it isolated when sqft_lot is big?\n",
    "2. Is nice a good condition and a good view?\n",
    "3. Is isolated that the other lots are also big?"
   ]
  },
  {
   "cell_type": "code",
   "execution_count": 563,
   "metadata": {},
   "outputs": [
    {
     "data": {
      "text/html": [
       "<div>\n",
       "<style scoped>\n",
       "    .dataframe tbody tr th:only-of-type {\n",
       "        vertical-align: middle;\n",
       "    }\n",
       "\n",
       "    .dataframe tbody tr th {\n",
       "        vertical-align: top;\n",
       "    }\n",
       "\n",
       "    .dataframe thead th {\n",
       "        text-align: right;\n",
       "    }\n",
       "</style>\n",
       "<table border=\"1\" class=\"dataframe\">\n",
       "  <thead>\n",
       "    <tr style=\"text-align: right;\">\n",
       "      <th></th>\n",
       "      <th>id</th>\n",
       "      <th>bedrooms</th>\n",
       "      <th>bathrooms</th>\n",
       "      <th>sqft_living</th>\n",
       "      <th>sqft_lot</th>\n",
       "      <th>floors</th>\n",
       "      <th>waterfront</th>\n",
       "      <th>view</th>\n",
       "      <th>condition</th>\n",
       "      <th>grade</th>\n",
       "      <th>...</th>\n",
       "      <th>lat</th>\n",
       "      <th>long</th>\n",
       "      <th>sqft_living15</th>\n",
       "      <th>sqft_lot15</th>\n",
       "      <th>date</th>\n",
       "      <th>price</th>\n",
       "      <th>house_id</th>\n",
       "      <th>sale_id</th>\n",
       "      <th>distance_seattle_center</th>\n",
       "      <th>distance_bellevue_center</th>\n",
       "    </tr>\n",
       "  </thead>\n",
       "  <tbody>\n",
       "    <tr>\n",
       "      <th>49</th>\n",
       "      <td>822039084</td>\n",
       "      <td>3.000</td>\n",
       "      <td>2.500</td>\n",
       "      <td>2753.000</td>\n",
       "      <td>65005.000</td>\n",
       "      <td>1.000</td>\n",
       "      <td>1.000</td>\n",
       "      <td>2.000</td>\n",
       "      <td>5</td>\n",
       "      <td>9</td>\n",
       "      <td>...</td>\n",
       "      <td>47.404</td>\n",
       "      <td>-122.451</td>\n",
       "      <td>2680.000</td>\n",
       "      <td>72513.000</td>\n",
       "      <td>2015-03-11</td>\n",
       "      <td>1350000.000</td>\n",
       "      <td>822039084</td>\n",
       "      <td>50</td>\n",
       "      <td>15.091</td>\n",
       "      <td>18.429</td>\n",
       "    </tr>\n",
       "    <tr>\n",
       "      <th>230</th>\n",
       "      <td>8096000060</td>\n",
       "      <td>2.000</td>\n",
       "      <td>1.750</td>\n",
       "      <td>1450.000</td>\n",
       "      <td>15798.000</td>\n",
       "      <td>2.000</td>\n",
       "      <td>1.000</td>\n",
       "      <td>4.000</td>\n",
       "      <td>3</td>\n",
       "      <td>7</td>\n",
       "      <td>...</td>\n",
       "      <td>47.450</td>\n",
       "      <td>-122.375</td>\n",
       "      <td>2030.000</td>\n",
       "      <td>13193.000</td>\n",
       "      <td>2015-04-13</td>\n",
       "      <td>655000.000</td>\n",
       "      <td>8096000060</td>\n",
       "      <td>231</td>\n",
       "      <td>11.095</td>\n",
       "      <td>13.762</td>\n",
       "    </tr>\n",
       "    <tr>\n",
       "      <th>246</th>\n",
       "      <td>2025069065</td>\n",
       "      <td>4.000</td>\n",
       "      <td>2.500</td>\n",
       "      <td>3650.000</td>\n",
       "      <td>8354.000</td>\n",
       "      <td>1.000</td>\n",
       "      <td>1.000</td>\n",
       "      <td>4.000</td>\n",
       "      <td>3</td>\n",
       "      <td>9</td>\n",
       "      <td>...</td>\n",
       "      <td>47.634</td>\n",
       "      <td>-122.072</td>\n",
       "      <td>3120.000</td>\n",
       "      <td>18841.000</td>\n",
       "      <td>2014-09-29</td>\n",
       "      <td>2400000.000</td>\n",
       "      <td>2025069065</td>\n",
       "      <td>247</td>\n",
       "      <td>12.385</td>\n",
       "      <td>6.207</td>\n",
       "    </tr>\n",
       "    <tr>\n",
       "      <th>264</th>\n",
       "      <td>2123039032</td>\n",
       "      <td>1.000</td>\n",
       "      <td>0.750</td>\n",
       "      <td>760.000</td>\n",
       "      <td>10079.000</td>\n",
       "      <td>1.000</td>\n",
       "      <td>1.000</td>\n",
       "      <td>4.000</td>\n",
       "      <td>5</td>\n",
       "      <td>5</td>\n",
       "      <td>...</td>\n",
       "      <td>47.468</td>\n",
       "      <td>-122.438</td>\n",
       "      <td>1230.000</td>\n",
       "      <td>14267.000</td>\n",
       "      <td>2014-10-27</td>\n",
       "      <td>369900.000</td>\n",
       "      <td>2123039032</td>\n",
       "      <td>265</td>\n",
       "      <td>10.779</td>\n",
       "      <td>14.795</td>\n",
       "    </tr>\n",
       "    <tr>\n",
       "      <th>300</th>\n",
       "      <td>3225069065</td>\n",
       "      <td>4.000</td>\n",
       "      <td>5.000</td>\n",
       "      <td>4550.000</td>\n",
       "      <td>18641.000</td>\n",
       "      <td>1.000</td>\n",
       "      <td>1.000</td>\n",
       "      <td>4.000</td>\n",
       "      <td>3</td>\n",
       "      <td>10</td>\n",
       "      <td>...</td>\n",
       "      <td>47.605</td>\n",
       "      <td>-122.077</td>\n",
       "      <td>4550.000</td>\n",
       "      <td>19508.000</td>\n",
       "      <td>2014-06-24</td>\n",
       "      <td>3080000.000</td>\n",
       "      <td>3225069065</td>\n",
       "      <td>301</td>\n",
       "      <td>12.028</td>\n",
       "      <td>5.772</td>\n",
       "    </tr>\n",
       "    <tr>\n",
       "      <th>...</th>\n",
       "      <td>...</td>\n",
       "      <td>...</td>\n",
       "      <td>...</td>\n",
       "      <td>...</td>\n",
       "      <td>...</td>\n",
       "      <td>...</td>\n",
       "      <td>...</td>\n",
       "      <td>...</td>\n",
       "      <td>...</td>\n",
       "      <td>...</td>\n",
       "      <td>...</td>\n",
       "      <td>...</td>\n",
       "      <td>...</td>\n",
       "      <td>...</td>\n",
       "      <td>...</td>\n",
       "      <td>...</td>\n",
       "      <td>...</td>\n",
       "      <td>...</td>\n",
       "      <td>...</td>\n",
       "      <td>...</td>\n",
       "      <td>...</td>\n",
       "    </tr>\n",
       "    <tr>\n",
       "      <th>19968</th>\n",
       "      <td>2025069140</td>\n",
       "      <td>3.000</td>\n",
       "      <td>2.500</td>\n",
       "      <td>2830.000</td>\n",
       "      <td>4334.000</td>\n",
       "      <td>3.000</td>\n",
       "      <td>1.000</td>\n",
       "      <td>4.000</td>\n",
       "      <td>3</td>\n",
       "      <td>10</td>\n",
       "      <td>...</td>\n",
       "      <td>47.632</td>\n",
       "      <td>-122.071</td>\n",
       "      <td>2830.000</td>\n",
       "      <td>38211.000</td>\n",
       "      <td>2015-03-17</td>\n",
       "      <td>1900000.000</td>\n",
       "      <td>2025069140</td>\n",
       "      <td>19969</td>\n",
       "      <td>12.412</td>\n",
       "      <td>6.218</td>\n",
       "    </tr>\n",
       "    <tr>\n",
       "      <th>20309</th>\n",
       "      <td>518500480</td>\n",
       "      <td>3.000</td>\n",
       "      <td>3.500</td>\n",
       "      <td>4410.000</td>\n",
       "      <td>10756.000</td>\n",
       "      <td>2.000</td>\n",
       "      <td>1.000</td>\n",
       "      <td>4.000</td>\n",
       "      <td>3</td>\n",
       "      <td>11</td>\n",
       "      <td>...</td>\n",
       "      <td>47.528</td>\n",
       "      <td>-122.205</td>\n",
       "      <td>3550.000</td>\n",
       "      <td>5634.000</td>\n",
       "      <td>2014-08-11</td>\n",
       "      <td>3000000.000</td>\n",
       "      <td>518500480</td>\n",
       "      <td>20310</td>\n",
       "      <td>8.195</td>\n",
       "      <td>5.675</td>\n",
       "    </tr>\n",
       "    <tr>\n",
       "      <th>20751</th>\n",
       "      <td>8043700105</td>\n",
       "      <td>4.000</td>\n",
       "      <td>4.000</td>\n",
       "      <td>4360.000</td>\n",
       "      <td>8175.000</td>\n",
       "      <td>2.500</td>\n",
       "      <td>1.000</td>\n",
       "      <td>4.000</td>\n",
       "      <td>3</td>\n",
       "      <td>10</td>\n",
       "      <td>...</td>\n",
       "      <td>47.572</td>\n",
       "      <td>-122.104</td>\n",
       "      <td>2670.000</td>\n",
       "      <td>8525.000</td>\n",
       "      <td>2015-04-17</td>\n",
       "      <td>2300000.000</td>\n",
       "      <td>8043700105</td>\n",
       "      <td>20752</td>\n",
       "      <td>11.050</td>\n",
       "      <td>5.213</td>\n",
       "    </tr>\n",
       "    <tr>\n",
       "      <th>21185</th>\n",
       "      <td>518500460</td>\n",
       "      <td>3.000</td>\n",
       "      <td>3.500</td>\n",
       "      <td>3760.000</td>\n",
       "      <td>5634.000</td>\n",
       "      <td>2.000</td>\n",
       "      <td>1.000</td>\n",
       "      <td>4.000</td>\n",
       "      <td>3</td>\n",
       "      <td>11</td>\n",
       "      <td>...</td>\n",
       "      <td>47.529</td>\n",
       "      <td>-122.205</td>\n",
       "      <td>3560.000</td>\n",
       "      <td>5762.000</td>\n",
       "      <td>2014-10-08</td>\n",
       "      <td>2230000.000</td>\n",
       "      <td>518500460</td>\n",
       "      <td>21186</td>\n",
       "      <td>8.186</td>\n",
       "      <td>5.661</td>\n",
       "    </tr>\n",
       "    <tr>\n",
       "      <th>21560</th>\n",
       "      <td>9253900271</td>\n",
       "      <td>5.000</td>\n",
       "      <td>4.500</td>\n",
       "      <td>4850.000</td>\n",
       "      <td>10584.000</td>\n",
       "      <td>2.000</td>\n",
       "      <td>1.000</td>\n",
       "      <td>4.000</td>\n",
       "      <td>3</td>\n",
       "      <td>10</td>\n",
       "      <td>...</td>\n",
       "      <td>47.594</td>\n",
       "      <td>-122.110</td>\n",
       "      <td>3470.000</td>\n",
       "      <td>18270.000</td>\n",
       "      <td>2015-01-07</td>\n",
       "      <td>3570000.000</td>\n",
       "      <td>9253900271</td>\n",
       "      <td>21561</td>\n",
       "      <td>10.533</td>\n",
       "      <td>4.368</td>\n",
       "    </tr>\n",
       "  </tbody>\n",
       "</table>\n",
       "<p>146 rows × 25 columns</p>\n",
       "</div>"
      ],
      "text/plain": [
       "               id  bedrooms  bathrooms  sqft_living  sqft_lot  floors  \\\n",
       "49      822039084     3.000      2.500     2753.000 65005.000   1.000   \n",
       "230    8096000060     2.000      1.750     1450.000 15798.000   2.000   \n",
       "246    2025069065     4.000      2.500     3650.000  8354.000   1.000   \n",
       "264    2123039032     1.000      0.750      760.000 10079.000   1.000   \n",
       "300    3225069065     4.000      5.000     4550.000 18641.000   1.000   \n",
       "...           ...       ...        ...          ...       ...     ...   \n",
       "19968  2025069140     3.000      2.500     2830.000  4334.000   3.000   \n",
       "20309   518500480     3.000      3.500     4410.000 10756.000   2.000   \n",
       "20751  8043700105     4.000      4.000     4360.000  8175.000   2.500   \n",
       "21185   518500460     3.000      3.500     3760.000  5634.000   2.000   \n",
       "21560  9253900271     5.000      4.500     4850.000 10584.000   2.000   \n",
       "\n",
       "       waterfront  view  condition  grade  ...    lat     long  sqft_living15  \\\n",
       "49          1.000 2.000          5      9  ... 47.404 -122.451       2680.000   \n",
       "230         1.000 4.000          3      7  ... 47.450 -122.375       2030.000   \n",
       "246         1.000 4.000          3      9  ... 47.634 -122.072       3120.000   \n",
       "264         1.000 4.000          5      5  ... 47.468 -122.438       1230.000   \n",
       "300         1.000 4.000          3     10  ... 47.605 -122.077       4550.000   \n",
       "...           ...   ...        ...    ...  ...    ...      ...            ...   \n",
       "19968       1.000 4.000          3     10  ... 47.632 -122.071       2830.000   \n",
       "20309       1.000 4.000          3     11  ... 47.528 -122.205       3550.000   \n",
       "20751       1.000 4.000          3     10  ... 47.572 -122.104       2670.000   \n",
       "21185       1.000 4.000          3     11  ... 47.529 -122.205       3560.000   \n",
       "21560       1.000 4.000          3     10  ... 47.594 -122.110       3470.000   \n",
       "\n",
       "       sqft_lot15       date       price    house_id  sale_id  \\\n",
       "49      72513.000 2015-03-11 1350000.000   822039084       50   \n",
       "230     13193.000 2015-04-13  655000.000  8096000060      231   \n",
       "246     18841.000 2014-09-29 2400000.000  2025069065      247   \n",
       "264     14267.000 2014-10-27  369900.000  2123039032      265   \n",
       "300     19508.000 2014-06-24 3080000.000  3225069065      301   \n",
       "...           ...        ...         ...         ...      ...   \n",
       "19968   38211.000 2015-03-17 1900000.000  2025069140    19969   \n",
       "20309    5634.000 2014-08-11 3000000.000   518500480    20310   \n",
       "20751    8525.000 2015-04-17 2300000.000  8043700105    20752   \n",
       "21185    5762.000 2014-10-08 2230000.000   518500460    21186   \n",
       "21560   18270.000 2015-01-07 3570000.000  9253900271    21561   \n",
       "\n",
       "       distance_seattle_center distance_bellevue_center  \n",
       "49                      15.091                   18.429  \n",
       "230                     11.095                   13.762  \n",
       "246                     12.385                    6.207  \n",
       "264                     10.779                   14.795  \n",
       "300                     12.028                    5.772  \n",
       "...                        ...                      ...  \n",
       "19968                   12.412                    6.218  \n",
       "20309                    8.195                    5.675  \n",
       "20751                   11.050                    5.213  \n",
       "21185                    8.186                    5.661  \n",
       "21560                   10.533                    4.368  \n",
       "\n",
       "[146 rows x 25 columns]"
      ]
     },
     "execution_count": 563,
     "metadata": {},
     "output_type": "execute_result"
    }
   ],
   "source": [
    "df_on_waterfront"
   ]
  },
  {
   "cell_type": "code",
   "execution_count": 606,
   "metadata": {},
   "outputs": [
    {
     "data": {
      "text/plain": [
       "condition\n",
       "1    658000.000\n",
       "2   2560000.000\n",
       "3   1802661.875\n",
       "4   1579260.870\n",
       "5   1702022.222\n",
       "Name: price, dtype: float64"
      ]
     },
     "execution_count": 606,
     "metadata": {},
     "output_type": "execute_result"
    },
    {
     "data": {
      "image/png": "[encoded data removed]",
      "text/plain": [
       "<Figure size 800x500 with 1 Axes>"
      ]
     },
     "metadata": {},
     "output_type": "display_data"
    },
    {
     "data": {
      "image/png": "[encoded data removed]",
      "text/plain": [
       "<Figure size 800x500 with 1 Axes>"
      ]
     },
     "metadata": {},
     "output_type": "display_data"
    }
   ],
   "source": [
    "smaller_lot_sizes = df_on_waterfront[df_on_waterfront['sqft_lot'] < 100000]\n",
    "smaller_lot_sizes.plot(kind='scatter', y='sqft_lot15', x='sqft_lot')\n",
    "smaller_lot_sizes.plot(kind='scatter', x='sqft_lot15', y='price')"
   ]
  },
  {
   "cell_type": "code",
   "execution_count": 607,
   "metadata": {},
   "outputs": [
    {
     "data": {
      "text/plain": [
       "view\n",
       "1.000    635000.000\n",
       "2.000   2029642.857\n",
       "3.000   1222785.714\n",
       "4.000   1735380.894\n",
       "Name: price, dtype: float64"
      ]
     },
     "execution_count": 607,
     "metadata": {},
     "output_type": "execute_result"
    }
   ],
   "source": [
    "df_view_group = df_on_waterfront.groupby('view')\n",
    "df_view_group['price'].mean()"
   ]
  },
  {
   "cell_type": "code",
   "execution_count": 608,
   "metadata": {},
   "outputs": [
    {
     "data": {
      "text/plain": [
       "condition\n",
       "1    658000.000\n",
       "2   2560000.000\n",
       "3   1802661.875\n",
       "4   1579260.870\n",
       "5   1702022.222\n",
       "Name: price, dtype: float64"
      ]
     },
     "execution_count": 608,
     "metadata": {},
     "output_type": "execute_result"
    }
   ],
   "source": [
    "df_condition_group = df_on_waterfront.groupby('condition')\n",
    "condition_mean = df_condition_group['price'].mean()"
   ]
  },
  {
   "cell_type": "markdown",
   "metadata": {},
   "source": [
    "#### So let's define what's nice.\n",
    "\n",
    "1. We should have some kind of view, so at least 3\n",
    "2. Condition shouldn't be too bad, as he's a father of at least two, so maybe no time to renovate the house - at least 3\n",
    "3. The budget is limited, so we need to sort it"
   ]
  },
  {
   "cell_type": "code",
   "execution_count": 629,
   "metadata": {},
   "outputs": [
    {
     "name": "stdout",
     "output_type": "stream",
     "text": [
      "2282500.0\n"
     ]
    },
    {
     "data": {
      "application/vnd.plotly.v1+json": {
       "config": {
        "plotlyServerURL": "https://plot.ly"
       },
       "data": [
        {
         "customdata": [
          [
           1650000
          ],
          [
           1880000
          ],
          [
           1570000
          ],
          [
           1710000
          ],
          [
           1600000
          ],
          [
           2200000
          ],
          [
           1900000
          ],
          [
           1800000
          ],
          [
           2000000
          ],
          [
           2230000
          ],
          [
           1610000
          ],
          [
           1700000
          ],
          [
           1900000
          ],
          [
           2230000
          ]
         ],
         "hovertemplate": "price=%{marker.color}<br>lat=%{lat}<br>long=%{lon}<extra></extra>",
         "lat": [
          47.5487,
          47.6699,
          47.5169,
          47.5596,
          47.5894,
          47.5554,
          47.5395,
          47.5466,
          47.6092,
          47.5516,
          47.5316,
          47.6361,
          47.6318,
          47.5285
         ],
         "legendgroup": "",
         "lon": [
          -122.197,
          -122.416,
          -122.209,
          -122.403,
          -122.111,
          -122.077,
          -122.21,
          -122.197,
          -122.073,
          -122.398,
          -122.263,
          -122.093,
          -122.071,
          -122.205
         ],
         "marker": {
          "color": [
           1650000,
           1880000,
           1570000,
           1710000,
           1600000,
           2200000,
           1900000,
           1800000,
           2000000,
           2230000,
           1610000,
           1700000,
           1900000,
           2230000
          ],
          "coloraxis": "coloraxis",
          "size": [
           1650000,
           1880000,
           1570000,
           1710000,
           1600000,
           2200000,
           1900000,
           1800000,
           2000000,
           2230000,
           1610000,
           1700000,
           1900000,
           2230000
          ],
          "sizemode": "area",
          "sizeref": 5575
         },
         "mode": "markers",
         "name": "",
         "showlegend": false,
         "subplot": "mapbox",
         "type": "scattermapbox"
        }
       ],
       "layout": {
        "coloraxis": {
         "colorbar": {
          "title": {
           "text": "price"
          }
         },
         "colorscale": [
          [
           0,
           "rgb(237, 217, 163)"
          ],
          [
           0.16666666666666666,
           "rgb(246, 169, 122)"
          ],
          [
           0.3333333333333333,
           "rgb(250, 120, 118)"
          ],
          [
           0.5,
           "rgb(234, 79, 136)"
          ],
          [
           0.6666666666666666,
           "rgb(192, 54, 157)"
          ],
          [
           0.8333333333333334,
           "rgb(135, 44, 162)"
          ],
          [
           1,
           "rgb(75, 41, 145)"
          ]
         ]
        },
        "geo": {
         "fitbounds": "locations"
        },
        "height": 700,
        "legend": {
         "itemsizing": "constant",
         "tracegroupgap": 0
        },
        "mapbox": {
         "center": {
          "lat": 47.57248571428571,
          "lon": -122.2087857142857
         },
         "domain": {
          "x": [
           0,
           1
          ],
          "y": [
           0,
           1
          ]
         },
         "style": "open-street-map",
         "zoom": 9.5
        },
        "margin": {
         "b": 50,
         "l": 50,
         "r": 50,
         "t": 50
        },
        "template": {
         "data": {
          "bar": [
           {
            "error_x": {
             "color": "#2a3f5f"
            },
            "error_y": {
             "color": "#2a3f5f"
            },
            "marker": {
             "line": {
              "color": "#E5ECF6",
              "width": 0.5
             },
             "pattern": {
              "fillmode": "overlay",
              "size": 10,
              "solidity": 0.2
             }
            },
            "type": "bar"
           }
          ],
          "barpolar": [
           {
            "marker": {
             "line": {
              "color": "#E5ECF6",
              "width": 0.5
             },
             "pattern": {
              "fillmode": "overlay",
              "size": 10,
              "solidity": 0.2
             }
            },
            "type": "barpolar"
           }
          ],
          "carpet": [
           {
            "aaxis": {
             "endlinecolor": "#2a3f5f",
             "gridcolor": "white",
             "linecolor": "white",
             "minorgridcolor": "white",
             "startlinecolor": "#2a3f5f"
            },
            "baxis": {
             "endlinecolor": "#2a3f5f",
             "gridcolor": "white",
             "linecolor": "white",
             "minorgridcolor": "white",
             "startlinecolor": "#2a3f5f"
            },
            "type": "carpet"
           }
          ],
          "choropleth": [
           {
            "colorbar": {
             "outlinewidth": 0,
             "ticks": ""
            },
            "type": "choropleth"
           }
          ],
          "contour": [
           {
            "colorbar": {
             "outlinewidth": 0,
             "ticks": ""
            },
            "colorscale": [
             [
              0,
              "#0d0887"
             ],
             [
              0.1111111111111111,
              "#46039f"
             ],
             [
              0.2222222222222222,
              "#7201a8"
             ],
             [
              0.3333333333333333,
              "#9c179e"
             ],
             [
              0.4444444444444444,
              "#bd3786"
             ],
             [
              0.5555555555555556,
              "#d8576b"
             ],
             [
              0.6666666666666666,
              "#ed7953"
             ],
             [
              0.7777777777777778,
              "#fb9f3a"
             ],
             [
              0.8888888888888888,
              "#fdca26"
             ],
             [
              1,
              "#f0f921"
             ]
            ],
            "type": "contour"
           }
          ],
          "contourcarpet": [
           {
            "colorbar": {
             "outlinewidth": 0,
             "ticks": ""
            },
            "type": "contourcarpet"
           }
          ],
          "heatmap": [
           {
            "colorbar": {
             "outlinewidth": 0,
             "ticks": ""
            },
            "colorscale": [
             [
              0,
              "#0d0887"
             ],
             [
              0.1111111111111111,
              "#46039f"
             ],
             [
              0.2222222222222222,
              "#7201a8"
             ],
             [
              0.3333333333333333,
              "#9c179e"
             ],
             [
              0.4444444444444444,
              "#bd3786"
             ],
             [
              0.5555555555555556,
              "#d8576b"
             ],
             [
              0.6666666666666666,
              "#ed7953"
             ],
             [
              0.7777777777777778,
              "#fb9f3a"
             ],
             [
              0.8888888888888888,
              "#fdca26"
             ],
             [
              1,
              "#f0f921"
             ]
            ],
            "type": "heatmap"
           }
          ],
          "heatmapgl": [
           {
            "colorbar": {
             "outlinewidth": 0,
             "ticks": ""
            },
            "colorscale": [
             [
              0,
              "#0d0887"
             ],
             [
              0.1111111111111111,
              "#46039f"
             ],
             [
              0.2222222222222222,
              "#7201a8"
             ],
             [
              0.3333333333333333,
              "#9c179e"
             ],
             [
              0.4444444444444444,
              "#bd3786"
             ],
             [
              0.5555555555555556,
              "#d8576b"
             ],
             [
              0.6666666666666666,
              "#ed7953"
             ],
             [
              0.7777777777777778,
              "#fb9f3a"
             ],
             [
              0.8888888888888888,
              "#fdca26"
             ],
             [
              1,
              "#f0f921"
             ]
            ],
            "type": "heatmapgl"
           }
          ],
          "histogram": [
           {
            "marker": {
             "pattern": {
              "fillmode": "overlay",
              "size": 10,
              "solidity": 0.2
             }
            },
            "type": "histogram"
           }
          ],
          "histogram2d": [
           {
            "colorbar": {
             "outlinewidth": 0,
             "ticks": ""
            },
            "colorscale": [
             [
              0,
              "#0d0887"
             ],
             [
              0.1111111111111111,
              "#46039f"
             ],
             [
              0.2222222222222222,
              "#7201a8"
             ],
             [
              0.3333333333333333,
              "#9c179e"
             ],
             [
              0.4444444444444444,
              "#bd3786"
             ],
             [
              0.5555555555555556,
              "#d8576b"
             ],
             [
              0.6666666666666666,
              "#ed7953"
             ],
             [
              0.7777777777777778,
              "#fb9f3a"
             ],
             [
              0.8888888888888888,
              "#fdca26"
             ],
             [
              1,
              "#f0f921"
             ]
            ],
            "type": "histogram2d"
           }
          ],
          "histogram2dcontour": [
           {
            "colorbar": {
             "outlinewidth": 0,
             "ticks": ""
            },
            "colorscale": [
             [
              0,
              "#0d0887"
             ],
             [
              0.1111111111111111,
              "#46039f"
             ],
             [
              0.2222222222222222,
              "#7201a8"
             ],
             [
              0.3333333333333333,
              "#9c179e"
             ],
             [
              0.4444444444444444,
              "#bd3786"
             ],
             [
              0.5555555555555556,
              "#d8576b"
             ],
             [
              0.6666666666666666,
              "#ed7953"
             ],
             [
              0.7777777777777778,
              "#fb9f3a"
             ],
             [
              0.8888888888888888,
              "#fdca26"
             ],
             [
              1,
              "#f0f921"
             ]
            ],
            "type": "histogram2dcontour"
           }
          ],
          "mesh3d": [
           {
            "colorbar": {
             "outlinewidth": 0,
             "ticks": ""
            },
            "type": "mesh3d"
           }
          ],
          "parcoords": [
           {
            "line": {
             "colorbar": {
              "outlinewidth": 0,
              "ticks": ""
             }
            },
            "type": "parcoords"
           }
          ],
          "pie": [
           {
            "automargin": true,
            "type": "pie"
           }
          ],
          "scatter": [
           {
            "fillpattern": {
             "fillmode": "overlay",
             "size": 10,
             "solidity": 0.2
            },
            "type": "scatter"
           }
          ],
          "scatter3d": [
           {
            "line": {
             "colorbar": {
              "outlinewidth": 0,
              "ticks": ""
             }
            },
            "marker": {
             "colorbar": {
              "outlinewidth": 0,
              "ticks": ""
             }
            },
            "type": "scatter3d"
           }
          ],
          "scattercarpet": [
           {
            "marker": {
             "colorbar": {
              "outlinewidth": 0,
              "ticks": ""
             }
            },
            "type": "scattercarpet"
           }
          ],
          "scattergeo": [
           {
            "marker": {
             "colorbar": {
              "outlinewidth": 0,
              "ticks": ""
             }
            },
            "type": "scattergeo"
           }
          ],
          "scattergl": [
           {
            "marker": {
             "colorbar": {
              "outlinewidth": 0,
              "ticks": ""
             }
            },
            "type": "scattergl"
           }
          ],
          "scattermapbox": [
           {
            "marker": {
             "colorbar": {
              "outlinewidth": 0,
              "ticks": ""
             }
            },
            "type": "scattermapbox"
           }
          ],
          "scatterpolar": [
           {
            "marker": {
             "colorbar": {
              "outlinewidth": 0,
              "ticks": ""
             }
            },
            "type": "scatterpolar"
           }
          ],
          "scatterpolargl": [
           {
            "marker": {
             "colorbar": {
              "outlinewidth": 0,
              "ticks": ""
             }
            },
            "type": "scatterpolargl"
           }
          ],
          "scatterternary": [
           {
            "marker": {
             "colorbar": {
              "outlinewidth": 0,
              "ticks": ""
             }
            },
            "type": "scatterternary"
           }
          ],
          "surface": [
           {
            "colorbar": {
             "outlinewidth": 0,
             "ticks": ""
            },
            "colorscale": [
             [
              0,
              "#0d0887"
             ],
             [
              0.1111111111111111,
              "#46039f"
             ],
             [
              0.2222222222222222,
              "#7201a8"
             ],
             [
              0.3333333333333333,
              "#9c179e"
             ],
             [
              0.4444444444444444,
              "#bd3786"
             ],
             [
              0.5555555555555556,
              "#d8576b"
             ],
             [
              0.6666666666666666,
              "#ed7953"
             ],
             [
              0.7777777777777778,
              "#fb9f3a"
             ],
             [
              0.8888888888888888,
              "#fdca26"
             ],
             [
              1,
              "#f0f921"
             ]
            ],
            "type": "surface"
           }
          ],
          "table": [
           {
            "cells": {
             "fill": {
              "color": "#EBF0F8"
             },
             "line": {
              "color": "white"
             }
            },
            "header": {
             "fill": {
              "color": "#C8D4E3"
             },
             "line": {
              "color": "white"
             }
            },
            "type": "table"
           }
          ]
         },
         "layout": {
          "annotationdefaults": {
           "arrowcolor": "#2a3f5f",
           "arrowhead": 0,
           "arrowwidth": 1
          },
          "autotypenumbers": "strict",
          "coloraxis": {
           "colorbar": {
            "outlinewidth": 0,
            "ticks": ""
           }
          },
          "colorscale": {
           "diverging": [
            [
             0,
             "#8e0152"
            ],
            [
             0.1,
             "#c51b7d"
            ],
            [
             0.2,
             "#de77ae"
            ],
            [
             0.3,
             "#f1b6da"
            ],
            [
             0.4,
             "#fde0ef"
            ],
            [
             0.5,
             "#f7f7f7"
            ],
            [
             0.6,
             "#e6f5d0"
            ],
            [
             0.7,
             "#b8e186"
            ],
            [
             0.8,
             "#7fbc41"
            ],
            [
             0.9,
             "#4d9221"
            ],
            [
             1,
             "#276419"
            ]
           ],
           "sequential": [
            [
             0,
             "#0d0887"
            ],
            [
             0.1111111111111111,
             "#46039f"
            ],
            [
             0.2222222222222222,
             "#7201a8"
            ],
            [
             0.3333333333333333,
             "#9c179e"
            ],
            [
             0.4444444444444444,
             "#bd3786"
            ],
            [
             0.5555555555555556,
             "#d8576b"
            ],
            [
             0.6666666666666666,
             "#ed7953"
            ],
            [
             0.7777777777777778,
             "#fb9f3a"
            ],
            [
             0.8888888888888888,
             "#fdca26"
            ],
            [
             1,
             "#f0f921"
            ]
           ],
           "sequentialminus": [
            [
             0,
             "#0d0887"
            ],
            [
             0.1111111111111111,
             "#46039f"
            ],
            [
             0.2222222222222222,
             "#7201a8"
            ],
            [
             0.3333333333333333,
             "#9c179e"
            ],
            [
             0.4444444444444444,
             "#bd3786"
            ],
            [
             0.5555555555555556,
             "#d8576b"
            ],
            [
             0.6666666666666666,
             "#ed7953"
            ],
            [
             0.7777777777777778,
             "#fb9f3a"
            ],
            [
             0.8888888888888888,
             "#fdca26"
            ],
            [
             1,
             "#f0f921"
            ]
           ]
          },
          "colorway": [
           "#636efa",
           "#EF553B",
           "#00cc96",
           "#ab63fa",
           "#FFA15A",
           "#19d3f3",
           "#FF6692",
           "#B6E880",
           "#FF97FF",
           "#FECB52"
          ],
          "font": {
           "color": "#2a3f5f"
          },
          "geo": {
           "bgcolor": "white",
           "lakecolor": "white",
           "landcolor": "#E5ECF6",
           "showlakes": true,
           "showland": true,
           "subunitcolor": "white"
          },
          "hoverlabel": {
           "align": "left"
          },
          "hovermode": "closest",
          "mapbox": {
           "style": "light"
          },
          "paper_bgcolor": "white",
          "plot_bgcolor": "#E5ECF6",
          "polar": {
           "angularaxis": {
            "gridcolor": "white",
            "linecolor": "white",
            "ticks": ""
           },
           "bgcolor": "#E5ECF6",
           "radialaxis": {
            "gridcolor": "white",
            "linecolor": "white",
            "ticks": ""
           }
          },
          "scene": {
           "xaxis": {
            "backgroundcolor": "#E5ECF6",
            "gridcolor": "white",
            "gridwidth": 2,
            "linecolor": "white",
            "showbackground": true,
            "ticks": "",
            "zerolinecolor": "white"
           },
           "yaxis": {
            "backgroundcolor": "#E5ECF6",
            "gridcolor": "white",
            "gridwidth": 2,
            "linecolor": "white",
            "showbackground": true,
            "ticks": "",
            "zerolinecolor": "white"
           },
           "zaxis": {
            "backgroundcolor": "#E5ECF6",
            "gridcolor": "white",
            "gridwidth": 2,
            "linecolor": "white",
            "showbackground": true,
            "ticks": "",
            "zerolinecolor": "white"
           }
          },
          "shapedefaults": {
           "line": {
            "color": "#2a3f5f"
           }
          },
          "ternary": {
           "aaxis": {
            "gridcolor": "white",
            "linecolor": "white",
            "ticks": ""
           },
           "baxis": {
            "gridcolor": "white",
            "linecolor": "white",
            "ticks": ""
           },
           "bgcolor": "#E5ECF6",
           "caxis": {
            "gridcolor": "white",
            "linecolor": "white",
            "ticks": ""
           }
          },
          "title": {
           "x": 0.05
          },
          "xaxis": {
           "automargin": true,
           "gridcolor": "white",
           "linecolor": "white",
           "ticks": "",
           "title": {
            "standoff": 15
           },
           "zerolinecolor": "white",
           "zerolinewidth": 2
          },
          "yaxis": {
           "automargin": true,
           "gridcolor": "white",
           "linecolor": "white",
           "ticks": "",
           "title": {
            "standoff": 15
           },
           "zerolinecolor": "white",
           "zerolinewidth": 2
          }
         }
        },
        "title": {
         "text": "Properties in Seattle"
        },
        "width": 700
       }
      }
     },
     "metadata": {},
     "output_type": "display_data"
    },
    {
     "data": {
      "text/html": [
       "<div>\n",
       "<style scoped>\n",
       "    .dataframe tbody tr th:only-of-type {\n",
       "        vertical-align: middle;\n",
       "    }\n",
       "\n",
       "    .dataframe tbody tr th {\n",
       "        vertical-align: top;\n",
       "    }\n",
       "\n",
       "    .dataframe thead th {\n",
       "        text-align: right;\n",
       "    }\n",
       "</style>\n",
       "<table border=\"1\" class=\"dataframe\">\n",
       "  <thead>\n",
       "    <tr style=\"text-align: right;\">\n",
       "      <th></th>\n",
       "      <th>id</th>\n",
       "      <th>bedrooms</th>\n",
       "      <th>bathrooms</th>\n",
       "      <th>sqft_living</th>\n",
       "      <th>sqft_lot</th>\n",
       "      <th>floors</th>\n",
       "      <th>waterfront</th>\n",
       "      <th>view</th>\n",
       "      <th>condition</th>\n",
       "      <th>grade</th>\n",
       "      <th>...</th>\n",
       "      <th>lat</th>\n",
       "      <th>long</th>\n",
       "      <th>sqft_living15</th>\n",
       "      <th>sqft_lot15</th>\n",
       "      <th>date</th>\n",
       "      <th>price</th>\n",
       "      <th>house_id</th>\n",
       "      <th>sale_id</th>\n",
       "      <th>distance_seattle_center</th>\n",
       "      <th>distance_bellevue_center</th>\n",
       "    </tr>\n",
       "  </thead>\n",
       "  <tbody>\n",
       "    <tr>\n",
       "      <th>2177</th>\n",
       "      <td>3343301920</td>\n",
       "      <td>3.000</td>\n",
       "      <td>2.750</td>\n",
       "      <td>2690.000</td>\n",
       "      <td>8890.000</td>\n",
       "      <td>2.000</td>\n",
       "      <td>1.000</td>\n",
       "      <td>4.000</td>\n",
       "      <td>4</td>\n",
       "      <td>10</td>\n",
       "      <td>...</td>\n",
       "      <td>47.549</td>\n",
       "      <td>-122.197</td>\n",
       "      <td>2940.000</td>\n",
       "      <td>8890.000</td>\n",
       "      <td>2015-03-02</td>\n",
       "      <td>1650000.000</td>\n",
       "      <td>3343301920</td>\n",
       "      <td>2178</td>\n",
       "      <td>7.633</td>\n",
       "      <td>4.265</td>\n",
       "    </tr>\n",
       "    <tr>\n",
       "      <th>4214</th>\n",
       "      <td>1025039086</td>\n",
       "      <td>3.000</td>\n",
       "      <td>2.500</td>\n",
       "      <td>3280.000</td>\n",
       "      <td>29111.000</td>\n",
       "      <td>2.000</td>\n",
       "      <td>1.000</td>\n",
       "      <td>3.000</td>\n",
       "      <td>3</td>\n",
       "      <td>11</td>\n",
       "      <td>...</td>\n",
       "      <td>47.670</td>\n",
       "      <td>-122.416</td>\n",
       "      <td>3530.000</td>\n",
       "      <td>21074.000</td>\n",
       "      <td>2014-09-16</td>\n",
       "      <td>1880000.000</td>\n",
       "      <td>1025039086</td>\n",
       "      <td>4215</td>\n",
       "      <td>5.696</td>\n",
       "      <td>10.835</td>\n",
       "    </tr>\n",
       "    <tr>\n",
       "      <th>4216</th>\n",
       "      <td>3342104046</td>\n",
       "      <td>4.000</td>\n",
       "      <td>2.250</td>\n",
       "      <td>2890.000</td>\n",
       "      <td>18226.000</td>\n",
       "      <td>3.000</td>\n",
       "      <td>1.000</td>\n",
       "      <td>4.000</td>\n",
       "      <td>3</td>\n",
       "      <td>10</td>\n",
       "      <td>...</td>\n",
       "      <td>47.517</td>\n",
       "      <td>-122.209</td>\n",
       "      <td>2870.000</td>\n",
       "      <td>11151.000</td>\n",
       "      <td>2014-07-08</td>\n",
       "      <td>1570000.000</td>\n",
       "      <td>3342104046</td>\n",
       "      <td>4217</td>\n",
       "      <td>8.616</td>\n",
       "      <td>6.470</td>\n",
       "    </tr>\n",
       "    <tr>\n",
       "      <th>4404</th>\n",
       "      <td>5154200015</td>\n",
       "      <td>3.000</td>\n",
       "      <td>3.000</td>\n",
       "      <td>2490.000</td>\n",
       "      <td>27702.000</td>\n",
       "      <td>2.000</td>\n",
       "      <td>1.000</td>\n",
       "      <td>4.000</td>\n",
       "      <td>3</td>\n",
       "      <td>10</td>\n",
       "      <td>...</td>\n",
       "      <td>47.560</td>\n",
       "      <td>-122.403</td>\n",
       "      <td>2580.000</td>\n",
       "      <td>12119.000</td>\n",
       "      <td>2015-04-14</td>\n",
       "      <td>1710000.000</td>\n",
       "      <td>5154200015</td>\n",
       "      <td>4405</td>\n",
       "      <td>4.603</td>\n",
       "      <td>10.061</td>\n",
       "    </tr>\n",
       "    <tr>\n",
       "      <th>5661</th>\n",
       "      <td>9253900417</td>\n",
       "      <td>3.000</td>\n",
       "      <td>2.500</td>\n",
       "      <td>2850.000</td>\n",
       "      <td>19593.000</td>\n",
       "      <td>1.500</td>\n",
       "      <td>1.000</td>\n",
       "      <td>4.000</td>\n",
       "      <td>3</td>\n",
       "      <td>10</td>\n",
       "      <td>...</td>\n",
       "      <td>47.589</td>\n",
       "      <td>-122.111</td>\n",
       "      <td>2850.000</td>\n",
       "      <td>18782.000</td>\n",
       "      <td>2015-01-28</td>\n",
       "      <td>1600000.000</td>\n",
       "      <td>9253900417</td>\n",
       "      <td>5662</td>\n",
       "      <td>10.523</td>\n",
       "      <td>4.422</td>\n",
       "    </tr>\n",
       "    <tr>\n",
       "      <th>6227</th>\n",
       "      <td>2024069008</td>\n",
       "      <td>5.000</td>\n",
       "      <td>4.750</td>\n",
       "      <td>5990.000</td>\n",
       "      <td>10450.000</td>\n",
       "      <td>2.000</td>\n",
       "      <td>1.000</td>\n",
       "      <td>4.000</td>\n",
       "      <td>3</td>\n",
       "      <td>11</td>\n",
       "      <td>...</td>\n",
       "      <td>47.555</td>\n",
       "      <td>-122.077</td>\n",
       "      <td>3330.000</td>\n",
       "      <td>14810.000</td>\n",
       "      <td>2014-06-19</td>\n",
       "      <td>2200000.000</td>\n",
       "      <td>2024069008</td>\n",
       "      <td>6228</td>\n",
       "      <td>12.569</td>\n",
       "      <td>6.903</td>\n",
       "    </tr>\n",
       "    <tr>\n",
       "      <th>7879</th>\n",
       "      <td>3024059014</td>\n",
       "      <td>4.000</td>\n",
       "      <td>2.250</td>\n",
       "      <td>3020.000</td>\n",
       "      <td>11489.000</td>\n",
       "      <td>1.500</td>\n",
       "      <td>1.000</td>\n",
       "      <td>3.000</td>\n",
       "      <td>5</td>\n",
       "      <td>10</td>\n",
       "      <td>...</td>\n",
       "      <td>47.539</td>\n",
       "      <td>-122.210</td>\n",
       "      <td>3890.000</td>\n",
       "      <td>11489.000</td>\n",
       "      <td>2015-03-25</td>\n",
       "      <td>1900000.000</td>\n",
       "      <td>3024059014</td>\n",
       "      <td>7880</td>\n",
       "      <td>7.513</td>\n",
       "      <td>4.916</td>\n",
       "    </tr>\n",
       "    <tr>\n",
       "      <th>8775</th>\n",
       "      <td>3343302110</td>\n",
       "      <td>3.000</td>\n",
       "      <td>3.000</td>\n",
       "      <td>2790.000</td>\n",
       "      <td>13295.000</td>\n",
       "      <td>2.000</td>\n",
       "      <td>1.000</td>\n",
       "      <td>4.000</td>\n",
       "      <td>4</td>\n",
       "      <td>10</td>\n",
       "      <td>...</td>\n",
       "      <td>47.547</td>\n",
       "      <td>-122.197</td>\n",
       "      <td>3140.000</td>\n",
       "      <td>11949.000</td>\n",
       "      <td>2015-03-06</td>\n",
       "      <td>1800000.000</td>\n",
       "      <td>3343302110</td>\n",
       "      <td>8776</td>\n",
       "      <td>7.712</td>\n",
       "      <td>4.410</td>\n",
       "    </tr>\n",
       "    <tr>\n",
       "      <th>12601</th>\n",
       "      <td>3225069241</td>\n",
       "      <td>3.000</td>\n",
       "      <td>2.500</td>\n",
       "      <td>3490.000</td>\n",
       "      <td>21064.000</td>\n",
       "      <td>1.000</td>\n",
       "      <td>1.000</td>\n",
       "      <td>4.000</td>\n",
       "      <td>3</td>\n",
       "      <td>10</td>\n",
       "      <td>...</td>\n",
       "      <td>47.609</td>\n",
       "      <td>-122.073</td>\n",
       "      <td>1780.000</td>\n",
       "      <td>15244.000</td>\n",
       "      <td>2015-04-22</td>\n",
       "      <td>2000000.000</td>\n",
       "      <td>3225069241</td>\n",
       "      <td>12602</td>\n",
       "      <td>12.213</td>\n",
       "      <td>5.948</td>\n",
       "    </tr>\n",
       "    <tr>\n",
       "      <th>14605</th>\n",
       "      <td>7936500109</td>\n",
       "      <td>3.000</td>\n",
       "      <td>3.000</td>\n",
       "      <td>3620.000</td>\n",
       "      <td>28064.000</td>\n",
       "      <td>2.000</td>\n",
       "      <td>1.000</td>\n",
       "      <td>4.000</td>\n",
       "      <td>5</td>\n",
       "      <td>10</td>\n",
       "      <td>...</td>\n",
       "      <td>47.552</td>\n",
       "      <td>-122.398</td>\n",
       "      <td>2550.000</td>\n",
       "      <td>34713.000</td>\n",
       "      <td>2014-07-25</td>\n",
       "      <td>2230000.000</td>\n",
       "      <td>7936500109</td>\n",
       "      <td>14606</td>\n",
       "      <td>4.875</td>\n",
       "      <td>10.053</td>\n",
       "    </tr>\n",
       "    <tr>\n",
       "      <th>14760</th>\n",
       "      <td>9412400220</td>\n",
       "      <td>4.000</td>\n",
       "      <td>2.750</td>\n",
       "      <td>5470.000</td>\n",
       "      <td>18200.000</td>\n",
       "      <td>2.000</td>\n",
       "      <td>1.000</td>\n",
       "      <td>4.000</td>\n",
       "      <td>3</td>\n",
       "      <td>11</td>\n",
       "      <td>...</td>\n",
       "      <td>47.532</td>\n",
       "      <td>-122.263</td>\n",
       "      <td>3620.000</td>\n",
       "      <td>15100.000</td>\n",
       "      <td>2014-07-10</td>\n",
       "      <td>1610000.000</td>\n",
       "      <td>9412400220</td>\n",
       "      <td>14761</td>\n",
       "      <td>6.260</td>\n",
       "      <td>6.170</td>\n",
       "    </tr>\n",
       "    <tr>\n",
       "      <th>18776</th>\n",
       "      <td>1925069066</td>\n",
       "      <td>3.000</td>\n",
       "      <td>2.750</td>\n",
       "      <td>2810.000</td>\n",
       "      <td>18731.000</td>\n",
       "      <td>2.000</td>\n",
       "      <td>1.000</td>\n",
       "      <td>4.000</td>\n",
       "      <td>4</td>\n",
       "      <td>10</td>\n",
       "      <td>...</td>\n",
       "      <td>47.636</td>\n",
       "      <td>-122.093</td>\n",
       "      <td>3120.000</td>\n",
       "      <td>14810.000</td>\n",
       "      <td>2014-06-23</td>\n",
       "      <td>1700000.000</td>\n",
       "      <td>1925069066</td>\n",
       "      <td>18777</td>\n",
       "      <td>11.444</td>\n",
       "      <td>5.320</td>\n",
       "    </tr>\n",
       "    <tr>\n",
       "      <th>19968</th>\n",
       "      <td>2025069140</td>\n",
       "      <td>3.000</td>\n",
       "      <td>2.500</td>\n",
       "      <td>2830.000</td>\n",
       "      <td>4334.000</td>\n",
       "      <td>3.000</td>\n",
       "      <td>1.000</td>\n",
       "      <td>4.000</td>\n",
       "      <td>3</td>\n",
       "      <td>10</td>\n",
       "      <td>...</td>\n",
       "      <td>47.632</td>\n",
       "      <td>-122.071</td>\n",
       "      <td>2830.000</td>\n",
       "      <td>38211.000</td>\n",
       "      <td>2015-03-17</td>\n",
       "      <td>1900000.000</td>\n",
       "      <td>2025069140</td>\n",
       "      <td>19969</td>\n",
       "      <td>12.412</td>\n",
       "      <td>6.218</td>\n",
       "    </tr>\n",
       "    <tr>\n",
       "      <th>21185</th>\n",
       "      <td>518500460</td>\n",
       "      <td>3.000</td>\n",
       "      <td>3.500</td>\n",
       "      <td>3760.000</td>\n",
       "      <td>5634.000</td>\n",
       "      <td>2.000</td>\n",
       "      <td>1.000</td>\n",
       "      <td>4.000</td>\n",
       "      <td>3</td>\n",
       "      <td>11</td>\n",
       "      <td>...</td>\n",
       "      <td>47.529</td>\n",
       "      <td>-122.205</td>\n",
       "      <td>3560.000</td>\n",
       "      <td>5762.000</td>\n",
       "      <td>2014-10-08</td>\n",
       "      <td>2230000.000</td>\n",
       "      <td>518500460</td>\n",
       "      <td>21186</td>\n",
       "      <td>8.186</td>\n",
       "      <td>5.661</td>\n",
       "    </tr>\n",
       "  </tbody>\n",
       "</table>\n",
       "<p>14 rows × 25 columns</p>\n",
       "</div>"
      ],
      "text/plain": [
       "               id  bedrooms  bathrooms  sqft_living  sqft_lot  floors  \\\n",
       "2177   3343301920     3.000      2.750     2690.000  8890.000   2.000   \n",
       "4214   1025039086     3.000      2.500     3280.000 29111.000   2.000   \n",
       "4216   3342104046     4.000      2.250     2890.000 18226.000   3.000   \n",
       "4404   5154200015     3.000      3.000     2490.000 27702.000   2.000   \n",
       "5661   9253900417     3.000      2.500     2850.000 19593.000   1.500   \n",
       "6227   2024069008     5.000      4.750     5990.000 10450.000   2.000   \n",
       "7879   3024059014     4.000      2.250     3020.000 11489.000   1.500   \n",
       "8775   3343302110     3.000      3.000     2790.000 13295.000   2.000   \n",
       "12601  3225069241     3.000      2.500     3490.000 21064.000   1.000   \n",
       "14605  7936500109     3.000      3.000     3620.000 28064.000   2.000   \n",
       "14760  9412400220     4.000      2.750     5470.000 18200.000   2.000   \n",
       "18776  1925069066     3.000      2.750     2810.000 18731.000   2.000   \n",
       "19968  2025069140     3.000      2.500     2830.000  4334.000   3.000   \n",
       "21185   518500460     3.000      3.500     3760.000  5634.000   2.000   \n",
       "\n",
       "       waterfront  view  condition  grade  ...    lat     long  sqft_living15  \\\n",
       "2177        1.000 4.000          4     10  ... 47.549 -122.197       2940.000   \n",
       "4214        1.000 3.000          3     11  ... 47.670 -122.416       3530.000   \n",
       "4216        1.000 4.000          3     10  ... 47.517 -122.209       2870.000   \n",
       "4404        1.000 4.000          3     10  ... 47.560 -122.403       2580.000   \n",
       "5661        1.000 4.000          3     10  ... 47.589 -122.111       2850.000   \n",
       "6227        1.000 4.000          3     11  ... 47.555 -122.077       3330.000   \n",
       "7879        1.000 3.000          5     10  ... 47.539 -122.210       3890.000   \n",
       "8775        1.000 4.000          4     10  ... 47.547 -122.197       3140.000   \n",
       "12601       1.000 4.000          3     10  ... 47.609 -122.073       1780.000   \n",
       "14605       1.000 4.000          5     10  ... 47.552 -122.398       2550.000   \n",
       "14760       1.000 4.000          3     11  ... 47.532 -122.263       3620.000   \n",
       "18776       1.000 4.000          4     10  ... 47.636 -122.093       3120.000   \n",
       "19968       1.000 4.000          3     10  ... 47.632 -122.071       2830.000   \n",
       "21185       1.000 4.000          3     11  ... 47.529 -122.205       3560.000   \n",
       "\n",
       "       sqft_lot15       date       price    house_id  sale_id  \\\n",
       "2177     8890.000 2015-03-02 1650000.000  3343301920     2178   \n",
       "4214    21074.000 2014-09-16 1880000.000  1025039086     4215   \n",
       "4216    11151.000 2014-07-08 1570000.000  3342104046     4217   \n",
       "4404    12119.000 2015-04-14 1710000.000  5154200015     4405   \n",
       "5661    18782.000 2015-01-28 1600000.000  9253900417     5662   \n",
       "6227    14810.000 2014-06-19 2200000.000  2024069008     6228   \n",
       "7879    11489.000 2015-03-25 1900000.000  3024059014     7880   \n",
       "8775    11949.000 2015-03-06 1800000.000  3343302110     8776   \n",
       "12601   15244.000 2015-04-22 2000000.000  3225069241    12602   \n",
       "14605   34713.000 2014-07-25 2230000.000  7936500109    14606   \n",
       "14760   15100.000 2014-07-10 1610000.000  9412400220    14761   \n",
       "18776   14810.000 2014-06-23 1700000.000  1925069066    18777   \n",
       "19968   38211.000 2015-03-17 1900000.000  2025069140    19969   \n",
       "21185    5762.000 2014-10-08 2230000.000   518500460    21186   \n",
       "\n",
       "       distance_seattle_center distance_bellevue_center  \n",
       "2177                     7.633                    4.265  \n",
       "4214                     5.696                   10.835  \n",
       "4216                     8.616                    6.470  \n",
       "4404                     4.603                   10.061  \n",
       "5661                    10.523                    4.422  \n",
       "6227                    12.569                    6.903  \n",
       "7879                     7.513                    4.916  \n",
       "8775                     7.712                    4.410  \n",
       "12601                   12.213                    5.948  \n",
       "14605                    4.875                   10.053  \n",
       "14760                    6.260                    6.170  \n",
       "18776                   11.444                    5.320  \n",
       "19968                   12.412                    6.218  \n",
       "21185                    8.186                    5.661  \n",
       "\n",
       "[14 rows x 25 columns]"
      ]
     },
     "execution_count": 629,
     "metadata": {},
     "output_type": "execute_result"
    }
   ],
   "source": [
    "quantile_75 = df_on_waterfront['price'].quantile(.75)\n",
    "print(quantile_75)\n",
    "\n",
    "quality_houses = df_on_waterfront[\n",
    "    (df_on_waterfront['view'] > 2) & \n",
    "    (df_on_waterfront['condition'] > 2) &\n",
    "    (df_on_waterfront['grade'] > 9) & \n",
    "    ((df_on_waterfront['distance_seattle_center'] < 7) |  \n",
    "        (df_on_waterfront['distance_bellevue_center'] < 7)) &\n",
    "     (df_on_waterfront['price'] <  quantile_75)]\n",
    "\n",
    "title = \"Properties in Seattle\"\n",
    "\n",
    "lats = quality_houses.lat\n",
    "lons = quality_houses.long\n",
    "\n",
    "fig = px.scatter_mapbox(quality_houses, \n",
    "                        lat=lats, \n",
    "                        lon=lons,\n",
    "                        hover_data=[\"price\"], \n",
    "                        size='price',\n",
    "                        color='price',\n",
    "                        color_continuous_scale=px.colors.carto.Agsunset_r, \n",
    "                        zoom=9.5,\n",
    "                        title=title\n",
    "                        )\n",
    "\n",
    "fig.update_geos(fitbounds=\"locations\")\n",
    "fig.update_layout(height=700, width=700)\n",
    "fig.update_layout(mapbox_style=\"open-street-map\")\n",
    "fig.update_layout(margin={\"r\":50,\"t\":50,\"l\":50,\"b\":50})\n",
    "\n",
    "fig.show()\n",
    "\n",
    "quality_houses"
   ]
  },
  {
   "cell_type": "code",
   "execution_count": null,
   "metadata": {},
   "outputs": [],
   "source": []
  },
  {
   "cell_type": "code",
   "execution_count": null,
   "metadata": {},
   "outputs": [],
   "source": []
  }
 ],
 "metadata": {
  "kernelspec": {
   "display_name": ".venv",
   "language": "python",
   "name": "python3"
  },
  "language_info": {
   "codemirror_mode": {
    "name": "ipython",
    "version": 3
   },
   "file_extension": ".py",
   "mimetype": "text/x-python",
   "name": "python",
   "nbconvert_exporter": "python",
   "pygments_lexer": "ipython3",
   "version": "3.12.4"
  },
  "orig_nbformat": 4
 },
 "nbformat": 4,
 "nbformat_minor": 2
}
