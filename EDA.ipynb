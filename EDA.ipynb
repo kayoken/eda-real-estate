{
 "cells": [
  {
   "cell_type": "code",
   "execution_count": 3,
   "metadata": {},
   "outputs": [],
   "source": [
    "import warnings\n",
    "\n",
    "warnings.filterwarnings(\"ignore\")\n",
    "\n",
    "import pandas as pd\n",
    "import numpy as np\n",
    "import matplotlib.pyplot as plt\n",
    "import seaborn as sns\n",
    "from matplotlib.ticker import PercentFormatter\n",
    "\n",
    "plt.rcParams.update({ \"figure.figsize\" : (8, 5),\"axes.facecolor\" : \"white\", \"axes.edgecolor\":  \"black\"})\n",
    "plt.rcParams[\"figure.facecolor\"]= \"w\"\n",
    "pd.plotting.register_matplotlib_converters()\n",
    "pd.set_option('display.float_format', lambda x: '%.3f' % x)"
   ]
  },
  {
   "cell_type": "code",
   "execution_count": 15,
   "metadata": {},
   "outputs": [
    {
     "name": "stdout",
     "output_type": "stream",
     "text": [
      "           id  bedrooms  bathrooms  sqft_living   sqft_lot  floors  \\\n",
      "0  7129300520     3.000      1.000     1180.000   5650.000   1.000   \n",
      "1  6414100192     3.000      2.250     2570.000   7242.000   2.000   \n",
      "2  5631500400     2.000      1.000      770.000  10000.000   1.000   \n",
      "3  2487200875     4.000      3.000     1960.000   5000.000   1.000   \n",
      "4  1954400510     3.000      2.000     1680.000   8080.000   1.000   \n",
      "5  7237550310     4.000      4.500     5420.000 101930.000   1.000   \n",
      "6  1321400060     3.000      2.250     1715.000   6819.000   2.000   \n",
      "7  2008000270     3.000      1.500     1060.000   9711.000   1.000   \n",
      "8  2414600126     3.000      1.000     1780.000   7470.000   1.000   \n",
      "9  3793500160     3.000      2.500     1890.000   6560.000   2.000   \n",
      "\n",
      "   waterfront  view  condition  grade  ...     long  sqft_living15  \\\n",
      "0         NaN 0.000          3      7  ... -122.257       1340.000   \n",
      "1       0.000 0.000          3      7  ... -122.319       1690.000   \n",
      "2       0.000 0.000          3      6  ... -122.233       2720.000   \n",
      "3       0.000 0.000          5      7  ... -122.393       1360.000   \n",
      "4       0.000 0.000          3      8  ... -122.045       1800.000   \n",
      "5       0.000 0.000          3     11  ... -122.005       4760.000   \n",
      "6       0.000 0.000          3      7  ... -122.327       2238.000   \n",
      "7       0.000   NaN          3      7  ... -122.315       1650.000   \n",
      "8       0.000 0.000          3      7  ... -122.337       1780.000   \n",
      "9       0.000 0.000          3      7  ... -122.031       2390.000   \n",
      "\n",
      "   sqft_lot15       date       price    house_id  id.1  year  year_month month  \n",
      "0    5650.000 2014-10-13  221900.000  7129300520     1  2014     2014-10   Oct  \n",
      "1    7639.000 2014-12-09  538000.000  6414100192     2  2014     2014-12   Dec  \n",
      "2    8062.000 2015-02-25  180000.000  5631500400     3  2015     2015-02   Feb  \n",
      "3    5000.000 2014-12-09  604000.000  2487200875     4  2014     2014-12   Dec  \n",
      "4    7503.000 2015-02-18  510000.000  1954400510     5  2015     2015-02   Feb  \n",
      "5  101930.000 2014-05-12 1230000.000  7237550310     6  2014     2014-05   May  \n",
      "6    6819.000 2014-06-27  257500.000  1321400060     7  2014     2014-06   Jun  \n",
      "7    9711.000 2015-01-15  291850.000  2008000270     8  2015     2015-01   Jan  \n",
      "8    8113.000 2015-04-15  229500.000  2414600126     9  2015     2015-04   Apr  \n",
      "9    7570.000 2015-03-12  323000.000  3793500160    10  2015     2015-03   Mar  \n",
      "\n",
      "[10 rows x 26 columns]\n"
     ]
    }
   ],
   "source": [
    "df = pd.read_csv('./data/eda.csv')\n",
    "\n",
    "#converting to proper datetime format\n",
    "df.date = pd.to_datetime(df.date)\n",
    "df['date'].head(20)\n",
    "\n",
    "# # Create new column for year\n",
    "df['year'] = df.date.dt.year\n",
    "\n",
    "# # Create new column for year-month\n",
    "df['year_month'] = df['date'].dt.strftime('%Y-%m')\n",
    "df['month'] = df['date'].dt.strftime('%b')\n",
    "\n",
    "print(df.head(10))\n"
   ]
  },
  {
   "cell_type": "code",
   "execution_count": null,
   "metadata": {},
   "outputs": [],
   "source": []
  }
 ],
 "metadata": {
  "kernelspec": {
   "display_name": ".venv",
   "language": "python",
   "name": "python3"
  },
  "language_info": {
   "codemirror_mode": {
    "name": "ipython",
    "version": 3
   },
   "file_extension": ".py",
   "mimetype": "text/x-python",
   "name": "python",
   "nbconvert_exporter": "python",
   "pygments_lexer": "ipython3",
   "version": "3.12.4"
  },
  "orig_nbformat": 4
 },
 "nbformat": 4,
 "nbformat_minor": 2
}
