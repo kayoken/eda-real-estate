{
 "cells": [
  {
   "cell_type": "markdown",
   "metadata": {},
   "source": [
    "## EDA for King County Housing\n",
    "\n",
    "### The client is Larry Sanders.\n",
    "\n",
    "- Waterfront\n",
    "- Limited budget\n",
    "- Nice & Isolated \n",
    "- But central neighborhood \n",
    "- Without kids (but got some of his own, just doesn't want his kids to play with other kids .. because of germs)\n",
    "\n",
    "## Questions\n",
    "\n",
    "1. Are there Waterfront Properties that fit a limited budget?\n",
    "    - Does a limited budget exclude outliers and whiskers?\n",
    "2. What influences the price most? View or Waterfront?\n",
    "    - If the waterfront house is closer to the city center, is the price higher\n",
    "3. Are there isolated properties in central neighborhoods?\n",
    "    - Is a smaller waterfront house with big lot size cheaper than a big waterfront house with smaller lot?\n",
    "4. If your neighbours had big properties would you consider the area closer to the city and not so isolated?\n",
    "5. What are the best areas to buy in the city with the biggest lot sizes?\n",
    "\n",
    "### Some Information\n",
    "\n",
    "Your client wants to get a good understanding of the general housing condition in Seattle and surroundings and furthermore to have some recommendations tailored to their needs.\n"
   ]
  },
  {
   "cell_type": "code",
   "execution_count": 58,
   "metadata": {},
   "outputs": [],
   "source": [
    "import warnings\n",
    "\n",
    "warnings.filterwarnings(\"ignore\")\n",
    "\n",
    "import pandas as pd\n",
    "import plotly.express as px\n",
    "import numpy as np\n",
    "import missingno as msno\n",
    "import matplotlib.pyplot as plt\n",
    "import seaborn as sns\n",
    "from haversine import haversine, Unit\n",
    "from matplotlib.ticker import PercentFormatter\n",
    "\n",
    "plt.rcParams.update({ \"figure.figsize\" : (8, 5),\"axes.facecolor\" : \"white\", \"axes.edgecolor\":  \"black\"})\n",
    "plt.rcParams[\"figure.facecolor\"]= \"w\"\n",
    "pd.plotting.register_matplotlib_converters()\n",
    "pd.set_option('display.float_format', lambda x: '%.3f' % x)"
   ]
  },
  {
   "cell_type": "code",
   "execution_count": 59,
   "metadata": {},
   "outputs": [
    {
     "data": {
      "text/plain": [
       "Index(['id', 'bedrooms', 'bathrooms', 'sqft_living', 'sqft_lot', 'floors',\n",
       "       'waterfront', 'view', 'condition', 'grade', 'sqft_above',\n",
       "       'sqft_basement', 'yr_built', 'yr_renovated', 'zipcode', 'lat', 'long',\n",
       "       'sqft_living15', 'sqft_lot15', 'date', 'price', 'house_id', 'sale_id'],\n",
       "      dtype='object')"
      ]
     },
     "execution_count": 59,
     "metadata": {},
     "output_type": "execute_result"
    }
   ],
   "source": [
    "df = pd.read_csv('./data/eda.csv')\n",
    "\n",
    "#converting to proper datetime format\n",
    "df.date = pd.to_datetime(df.date)\n",
    "df = df.rename({'id.1': 'sale_id'}, axis=1)\n",
    "df.columns\n"
   ]
  },
  {
   "cell_type": "code",
   "execution_count": 60,
   "metadata": {},
   "outputs": [
    {
     "data": {
      "text/plain": [
       "(21597, 23)"
      ]
     },
     "execution_count": 60,
     "metadata": {},
     "output_type": "execute_result"
    }
   ],
   "source": [
    "df.shape"
   ]
  },
  {
   "cell_type": "code",
   "execution_count": 61,
   "metadata": {},
   "outputs": [
    {
     "data": {
      "text/html": [
       "<div>\n",
       "<style scoped>\n",
       "    .dataframe tbody tr th:only-of-type {\n",
       "        vertical-align: middle;\n",
       "    }\n",
       "\n",
       "    .dataframe tbody tr th {\n",
       "        vertical-align: top;\n",
       "    }\n",
       "\n",
       "    .dataframe thead th {\n",
       "        text-align: right;\n",
       "    }\n",
       "</style>\n",
       "<table border=\"1\" class=\"dataframe\">\n",
       "  <thead>\n",
       "    <tr style=\"text-align: right;\">\n",
       "      <th></th>\n",
       "      <th>id</th>\n",
       "      <th>bedrooms</th>\n",
       "      <th>bathrooms</th>\n",
       "      <th>sqft_living</th>\n",
       "      <th>sqft_lot</th>\n",
       "      <th>floors</th>\n",
       "      <th>waterfront</th>\n",
       "      <th>view</th>\n",
       "      <th>condition</th>\n",
       "      <th>grade</th>\n",
       "      <th>...</th>\n",
       "      <th>yr_renovated</th>\n",
       "      <th>zipcode</th>\n",
       "      <th>lat</th>\n",
       "      <th>long</th>\n",
       "      <th>sqft_living15</th>\n",
       "      <th>sqft_lot15</th>\n",
       "      <th>date</th>\n",
       "      <th>price</th>\n",
       "      <th>house_id</th>\n",
       "      <th>sale_id</th>\n",
       "    </tr>\n",
       "  </thead>\n",
       "  <tbody>\n",
       "    <tr>\n",
       "      <th>0</th>\n",
       "      <td>7129300520</td>\n",
       "      <td>3.000</td>\n",
       "      <td>1.000</td>\n",
       "      <td>1180.000</td>\n",
       "      <td>5650.000</td>\n",
       "      <td>1.000</td>\n",
       "      <td>NaN</td>\n",
       "      <td>0.000</td>\n",
       "      <td>3</td>\n",
       "      <td>7</td>\n",
       "      <td>...</td>\n",
       "      <td>0.000</td>\n",
       "      <td>98178</td>\n",
       "      <td>47.511</td>\n",
       "      <td>-122.257</td>\n",
       "      <td>1340.000</td>\n",
       "      <td>5650.000</td>\n",
       "      <td>2014-10-13</td>\n",
       "      <td>221900.000</td>\n",
       "      <td>7129300520</td>\n",
       "      <td>1</td>\n",
       "    </tr>\n",
       "    <tr>\n",
       "      <th>1</th>\n",
       "      <td>6414100192</td>\n",
       "      <td>3.000</td>\n",
       "      <td>2.250</td>\n",
       "      <td>2570.000</td>\n",
       "      <td>7242.000</td>\n",
       "      <td>2.000</td>\n",
       "      <td>0.000</td>\n",
       "      <td>0.000</td>\n",
       "      <td>3</td>\n",
       "      <td>7</td>\n",
       "      <td>...</td>\n",
       "      <td>19910.000</td>\n",
       "      <td>98125</td>\n",
       "      <td>47.721</td>\n",
       "      <td>-122.319</td>\n",
       "      <td>1690.000</td>\n",
       "      <td>7639.000</td>\n",
       "      <td>2014-12-09</td>\n",
       "      <td>538000.000</td>\n",
       "      <td>6414100192</td>\n",
       "      <td>2</td>\n",
       "    </tr>\n",
       "    <tr>\n",
       "      <th>2</th>\n",
       "      <td>5631500400</td>\n",
       "      <td>2.000</td>\n",
       "      <td>1.000</td>\n",
       "      <td>770.000</td>\n",
       "      <td>10000.000</td>\n",
       "      <td>1.000</td>\n",
       "      <td>0.000</td>\n",
       "      <td>0.000</td>\n",
       "      <td>3</td>\n",
       "      <td>6</td>\n",
       "      <td>...</td>\n",
       "      <td>NaN</td>\n",
       "      <td>98028</td>\n",
       "      <td>47.738</td>\n",
       "      <td>-122.233</td>\n",
       "      <td>2720.000</td>\n",
       "      <td>8062.000</td>\n",
       "      <td>2015-02-25</td>\n",
       "      <td>180000.000</td>\n",
       "      <td>5631500400</td>\n",
       "      <td>3</td>\n",
       "    </tr>\n",
       "    <tr>\n",
       "      <th>3</th>\n",
       "      <td>2487200875</td>\n",
       "      <td>4.000</td>\n",
       "      <td>3.000</td>\n",
       "      <td>1960.000</td>\n",
       "      <td>5000.000</td>\n",
       "      <td>1.000</td>\n",
       "      <td>0.000</td>\n",
       "      <td>0.000</td>\n",
       "      <td>5</td>\n",
       "      <td>7</td>\n",
       "      <td>...</td>\n",
       "      <td>0.000</td>\n",
       "      <td>98136</td>\n",
       "      <td>47.521</td>\n",
       "      <td>-122.393</td>\n",
       "      <td>1360.000</td>\n",
       "      <td>5000.000</td>\n",
       "      <td>2014-12-09</td>\n",
       "      <td>604000.000</td>\n",
       "      <td>2487200875</td>\n",
       "      <td>4</td>\n",
       "    </tr>\n",
       "    <tr>\n",
       "      <th>4</th>\n",
       "      <td>1954400510</td>\n",
       "      <td>3.000</td>\n",
       "      <td>2.000</td>\n",
       "      <td>1680.000</td>\n",
       "      <td>8080.000</td>\n",
       "      <td>1.000</td>\n",
       "      <td>0.000</td>\n",
       "      <td>0.000</td>\n",
       "      <td>3</td>\n",
       "      <td>8</td>\n",
       "      <td>...</td>\n",
       "      <td>0.000</td>\n",
       "      <td>98074</td>\n",
       "      <td>47.617</td>\n",
       "      <td>-122.045</td>\n",
       "      <td>1800.000</td>\n",
       "      <td>7503.000</td>\n",
       "      <td>2015-02-18</td>\n",
       "      <td>510000.000</td>\n",
       "      <td>1954400510</td>\n",
       "      <td>5</td>\n",
       "    </tr>\n",
       "  </tbody>\n",
       "</table>\n",
       "<p>5 rows × 23 columns</p>\n",
       "</div>"
      ],
      "text/plain": [
       "           id  bedrooms  bathrooms  sqft_living  sqft_lot  floors  waterfront  \\\n",
       "0  7129300520     3.000      1.000     1180.000  5650.000   1.000         NaN   \n",
       "1  6414100192     3.000      2.250     2570.000  7242.000   2.000       0.000   \n",
       "2  5631500400     2.000      1.000      770.000 10000.000   1.000       0.000   \n",
       "3  2487200875     4.000      3.000     1960.000  5000.000   1.000       0.000   \n",
       "4  1954400510     3.000      2.000     1680.000  8080.000   1.000       0.000   \n",
       "\n",
       "   view  condition  grade  ...  yr_renovated  zipcode    lat     long  \\\n",
       "0 0.000          3      7  ...         0.000    98178 47.511 -122.257   \n",
       "1 0.000          3      7  ...     19910.000    98125 47.721 -122.319   \n",
       "2 0.000          3      6  ...           NaN    98028 47.738 -122.233   \n",
       "3 0.000          5      7  ...         0.000    98136 47.521 -122.393   \n",
       "4 0.000          3      8  ...         0.000    98074 47.617 -122.045   \n",
       "\n",
       "   sqft_living15  sqft_lot15       date      price    house_id sale_id  \n",
       "0       1340.000    5650.000 2014-10-13 221900.000  7129300520       1  \n",
       "1       1690.000    7639.000 2014-12-09 538000.000  6414100192       2  \n",
       "2       2720.000    8062.000 2015-02-25 180000.000  5631500400       3  \n",
       "3       1360.000    5000.000 2014-12-09 604000.000  2487200875       4  \n",
       "4       1800.000    7503.000 2015-02-18 510000.000  1954400510       5  \n",
       "\n",
       "[5 rows x 23 columns]"
      ]
     },
     "execution_count": 61,
     "metadata": {},
     "output_type": "execute_result"
    }
   ],
   "source": [
    "df.head()"
   ]
  },
  {
   "cell_type": "code",
   "execution_count": 62,
   "metadata": {},
   "outputs": [
    {
     "data": {
      "text/plain": [
       "<Axes: >"
      ]
     },
     "execution_count": 62,
     "metadata": {},
     "output_type": "execute_result"
    },
    {
     "data": {
      "image/png": "[encoded data removed]",
      "text/plain": [
       "<Figure size 2500x1000 with 3 Axes>"
      ]
     },
     "metadata": {},
     "output_type": "display_data"
    },
    {
     "data": {
      "image/png": "[encoded data removed]",
      "text/plain": [
       "<Figure size 2500x1000 with 2 Axes>"
      ]
     },
     "metadata": {},
     "output_type": "display_data"
    }
   ],
   "source": [
    "# fig, ax = plt.subplots()\n",
    "# plt.show()\n",
    "msno.bar(df)\n",
    "msno.matrix(df)"
   ]
  },
  {
   "cell_type": "code",
   "execution_count": 63,
   "metadata": {},
   "outputs": [
    {
     "data": {
      "text/plain": [
       "array([nan,  0.,  1.])"
      ]
     },
     "execution_count": 63,
     "metadata": {},
     "output_type": "execute_result"
    }
   ],
   "source": [
    "# examining whether there are unrelated values\n",
    "df.waterfront.unique()"
   ]
  },
  {
   "cell_type": "code",
   "execution_count": 64,
   "metadata": {},
   "outputs": [
    {
     "data": {
      "text/plain": [
       "False    21597\n",
       "Name: count, dtype: int64"
      ]
     },
     "execution_count": 64,
     "metadata": {},
     "output_type": "execute_result"
    }
   ],
   "source": [
    "df.duplicated().value_counts()\n",
    "# we don't have any duplicates"
   ]
  },
  {
   "cell_type": "code",
   "execution_count": 65,
   "metadata": {},
   "outputs": [],
   "source": [
    "df.view.max()\n",
    "\n",
    "df_geopos = df[['lat', 'long', 'price', 'waterfront']].copy()\n",
    "df_waterfront_unknown= df[df['waterfront'].isna() == True]\n",
    "df_on_waterfront = df_geopos[df_geopos['waterfront'] != 0].dropna()"
   ]
  },
  {
   "cell_type": "code",
   "execution_count": 66,
   "metadata": {},
   "outputs": [
    {
     "data": {
      "application/vnd.plotly.v1+json": {
       "config": {
        "plotlyServerURL": "https://plot.ly"
       },
       "data": [
        {
         "customdata": [
          [
           1350000
          ],
          [
           655000
          ],
          [
           2400000
          ],
          [
           369900
          ],
          [
           3080000
          ],
          [
           705000
          ],
          [
           2130000
          ],
          [
           3070000
          ],
          [
           825000
          ],
          [
           1960000
          ],
          [
           790000
          ],
          [
           5110000
          ],
          [
           290000
          ],
          [
           995000
          ],
          [
           5300000
          ],
          [
           2200000
          ],
          [
           1180000
          ],
          [
           1700000
          ],
          [
           960000
          ],
          [
           480000
          ],
          [
           1200000
          ],
          [
           3850000
          ],
          [
           1700000
          ],
          [
           1650000
          ],
          [
           1370000
          ],
          [
           3280000
          ],
          [
           4500000
          ],
          [
           3600000
          ],
          [
           999000
          ],
          [
           1900000
          ],
          [
           700000
          ],
          [
           1000000
          ],
          [
           7060000
          ],
          [
           1380000
          ],
          [
           2400000
          ],
          [
           1880000
          ],
          [
           1570000
          ],
          [
           1160000
          ],
          [
           1150000
          ],
          [
           1710000
          ],
          [
           2000000
          ],
          [
           2490000
          ],
          [
           1850000
          ],
          [
           549000
          ],
          [
           1600000
          ],
          [
           1850000
          ],
          [
           1100000
          ],
          [
           340000
          ],
          [
           2200000
          ],
          [
           2900000
          ],
          [
           1340000
          ],
          [
           3650000
          ],
          [
           2700000
          ],
          [
           3100000
          ],
          [
           1150000
          ],
          [
           1900000
          ],
          [
           3400000
          ],
          [
           1850000
          ],
          [
           4670000
          ],
          [
           503000
          ],
          [
           1450000
          ],
          [
           949950
          ],
          [
           400000
          ],
          [
           1250000
          ],
          [
           1800000
          ],
          [
           650000
          ],
          [
           1360000
          ],
          [
           1960000
          ],
          [
           1190000
          ],
          [
           629000
          ],
          [
           985000
          ],
          [
           2700000
          ],
          [
           3120000
          ],
          [
           1580000
          ],
          [
           1660000
          ],
          [
           1180000
          ],
          [
           750000
          ],
          [
           2560000
          ],
          [
           3000000
          ],
          [
           2300000
          ],
          [
           950000
          ],
          [
           2750000
          ],
          [
           357000
          ],
          [
           770000
          ],
          [
           1900000
          ],
          [
           2000000
          ],
          [
           835000
          ],
          [
           685000
          ],
          [
           500000
          ],
          [
           635000
          ],
          [
           2600000
          ],
          [
           3400000
          ],
          [
           3300000
          ],
          [
           947500
          ],
          [
           600000
          ],
          [
           2230000
          ],
          [
           1300000
          ],
          [
           1610000
          ],
          [
           2600000
          ],
          [
           465000
          ],
          [
           3640000
          ],
          [
           520000
          ],
          [
           658000
          ],
          [
           840500
          ],
          [
           1650000
          ],
          [
           3200000
          ],
          [
           1800000
          ],
          [
           1680000
          ],
          [
           1640000
          ],
          [
           700000
          ],
          [
           1340000
          ],
          [
           1600000
          ],
          [
           1310000
          ],
          [
           1200000
          ],
          [
           869000
          ],
          [
           750000
          ],
          [
           340000
          ],
          [
           800000
          ],
          [
           750000
          ],
          [
           540000
          ],
          [
           2510000
          ],
          [
           820000
          ],
          [
           2050000
          ],
          [
           975000
          ],
          [
           1600000
          ],
          [
           528000
          ],
          [
           3300000
          ],
          [
           285000
          ],
          [
           2700000
          ],
          [
           2950000
          ],
          [
           570000
          ],
          [
           1230000
          ],
          [
           1700000
          ],
          [
           1680000
          ],
          [
           380000
          ],
          [
           1400000
          ],
          [
           385000
          ],
          [
           615000
          ],
          [
           1410000
          ],
          [
           1150000
          ],
          [
           988500
          ],
          [
           1900000
          ],
          [
           3000000
          ],
          [
           2300000
          ],
          [
           2230000
          ],
          [
           3570000
          ]
         ],
         "hovertemplate": "price=%{customdata[0]}<br>lat=%{lat}<br>long=%{lon}<extra></extra>",
         "lat": [
          47.4041,
          47.4497,
          47.6338,
          47.4683,
          47.6053,
          47.3844,
          47.4169,
          47.7022,
          47.502,
          47.7165,
          47.5105,
          47.6767,
          47.4339,
          47.4734,
          47.5631,
          47.6393,
          47.7345,
          47.5115,
          47.645,
          47.3853,
          47.5779,
          47.585,
          47.5883,
          47.5487,
          47.5684,
          47.6042,
          47.7493,
          47.5925,
          47.3782,
          47.4485,
          47.5117,
          47.5488,
          47.65,
          47.3907,
          47.5884,
          47.6699,
          47.5169,
          47.488,
          47.3344,
          47.5596,
          47.5682,
          47.5636,
          47.5784,
          47.3312,
          47.5894,
          47.7404,
          47.5033,
          47.4285,
          47.5554,
          47.5379,
          47.5489,
          47.6515,
          47.5919,
          47.5716,
          47.6307,
          47.5395,
          47.5348,
          47.5571,
          47.557,
          47.3276,
          47.5686,
          47.5193,
          47.3338,
          47.5814,
          47.5466,
          47.3554,
          47.7142,
          47.5287,
          47.7134,
          47.3311,
          47.4499,
          47.6803,
          47.6997,
          47.4414,
          47.525,
          47.5495,
          47.5022,
          47.661,
          47.7011,
          47.6934,
          47.3881,
          47.5968,
          47.3811,
          47.4536,
          47.5924,
          47.6092,
          47.3571,
          47.4502,
          47.3799,
          47.459,
          47.5696,
          47.6967,
          47.605,
          47.4522,
          47.358,
          47.5516,
          47.7729,
          47.5316,
          47.5721,
          47.4728,
          47.6409,
          47.3648,
          47.5476,
          47.5114,
          47.6163,
          47.5928,
          47.7519,
          47.7561,
          47.4418,
          47.5121,
          47.7308,
          47.7434,
          47.4396,
          47.502,
          47.5121,
          47.4996,
          47.4557,
          47.373,
          47.4,
          47.4997,
          47.4558,
          47.3573,
          47.7087,
          47.4969,
          47.704,
          47.404,
          47.6083,
          47.4716,
          47.572,
          47.6608,
          47.3509,
          47.3535,
          47.6361,
          47.7265,
          47.4551,
          47.5895,
          47.4012,
          47.3979,
          47.5036,
          47.7336,
          47.45,
          47.6318,
          47.5283,
          47.5724,
          47.5285,
          47.5943
         ],
         "legendgroup": "",
         "lon": [
          -122.451,
          -122.375,
          -122.072,
          -122.438,
          -122.077,
          -122.438,
          -122.348,
          -122.224,
          -122.222,
          -122.259,
          -122.238,
          -122.211,
          -122.512,
          -122.365,
          -122.21,
          -122.097,
          -122.285,
          -122.246,
          -122.084,
          -122.479,
          -122.246,
          -122.222,
          -122.111,
          -122.197,
          -122.06,
          -122.112,
          -122.28,
          -122.287,
          -122.514,
          -122.369,
          -122.248,
          -122.197,
          -122.214,
          -122.448,
          -122.086,
          -122.416,
          -122.209,
          -122.364,
          -122.37,
          -122.403,
          -122.059,
          -122.231,
          -122.076,
          -122.503,
          -122.111,
          -122.284,
          -122.225,
          -122.511,
          -122.077,
          -122.264,
          -122.398,
          -122.277,
          -122.251,
          -122.204,
          -122.088,
          -122.21,
          -122.243,
          -122.193,
          -122.21,
          -122.389,
          -122.06,
          -122.257,
          -122.511,
          -122.081,
          -122.197,
          -122.324,
          -122.277,
          -122.22,
          -122.277,
          -122.375,
          -122.376,
          -122.214,
          -122.24,
          -122.354,
          -122.393,
          -122.398,
          -122.223,
          -122.269,
          -122.244,
          -122.271,
          -122.326,
          -122.083,
          -122.325,
          -122.376,
          -122.287,
          -122.073,
          -122.324,
          -122.378,
          -122.325,
          -122.504,
          -122.09,
          -122.216,
          -122.112,
          -122.378,
          -122.446,
          -122.398,
          -122.393,
          -122.263,
          -122.239,
          -122.497,
          -122.241,
          -122.325,
          -122.399,
          -122.245,
          -122.068,
          -122.086,
          -122.276,
          -122.271,
          -122.354,
          -122.248,
          -122.282,
          -122.263,
          -122.353,
          -122.385,
          -122.248,
          -122.378,
          -122.443,
          -122.464,
          -122.42,
          -122.379,
          -122.371,
          -122.324,
          -122.276,
          -122.376,
          -122.245,
          -122.447,
          -122.11,
          -122.445,
          -122.102,
          -122.269,
          -122.323,
          -122.323,
          -122.093,
          -122.281,
          -122.373,
          -122.111,
          -122.425,
          -122.465,
          -122.387,
          -122.284,
          -122.377,
          -122.071,
          -122.205,
          -122.104,
          -122.205,
          -122.11
         ],
         "marker": {
          "color": "#636efa",
          "size": [
           1350000,
           655000,
           2400000,
           369900,
           3080000,
           705000,
           2130000,
           3070000,
           825000,
           1960000,
           790000,
           5110000,
           290000,
           995000,
           5300000,
           2200000,
           1180000,
           1700000,
           960000,
           480000,
           1200000,
           3850000,
           1700000,
           1650000,
           1370000,
           3280000,
           4500000,
           3600000,
           999000,
           1900000,
           700000,
           1000000,
           7060000,
           1380000,
           2400000,
           1880000,
           1570000,
           1160000,
           1150000,
           1710000,
           2000000,
           2490000,
           1850000,
           549000,
           1600000,
           1850000,
           1100000,
           340000,
           2200000,
           2900000,
           1340000,
           3650000,
           2700000,
           3100000,
           1150000,
           1900000,
           3400000,
           1850000,
           4670000,
           503000,
           1450000,
           949950,
           400000,
           1250000,
           1800000,
           650000,
           1360000,
           1960000,
           1190000,
           629000,
           985000,
           2700000,
           3120000,
           1580000,
           1660000,
           1180000,
           750000,
           2560000,
           3000000,
           2300000,
           950000,
           2750000,
           357000,
           770000,
           1900000,
           2000000,
           835000,
           685000,
           500000,
           635000,
           2600000,
           3400000,
           3300000,
           947500,
           600000,
           2230000,
           1300000,
           1610000,
           2600000,
           465000,
           3640000,
           520000,
           658000,
           840500,
           1650000,
           3200000,
           1800000,
           1680000,
           1640000,
           700000,
           1340000,
           1600000,
           1310000,
           1200000,
           869000,
           750000,
           340000,
           800000,
           750000,
           540000,
           2510000,
           820000,
           2050000,
           975000,
           1600000,
           528000,
           3300000,
           285000,
           2700000,
           2950000,
           570000,
           1230000,
           1700000,
           1680000,
           380000,
           1400000,
           385000,
           615000,
           1410000,
           1150000,
           988500,
           1900000,
           3000000,
           2300000,
           2230000,
           3570000
          ],
          "sizemode": "area",
          "sizeref": 17650
         },
         "mode": "markers",
         "name": "",
         "showlegend": false,
         "subplot": "mapbox",
         "type": "scattermapbox"
        }
       ],
       "layout": {
        "geo": {
         "fitbounds": "locations"
        },
        "height": 700,
        "legend": {
         "itemsizing": "constant",
         "tracegroupgap": 0
        },
        "mapbox": {
         "center": {
          "lat": 47.53967671232878,
          "lon": -122.27816438356164
         },
         "domain": {
          "x": [
           0,
           1
          ],
          "y": [
           0,
           1
          ]
         },
         "style": "open-street-map",
         "zoom": 9.5
        },
        "margin": {
         "b": 50,
         "l": 50,
         "r": 50,
         "t": 50
        },
        "template": {
         "data": {
          "bar": [
           {
            "error_x": {
             "color": "#2a3f5f"
            },
            "error_y": {
             "color": "#2a3f5f"
            },
            "marker": {
             "line": {
              "color": "#E5ECF6",
              "width": 0.5
             },
             "pattern": {
              "fillmode": "overlay",
              "size": 10,
              "solidity": 0.2
             }
            },
            "type": "bar"
           }
          ],
          "barpolar": [
           {
            "marker": {
             "line": {
              "color": "#E5ECF6",
              "width": 0.5
             },
             "pattern": {
              "fillmode": "overlay",
              "size": 10,
              "solidity": 0.2
             }
            },
            "type": "barpolar"
           }
          ],
          "carpet": [
           {
            "aaxis": {
             "endlinecolor": "#2a3f5f",
             "gridcolor": "white",
             "linecolor": "white",
             "minorgridcolor": "white",
             "startlinecolor": "#2a3f5f"
            },
            "baxis": {
             "endlinecolor": "#2a3f5f",
             "gridcolor": "white",
             "linecolor": "white",
             "minorgridcolor": "white",
             "startlinecolor": "#2a3f5f"
            },
            "type": "carpet"
           }
          ],
          "choropleth": [
           {
            "colorbar": {
             "outlinewidth": 0,
             "ticks": ""
            },
            "type": "choropleth"
           }
          ],
          "contour": [
           {
            "colorbar": {
             "outlinewidth": 0,
             "ticks": ""
            },
            "colorscale": [
             [
              0,
              "#0d0887"
             ],
             [
              0.1111111111111111,
              "#46039f"
             ],
             [
              0.2222222222222222,
              "#7201a8"
             ],
             [
              0.3333333333333333,
              "#9c179e"
             ],
             [
              0.4444444444444444,
              "#bd3786"
             ],
             [
              0.5555555555555556,
              "#d8576b"
             ],
             [
              0.6666666666666666,
              "#ed7953"
             ],
             [
              0.7777777777777778,
              "#fb9f3a"
             ],
             [
              0.8888888888888888,
              "#fdca26"
             ],
             [
              1,
              "#f0f921"
             ]
            ],
            "type": "contour"
           }
          ],
          "contourcarpet": [
           {
            "colorbar": {
             "outlinewidth": 0,
             "ticks": ""
            },
            "type": "contourcarpet"
           }
          ],
          "heatmap": [
           {
            "colorbar": {
             "outlinewidth": 0,
             "ticks": ""
            },
            "colorscale": [
             [
              0,
              "#0d0887"
             ],
             [
              0.1111111111111111,
              "#46039f"
             ],
             [
              0.2222222222222222,
              "#7201a8"
             ],
             [
              0.3333333333333333,
              "#9c179e"
             ],
             [
              0.4444444444444444,
              "#bd3786"
             ],
             [
              0.5555555555555556,
              "#d8576b"
             ],
             [
              0.6666666666666666,
              "#ed7953"
             ],
             [
              0.7777777777777778,
              "#fb9f3a"
             ],
             [
              0.8888888888888888,
              "#fdca26"
             ],
             [
              1,
              "#f0f921"
             ]
            ],
            "type": "heatmap"
           }
          ],
          "heatmapgl": [
           {
            "colorbar": {
             "outlinewidth": 0,
             "ticks": ""
            },
            "colorscale": [
             [
              0,
              "#0d0887"
             ],
             [
              0.1111111111111111,
              "#46039f"
             ],
             [
              0.2222222222222222,
              "#7201a8"
             ],
             [
              0.3333333333333333,
              "#9c179e"
             ],
             [
              0.4444444444444444,
              "#bd3786"
             ],
             [
              0.5555555555555556,
              "#d8576b"
             ],
             [
              0.6666666666666666,
              "#ed7953"
             ],
             [
              0.7777777777777778,
              "#fb9f3a"
             ],
             [
              0.8888888888888888,
              "#fdca26"
             ],
             [
              1,
              "#f0f921"
             ]
            ],
            "type": "heatmapgl"
           }
          ],
          "histogram": [
           {
            "marker": {
             "pattern": {
              "fillmode": "overlay",
              "size": 10,
              "solidity": 0.2
             }
            },
            "type": "histogram"
           }
          ],
          "histogram2d": [
           {
            "colorbar": {
             "outlinewidth": 0,
             "ticks": ""
            },
            "colorscale": [
             [
              0,
              "#0d0887"
             ],
             [
              0.1111111111111111,
              "#46039f"
             ],
             [
              0.2222222222222222,
              "#7201a8"
             ],
             [
              0.3333333333333333,
              "#9c179e"
             ],
             [
              0.4444444444444444,
              "#bd3786"
             ],
             [
              0.5555555555555556,
              "#d8576b"
             ],
             [
              0.6666666666666666,
              "#ed7953"
             ],
             [
              0.7777777777777778,
              "#fb9f3a"
             ],
             [
              0.8888888888888888,
              "#fdca26"
             ],
             [
              1,
              "#f0f921"
             ]
            ],
            "type": "histogram2d"
           }
          ],
          "histogram2dcontour": [
           {
            "colorbar": {
             "outlinewidth": 0,
             "ticks": ""
            },
            "colorscale": [
             [
              0,
              "#0d0887"
             ],
             [
              0.1111111111111111,
              "#46039f"
             ],
             [
              0.2222222222222222,
              "#7201a8"
             ],
             [
              0.3333333333333333,
              "#9c179e"
             ],
             [
              0.4444444444444444,
              "#bd3786"
             ],
             [
              0.5555555555555556,
              "#d8576b"
             ],
             [
              0.6666666666666666,
              "#ed7953"
             ],
             [
              0.7777777777777778,
              "#fb9f3a"
             ],
             [
              0.8888888888888888,
              "#fdca26"
             ],
             [
              1,
              "#f0f921"
             ]
            ],
            "type": "histogram2dcontour"
           }
          ],
          "mesh3d": [
           {
            "colorbar": {
             "outlinewidth": 0,
             "ticks": ""
            },
            "type": "mesh3d"
           }
          ],
          "parcoords": [
           {
            "line": {
             "colorbar": {
              "outlinewidth": 0,
              "ticks": ""
             }
            },
            "type": "parcoords"
           }
          ],
          "pie": [
           {
            "automargin": true,
            "type": "pie"
           }
          ],
          "scatter": [
           {
            "fillpattern": {
             "fillmode": "overlay",
             "size": 10,
             "solidity": 0.2
            },
            "type": "scatter"
           }
          ],
          "scatter3d": [
           {
            "line": {
             "colorbar": {
              "outlinewidth": 0,
              "ticks": ""
             }
            },
            "marker": {
             "colorbar": {
              "outlinewidth": 0,
              "ticks": ""
             }
            },
            "type": "scatter3d"
           }
          ],
          "scattercarpet": [
           {
            "marker": {
             "colorbar": {
              "outlinewidth": 0,
              "ticks": ""
             }
            },
            "type": "scattercarpet"
           }
          ],
          "scattergeo": [
           {
            "marker": {
             "colorbar": {
              "outlinewidth": 0,
              "ticks": ""
             }
            },
            "type": "scattergeo"
           }
          ],
          "scattergl": [
           {
            "marker": {
             "colorbar": {
              "outlinewidth": 0,
              "ticks": ""
             }
            },
            "type": "scattergl"
           }
          ],
          "scattermapbox": [
           {
            "marker": {
             "colorbar": {
              "outlinewidth": 0,
              "ticks": ""
             }
            },
            "type": "scattermapbox"
           }
          ],
          "scatterpolar": [
           {
            "marker": {
             "colorbar": {
              "outlinewidth": 0,
              "ticks": ""
             }
            },
            "type": "scatterpolar"
           }
          ],
          "scatterpolargl": [
           {
            "marker": {
             "colorbar": {
              "outlinewidth": 0,
              "ticks": ""
             }
            },
            "type": "scatterpolargl"
           }
          ],
          "scatterternary": [
           {
            "marker": {
             "colorbar": {
              "outlinewidth": 0,
              "ticks": ""
             }
            },
            "type": "scatterternary"
           }
          ],
          "surface": [
           {
            "colorbar": {
             "outlinewidth": 0,
             "ticks": ""
            },
            "colorscale": [
             [
              0,
              "#0d0887"
             ],
             [
              0.1111111111111111,
              "#46039f"
             ],
             [
              0.2222222222222222,
              "#7201a8"
             ],
             [
              0.3333333333333333,
              "#9c179e"
             ],
             [
              0.4444444444444444,
              "#bd3786"
             ],
             [
              0.5555555555555556,
              "#d8576b"
             ],
             [
              0.6666666666666666,
              "#ed7953"
             ],
             [
              0.7777777777777778,
              "#fb9f3a"
             ],
             [
              0.8888888888888888,
              "#fdca26"
             ],
             [
              1,
              "#f0f921"
             ]
            ],
            "type": "surface"
           }
          ],
          "table": [
           {
            "cells": {
             "fill": {
              "color": "#EBF0F8"
             },
             "line": {
              "color": "white"
             }
            },
            "header": {
             "fill": {
              "color": "#C8D4E3"
             },
             "line": {
              "color": "white"
             }
            },
            "type": "table"
           }
          ]
         },
         "layout": {
          "annotationdefaults": {
           "arrowcolor": "#2a3f5f",
           "arrowhead": 0,
           "arrowwidth": 1
          },
          "autotypenumbers": "strict",
          "coloraxis": {
           "colorbar": {
            "outlinewidth": 0,
            "ticks": ""
           }
          },
          "colorscale": {
           "diverging": [
            [
             0,
             "#8e0152"
            ],
            [
             0.1,
             "#c51b7d"
            ],
            [
             0.2,
             "#de77ae"
            ],
            [
             0.3,
             "#f1b6da"
            ],
            [
             0.4,
             "#fde0ef"
            ],
            [
             0.5,
             "#f7f7f7"
            ],
            [
             0.6,
             "#e6f5d0"
            ],
            [
             0.7,
             "#b8e186"
            ],
            [
             0.8,
             "#7fbc41"
            ],
            [
             0.9,
             "#4d9221"
            ],
            [
             1,
             "#276419"
            ]
           ],
           "sequential": [
            [
             0,
             "#0d0887"
            ],
            [
             0.1111111111111111,
             "#46039f"
            ],
            [
             0.2222222222222222,
             "#7201a8"
            ],
            [
             0.3333333333333333,
             "#9c179e"
            ],
            [
             0.4444444444444444,
             "#bd3786"
            ],
            [
             0.5555555555555556,
             "#d8576b"
            ],
            [
             0.6666666666666666,
             "#ed7953"
            ],
            [
             0.7777777777777778,
             "#fb9f3a"
            ],
            [
             0.8888888888888888,
             "#fdca26"
            ],
            [
             1,
             "#f0f921"
            ]
           ],
           "sequentialminus": [
            [
             0,
             "#0d0887"
            ],
            [
             0.1111111111111111,
             "#46039f"
            ],
            [
             0.2222222222222222,
             "#7201a8"
            ],
            [
             0.3333333333333333,
             "#9c179e"
            ],
            [
             0.4444444444444444,
             "#bd3786"
            ],
            [
             0.5555555555555556,
             "#d8576b"
            ],
            [
             0.6666666666666666,
             "#ed7953"
            ],
            [
             0.7777777777777778,
             "#fb9f3a"
            ],
            [
             0.8888888888888888,
             "#fdca26"
            ],
            [
             1,
             "#f0f921"
            ]
           ]
          },
          "colorway": [
           "#636efa",
           "#EF553B",
           "#00cc96",
           "#ab63fa",
           "#FFA15A",
           "#19d3f3",
           "#FF6692",
           "#B6E880",
           "#FF97FF",
           "#FECB52"
          ],
          "font": {
           "color": "#2a3f5f"
          },
          "geo": {
           "bgcolor": "white",
           "lakecolor": "white",
           "landcolor": "#E5ECF6",
           "showlakes": true,
           "showland": true,
           "subunitcolor": "white"
          },
          "hoverlabel": {
           "align": "left"
          },
          "hovermode": "closest",
          "mapbox": {
           "style": "light"
          },
          "paper_bgcolor": "white",
          "plot_bgcolor": "#E5ECF6",
          "polar": {
           "angularaxis": {
            "gridcolor": "white",
            "linecolor": "white",
            "ticks": ""
           },
           "bgcolor": "#E5ECF6",
           "radialaxis": {
            "gridcolor": "white",
            "linecolor": "white",
            "ticks": ""
           }
          },
          "scene": {
           "xaxis": {
            "backgroundcolor": "#E5ECF6",
            "gridcolor": "white",
            "gridwidth": 2,
            "linecolor": "white",
            "showbackground": true,
            "ticks": "",
            "zerolinecolor": "white"
           },
           "yaxis": {
            "backgroundcolor": "#E5ECF6",
            "gridcolor": "white",
            "gridwidth": 2,
            "linecolor": "white",
            "showbackground": true,
            "ticks": "",
            "zerolinecolor": "white"
           },
           "zaxis": {
            "backgroundcolor": "#E5ECF6",
            "gridcolor": "white",
            "gridwidth": 2,
            "linecolor": "white",
            "showbackground": true,
            "ticks": "",
            "zerolinecolor": "white"
           }
          },
          "shapedefaults": {
           "line": {
            "color": "#2a3f5f"
           }
          },
          "ternary": {
           "aaxis": {
            "gridcolor": "white",
            "linecolor": "white",
            "ticks": ""
           },
           "baxis": {
            "gridcolor": "white",
            "linecolor": "white",
            "ticks": ""
           },
           "bgcolor": "#E5ECF6",
           "caxis": {
            "gridcolor": "white",
            "linecolor": "white",
            "ticks": ""
           }
          },
          "title": {
           "x": 0.05
          },
          "xaxis": {
           "automargin": true,
           "gridcolor": "white",
           "linecolor": "white",
           "ticks": "",
           "title": {
            "standoff": 15
           },
           "zerolinecolor": "white",
           "zerolinewidth": 2
          },
          "yaxis": {
           "automargin": true,
           "gridcolor": "white",
           "linecolor": "white",
           "ticks": "",
           "title": {
            "standoff": 15
           },
           "zerolinecolor": "white",
           "zerolinewidth": 2
          }
         }
        },
        "width": 700
       }
      }
     },
     "metadata": {},
     "output_type": "display_data"
    }
   ],
   "source": [
    "\n",
    "title = \"Properties in Seattle\"\n",
    "\n",
    "lats = df_on_waterfront.lat\n",
    "lons = df_on_waterfront.long\n",
    "\n",
    "fig = px.scatter_mapbox(df_on_waterfront, \n",
    "                        lat=lats, \n",
    "                        lon=lons,\n",
    "                        hover_data=[\"price\"], \n",
    "                        size='price',\n",
    "                        color_continuous_scale=px.colors.carto.Agsunset_r, \n",
    "                        zoom=9.5\n",
    "                        )\n",
    "\n",
    "fig.update_geos(fitbounds=\"locations\")\n",
    "fig.update_layout(height=700, width=700)\n",
    "fig.update_layout(mapbox_style=\"open-street-map\")\n",
    "fig.update_layout(margin={\"r\":50,\"t\":50,\"l\":50,\"b\":50})\n",
    "\n",
    "fig.show()"
   ]
  },
  {
   "cell_type": "markdown",
   "metadata": {},
   "source": [
    "## Calculate the distance from City Centers of Seattle and Bellevue"
   ]
  },
  {
   "cell_type": "code",
   "execution_count": 79,
   "metadata": {},
   "outputs": [],
   "source": [
    "\n",
    "\n",
    "CONST_SEATTLE_CENTER = 47.608013, -122.335167\n",
    "CONST_BELLEVUE_CENTER = 47.610378, -122.200676\n",
    "\n",
    "((haversine(CONST_SEATTLE_CENTER, CONST_BELLEVUE_CENTER, Unit.MILES)))\n",
    "\n",
    "# distance_seattle = [(row.lat, row.long) for _, row in df_on_waterfront[['lat', 'long']].iterrows()]\n",
    "\n",
    "\n",
    "distance_seattle = [haversine((row.lat, row.long), CONST_SEATTLE_CENTER, Unit.MILES) for _, row in df_on_waterfront[['lat', 'long']].iterrows()]\n",
    "\n",
    "df_on_waterfront['distance_seattle_center'] = [haversine((row.lat, row.long), CONST_SEATTLE_CENTER, Unit.MILES) for _, row in df_on_waterfront[['lat', 'long']].iterrows()]\n",
    "df_on_waterfront['distance_bellevue_center'] = [haversine((row.lat, row.long), CONST_BELLEVUE_CENTER, Unit.MILES) for _, row in df_on_waterfront[['lat', 'long']].iterrows()]\n",
    "\n",
    "df_on_waterfront = df_on_waterfront[(df_on_waterfront['distance_seattle_center'] < 12) & (df_on_waterfront['distance_bellevue_center'] < 12)]\n",
    "\n",
    "# if df_on_waterfront.shape[0] == len(distance_seattle):\n",
    "\n",
    "\n"
   ]
  },
  {
   "cell_type": "code",
   "execution_count": 80,
   "metadata": {},
   "outputs": [
    {
     "data": {
      "application/vnd.plotly.v1+json": {
       "config": {
        "plotlyServerURL": "https://plot.ly"
       },
       "data": [
        {
         "customdata": [
          [
           3070000
          ],
          [
           825000
          ],
          [
           1960000
          ],
          [
           790000
          ],
          [
           5110000
          ],
          [
           5300000
          ],
          [
           2200000
          ],
          [
           1180000
          ],
          [
           1700000
          ],
          [
           960000
          ],
          [
           1200000
          ],
          [
           3850000
          ],
          [
           1700000
          ],
          [
           1650000
          ],
          [
           3280000
          ],
          [
           4500000
          ],
          [
           3600000
          ],
          [
           700000
          ],
          [
           1000000
          ],
          [
           7060000
          ],
          [
           2400000
          ],
          [
           1880000
          ],
          [
           1570000
          ],
          [
           1160000
          ],
          [
           1710000
          ],
          [
           2490000
          ],
          [
           1600000
          ],
          [
           1850000
          ],
          [
           1100000
          ],
          [
           2900000
          ],
          [
           1340000
          ],
          [
           3650000
          ],
          [
           2700000
          ],
          [
           3100000
          ],
          [
           1150000
          ],
          [
           1900000
          ],
          [
           3400000
          ],
          [
           1850000
          ],
          [
           4670000
          ],
          [
           949950
          ],
          [
           1250000
          ],
          [
           1800000
          ],
          [
           1360000
          ],
          [
           1960000
          ],
          [
           1190000
          ],
          [
           2700000
          ],
          [
           3120000
          ],
          [
           1660000
          ],
          [
           1180000
          ],
          [
           750000
          ],
          [
           2560000
          ],
          [
           3000000
          ],
          [
           2300000
          ],
          [
           2750000
          ],
          [
           1900000
          ],
          [
           2600000
          ],
          [
           3400000
          ],
          [
           3300000
          ],
          [
           2230000
          ],
          [
           1610000
          ],
          [
           2600000
          ],
          [
           3640000
          ],
          [
           658000
          ],
          [
           840500
          ],
          [
           3200000
          ],
          [
           1800000
          ],
          [
           1680000
          ],
          [
           700000
          ],
          [
           1340000
          ],
          [
           1600000
          ],
          [
           1200000
          ],
          [
           869000
          ],
          [
           750000
          ],
          [
           540000
          ],
          [
           2050000
          ],
          [
           975000
          ],
          [
           1600000
          ],
          [
           3300000
          ],
          [
           2700000
          ],
          [
           2950000
          ],
          [
           1700000
          ],
          [
           1680000
          ],
          [
           1400000
          ],
          [
           1410000
          ],
          [
           1150000
          ],
          [
           3000000
          ],
          [
           2300000
          ],
          [
           2230000
          ],
          [
           3570000
          ]
         ],
         "hovertemplate": "price=%{customdata[0]}<br>lat=%{lat}<br>long=%{lon}<extra></extra>",
         "lat": [
          47.7022,
          47.502,
          47.7165,
          47.5105,
          47.6767,
          47.5631,
          47.6393,
          47.7345,
          47.5115,
          47.645,
          47.5779,
          47.585,
          47.5883,
          47.5487,
          47.6042,
          47.7493,
          47.5925,
          47.5117,
          47.5488,
          47.65,
          47.5884,
          47.6699,
          47.5169,
          47.488,
          47.5596,
          47.5636,
          47.5894,
          47.7404,
          47.5033,
          47.5379,
          47.5489,
          47.6515,
          47.5919,
          47.5716,
          47.6307,
          47.5395,
          47.5348,
          47.5571,
          47.557,
          47.5193,
          47.5814,
          47.5466,
          47.7142,
          47.5287,
          47.7134,
          47.6803,
          47.6997,
          47.525,
          47.5495,
          47.5022,
          47.661,
          47.7011,
          47.6934,
          47.5968,
          47.5924,
          47.5696,
          47.6967,
          47.605,
          47.5516,
          47.5316,
          47.5721,
          47.6409,
          47.5476,
          47.5114,
          47.5928,
          47.7519,
          47.7561,
          47.5121,
          47.7308,
          47.7434,
          47.502,
          47.5121,
          47.4996,
          47.4997,
          47.7087,
          47.4969,
          47.704,
          47.6083,
          47.572,
          47.6608,
          47.6361,
          47.7265,
          47.5895,
          47.5036,
          47.7336,
          47.5283,
          47.5724,
          47.5285,
          47.5943
         ],
         "legendgroup": "",
         "lon": [
          -122.224,
          -122.222,
          -122.259,
          -122.238,
          -122.211,
          -122.21,
          -122.097,
          -122.285,
          -122.246,
          -122.084,
          -122.246,
          -122.222,
          -122.111,
          -122.197,
          -122.112,
          -122.28,
          -122.287,
          -122.248,
          -122.197,
          -122.214,
          -122.086,
          -122.416,
          -122.209,
          -122.364,
          -122.403,
          -122.231,
          -122.111,
          -122.284,
          -122.225,
          -122.264,
          -122.398,
          -122.277,
          -122.251,
          -122.204,
          -122.088,
          -122.21,
          -122.243,
          -122.193,
          -122.21,
          -122.257,
          -122.081,
          -122.197,
          -122.277,
          -122.22,
          -122.277,
          -122.214,
          -122.24,
          -122.393,
          -122.398,
          -122.223,
          -122.269,
          -122.244,
          -122.271,
          -122.083,
          -122.287,
          -122.09,
          -122.216,
          -122.112,
          -122.398,
          -122.263,
          -122.239,
          -122.241,
          -122.399,
          -122.245,
          -122.086,
          -122.276,
          -122.271,
          -122.248,
          -122.282,
          -122.263,
          -122.385,
          -122.248,
          -122.378,
          -122.379,
          -122.276,
          -122.376,
          -122.245,
          -122.11,
          -122.102,
          -122.269,
          -122.093,
          -122.281,
          -122.111,
          -122.387,
          -122.284,
          -122.205,
          -122.104,
          -122.205,
          -122.11
         ],
         "marker": {
          "color": "#636efa",
          "size": [
           3070000,
           825000,
           1960000,
           790000,
           5110000,
           5300000,
           2200000,
           1180000,
           1700000,
           960000,
           1200000,
           3850000,
           1700000,
           1650000,
           3280000,
           4500000,
           3600000,
           700000,
           1000000,
           7060000,
           2400000,
           1880000,
           1570000,
           1160000,
           1710000,
           2490000,
           1600000,
           1850000,
           1100000,
           2900000,
           1340000,
           3650000,
           2700000,
           3100000,
           1150000,
           1900000,
           3400000,
           1850000,
           4670000,
           949950,
           1250000,
           1800000,
           1360000,
           1960000,
           1190000,
           2700000,
           3120000,
           1660000,
           1180000,
           750000,
           2560000,
           3000000,
           2300000,
           2750000,
           1900000,
           2600000,
           3400000,
           3300000,
           2230000,
           1610000,
           2600000,
           3640000,
           658000,
           840500,
           3200000,
           1800000,
           1680000,
           700000,
           1340000,
           1600000,
           1200000,
           869000,
           750000,
           540000,
           2050000,
           975000,
           1600000,
           3300000,
           2700000,
           2950000,
           1700000,
           1680000,
           1400000,
           1410000,
           1150000,
           3000000,
           2300000,
           2230000,
           3570000
          ],
          "sizemode": "area",
          "sizeref": 17650
         },
         "mode": "markers",
         "name": "",
         "showlegend": false,
         "subplot": "mapbox",
         "type": "scattermapbox"
        }
       ],
       "layout": {
        "geo": {
         "fitbounds": "locations"
        },
        "height": 700,
        "legend": {
         "itemsizing": "constant",
         "tracegroupgap": 0
        },
        "mapbox": {
         "center": {
          "lat": 47.59992808988764,
          "lon": -122.23556179775281
         },
         "domain": {
          "x": [
           0,
           1
          ],
          "y": [
           0,
           1
          ]
         },
         "style": "open-street-map",
         "zoom": 9.5
        },
        "margin": {
         "b": 50,
         "l": 50,
         "r": 50,
         "t": 50
        },
        "template": {
         "data": {
          "bar": [
           {
            "error_x": {
             "color": "#2a3f5f"
            },
            "error_y": {
             "color": "#2a3f5f"
            },
            "marker": {
             "line": {
              "color": "#E5ECF6",
              "width": 0.5
             },
             "pattern": {
              "fillmode": "overlay",
              "size": 10,
              "solidity": 0.2
             }
            },
            "type": "bar"
           }
          ],
          "barpolar": [
           {
            "marker": {
             "line": {
              "color": "#E5ECF6",
              "width": 0.5
             },
             "pattern": {
              "fillmode": "overlay",
              "size": 10,
              "solidity": 0.2
             }
            },
            "type": "barpolar"
           }
          ],
          "carpet": [
           {
            "aaxis": {
             "endlinecolor": "#2a3f5f",
             "gridcolor": "white",
             "linecolor": "white",
             "minorgridcolor": "white",
             "startlinecolor": "#2a3f5f"
            },
            "baxis": {
             "endlinecolor": "#2a3f5f",
             "gridcolor": "white",
             "linecolor": "white",
             "minorgridcolor": "white",
             "startlinecolor": "#2a3f5f"
            },
            "type": "carpet"
           }
          ],
          "choropleth": [
           {
            "colorbar": {
             "outlinewidth": 0,
             "ticks": ""
            },
            "type": "choropleth"
           }
          ],
          "contour": [
           {
            "colorbar": {
             "outlinewidth": 0,
             "ticks": ""
            },
            "colorscale": [
             [
              0,
              "#0d0887"
             ],
             [
              0.1111111111111111,
              "#46039f"
             ],
             [
              0.2222222222222222,
              "#7201a8"
             ],
             [
              0.3333333333333333,
              "#9c179e"
             ],
             [
              0.4444444444444444,
              "#bd3786"
             ],
             [
              0.5555555555555556,
              "#d8576b"
             ],
             [
              0.6666666666666666,
              "#ed7953"
             ],
             [
              0.7777777777777778,
              "#fb9f3a"
             ],
             [
              0.8888888888888888,
              "#fdca26"
             ],
             [
              1,
              "#f0f921"
             ]
            ],
            "type": "contour"
           }
          ],
          "contourcarpet": [
           {
            "colorbar": {
             "outlinewidth": 0,
             "ticks": ""
            },
            "type": "contourcarpet"
           }
          ],
          "heatmap": [
           {
            "colorbar": {
             "outlinewidth": 0,
             "ticks": ""
            },
            "colorscale": [
             [
              0,
              "#0d0887"
             ],
             [
              0.1111111111111111,
              "#46039f"
             ],
             [
              0.2222222222222222,
              "#7201a8"
             ],
             [
              0.3333333333333333,
              "#9c179e"
             ],
             [
              0.4444444444444444,
              "#bd3786"
             ],
             [
              0.5555555555555556,
              "#d8576b"
             ],
             [
              0.6666666666666666,
              "#ed7953"
             ],
             [
              0.7777777777777778,
              "#fb9f3a"
             ],
             [
              0.8888888888888888,
              "#fdca26"
             ],
             [
              1,
              "#f0f921"
             ]
            ],
            "type": "heatmap"
           }
          ],
          "heatmapgl": [
           {
            "colorbar": {
             "outlinewidth": 0,
             "ticks": ""
            },
            "colorscale": [
             [
              0,
              "#0d0887"
             ],
             [
              0.1111111111111111,
              "#46039f"
             ],
             [
              0.2222222222222222,
              "#7201a8"
             ],
             [
              0.3333333333333333,
              "#9c179e"
             ],
             [
              0.4444444444444444,
              "#bd3786"
             ],
             [
              0.5555555555555556,
              "#d8576b"
             ],
             [
              0.6666666666666666,
              "#ed7953"
             ],
             [
              0.7777777777777778,
              "#fb9f3a"
             ],
             [
              0.8888888888888888,
              "#fdca26"
             ],
             [
              1,
              "#f0f921"
             ]
            ],
            "type": "heatmapgl"
           }
          ],
          "histogram": [
           {
            "marker": {
             "pattern": {
              "fillmode": "overlay",
              "size": 10,
              "solidity": 0.2
             }
            },
            "type": "histogram"
           }
          ],
          "histogram2d": [
           {
            "colorbar": {
             "outlinewidth": 0,
             "ticks": ""
            },
            "colorscale": [
             [
              0,
              "#0d0887"
             ],
             [
              0.1111111111111111,
              "#46039f"
             ],
             [
              0.2222222222222222,
              "#7201a8"
             ],
             [
              0.3333333333333333,
              "#9c179e"
             ],
             [
              0.4444444444444444,
              "#bd3786"
             ],
             [
              0.5555555555555556,
              "#d8576b"
             ],
             [
              0.6666666666666666,
              "#ed7953"
             ],
             [
              0.7777777777777778,
              "#fb9f3a"
             ],
             [
              0.8888888888888888,
              "#fdca26"
             ],
             [
              1,
              "#f0f921"
             ]
            ],
            "type": "histogram2d"
           }
          ],
          "histogram2dcontour": [
           {
            "colorbar": {
             "outlinewidth": 0,
             "ticks": ""
            },
            "colorscale": [
             [
              0,
              "#0d0887"
             ],
             [
              0.1111111111111111,
              "#46039f"
             ],
             [
              0.2222222222222222,
              "#7201a8"
             ],
             [
              0.3333333333333333,
              "#9c179e"
             ],
             [
              0.4444444444444444,
              "#bd3786"
             ],
             [
              0.5555555555555556,
              "#d8576b"
             ],
             [
              0.6666666666666666,
              "#ed7953"
             ],
             [
              0.7777777777777778,
              "#fb9f3a"
             ],
             [
              0.8888888888888888,
              "#fdca26"
             ],
             [
              1,
              "#f0f921"
             ]
            ],
            "type": "histogram2dcontour"
           }
          ],
          "mesh3d": [
           {
            "colorbar": {
             "outlinewidth": 0,
             "ticks": ""
            },
            "type": "mesh3d"
           }
          ],
          "parcoords": [
           {
            "line": {
             "colorbar": {
              "outlinewidth": 0,
              "ticks": ""
             }
            },
            "type": "parcoords"
           }
          ],
          "pie": [
           {
            "automargin": true,
            "type": "pie"
           }
          ],
          "scatter": [
           {
            "fillpattern": {
             "fillmode": "overlay",
             "size": 10,
             "solidity": 0.2
            },
            "type": "scatter"
           }
          ],
          "scatter3d": [
           {
            "line": {
             "colorbar": {
              "outlinewidth": 0,
              "ticks": ""
             }
            },
            "marker": {
             "colorbar": {
              "outlinewidth": 0,
              "ticks": ""
             }
            },
            "type": "scatter3d"
           }
          ],
          "scattercarpet": [
           {
            "marker": {
             "colorbar": {
              "outlinewidth": 0,
              "ticks": ""
             }
            },
            "type": "scattercarpet"
           }
          ],
          "scattergeo": [
           {
            "marker": {
             "colorbar": {
              "outlinewidth": 0,
              "ticks": ""
             }
            },
            "type": "scattergeo"
           }
          ],
          "scattergl": [
           {
            "marker": {
             "colorbar": {
              "outlinewidth": 0,
              "ticks": ""
             }
            },
            "type": "scattergl"
           }
          ],
          "scattermapbox": [
           {
            "marker": {
             "colorbar": {
              "outlinewidth": 0,
              "ticks": ""
             }
            },
            "type": "scattermapbox"
           }
          ],
          "scatterpolar": [
           {
            "marker": {
             "colorbar": {
              "outlinewidth": 0,
              "ticks": ""
             }
            },
            "type": "scatterpolar"
           }
          ],
          "scatterpolargl": [
           {
            "marker": {
             "colorbar": {
              "outlinewidth": 0,
              "ticks": ""
             }
            },
            "type": "scatterpolargl"
           }
          ],
          "scatterternary": [
           {
            "marker": {
             "colorbar": {
              "outlinewidth": 0,
              "ticks": ""
             }
            },
            "type": "scatterternary"
           }
          ],
          "surface": [
           {
            "colorbar": {
             "outlinewidth": 0,
             "ticks": ""
            },
            "colorscale": [
             [
              0,
              "#0d0887"
             ],
             [
              0.1111111111111111,
              "#46039f"
             ],
             [
              0.2222222222222222,
              "#7201a8"
             ],
             [
              0.3333333333333333,
              "#9c179e"
             ],
             [
              0.4444444444444444,
              "#bd3786"
             ],
             [
              0.5555555555555556,
              "#d8576b"
             ],
             [
              0.6666666666666666,
              "#ed7953"
             ],
             [
              0.7777777777777778,
              "#fb9f3a"
             ],
             [
              0.8888888888888888,
              "#fdca26"
             ],
             [
              1,
              "#f0f921"
             ]
            ],
            "type": "surface"
           }
          ],
          "table": [
           {
            "cells": {
             "fill": {
              "color": "#EBF0F8"
             },
             "line": {
              "color": "white"
             }
            },
            "header": {
             "fill": {
              "color": "#C8D4E3"
             },
             "line": {
              "color": "white"
             }
            },
            "type": "table"
           }
          ]
         },
         "layout": {
          "annotationdefaults": {
           "arrowcolor": "#2a3f5f",
           "arrowhead": 0,
           "arrowwidth": 1
          },
          "autotypenumbers": "strict",
          "coloraxis": {
           "colorbar": {
            "outlinewidth": 0,
            "ticks": ""
           }
          },
          "colorscale": {
           "diverging": [
            [
             0,
             "#8e0152"
            ],
            [
             0.1,
             "#c51b7d"
            ],
            [
             0.2,
             "#de77ae"
            ],
            [
             0.3,
             "#f1b6da"
            ],
            [
             0.4,
             "#fde0ef"
            ],
            [
             0.5,
             "#f7f7f7"
            ],
            [
             0.6,
             "#e6f5d0"
            ],
            [
             0.7,
             "#b8e186"
            ],
            [
             0.8,
             "#7fbc41"
            ],
            [
             0.9,
             "#4d9221"
            ],
            [
             1,
             "#276419"
            ]
           ],
           "sequential": [
            [
             0,
             "#0d0887"
            ],
            [
             0.1111111111111111,
             "#46039f"
            ],
            [
             0.2222222222222222,
             "#7201a8"
            ],
            [
             0.3333333333333333,
             "#9c179e"
            ],
            [
             0.4444444444444444,
             "#bd3786"
            ],
            [
             0.5555555555555556,
             "#d8576b"
            ],
            [
             0.6666666666666666,
             "#ed7953"
            ],
            [
             0.7777777777777778,
             "#fb9f3a"
            ],
            [
             0.8888888888888888,
             "#fdca26"
            ],
            [
             1,
             "#f0f921"
            ]
           ],
           "sequentialminus": [
            [
             0,
             "#0d0887"
            ],
            [
             0.1111111111111111,
             "#46039f"
            ],
            [
             0.2222222222222222,
             "#7201a8"
            ],
            [
             0.3333333333333333,
             "#9c179e"
            ],
            [
             0.4444444444444444,
             "#bd3786"
            ],
            [
             0.5555555555555556,
             "#d8576b"
            ],
            [
             0.6666666666666666,
             "#ed7953"
            ],
            [
             0.7777777777777778,
             "#fb9f3a"
            ],
            [
             0.8888888888888888,
             "#fdca26"
            ],
            [
             1,
             "#f0f921"
            ]
           ]
          },
          "colorway": [
           "#636efa",
           "#EF553B",
           "#00cc96",
           "#ab63fa",
           "#FFA15A",
           "#19d3f3",
           "#FF6692",
           "#B6E880",
           "#FF97FF",
           "#FECB52"
          ],
          "font": {
           "color": "#2a3f5f"
          },
          "geo": {
           "bgcolor": "white",
           "lakecolor": "white",
           "landcolor": "#E5ECF6",
           "showlakes": true,
           "showland": true,
           "subunitcolor": "white"
          },
          "hoverlabel": {
           "align": "left"
          },
          "hovermode": "closest",
          "mapbox": {
           "style": "light"
          },
          "paper_bgcolor": "white",
          "plot_bgcolor": "#E5ECF6",
          "polar": {
           "angularaxis": {
            "gridcolor": "white",
            "linecolor": "white",
            "ticks": ""
           },
           "bgcolor": "#E5ECF6",
           "radialaxis": {
            "gridcolor": "white",
            "linecolor": "white",
            "ticks": ""
           }
          },
          "scene": {
           "xaxis": {
            "backgroundcolor": "#E5ECF6",
            "gridcolor": "white",
            "gridwidth": 2,
            "linecolor": "white",
            "showbackground": true,
            "ticks": "",
            "zerolinecolor": "white"
           },
           "yaxis": {
            "backgroundcolor": "#E5ECF6",
            "gridcolor": "white",
            "gridwidth": 2,
            "linecolor": "white",
            "showbackground": true,
            "ticks": "",
            "zerolinecolor": "white"
           },
           "zaxis": {
            "backgroundcolor": "#E5ECF6",
            "gridcolor": "white",
            "gridwidth": 2,
            "linecolor": "white",
            "showbackground": true,
            "ticks": "",
            "zerolinecolor": "white"
           }
          },
          "shapedefaults": {
           "line": {
            "color": "#2a3f5f"
           }
          },
          "ternary": {
           "aaxis": {
            "gridcolor": "white",
            "linecolor": "white",
            "ticks": ""
           },
           "baxis": {
            "gridcolor": "white",
            "linecolor": "white",
            "ticks": ""
           },
           "bgcolor": "#E5ECF6",
           "caxis": {
            "gridcolor": "white",
            "linecolor": "white",
            "ticks": ""
           }
          },
          "title": {
           "x": 0.05
          },
          "xaxis": {
           "automargin": true,
           "gridcolor": "white",
           "linecolor": "white",
           "ticks": "",
           "title": {
            "standoff": 15
           },
           "zerolinecolor": "white",
           "zerolinewidth": 2
          },
          "yaxis": {
           "automargin": true,
           "gridcolor": "white",
           "linecolor": "white",
           "ticks": "",
           "title": {
            "standoff": 15
           },
           "zerolinecolor": "white",
           "zerolinewidth": 2
          }
         }
        },
        "width": 700
       }
      }
     },
     "metadata": {},
     "output_type": "display_data"
    }
   ],
   "source": [
    "\n",
    "title = \"Properties in Seattle\"\n",
    "\n",
    "lats = df_on_waterfront.lat\n",
    "lons = df_on_waterfront.long\n",
    "\n",
    "fig = px.scatter_mapbox(df_on_waterfront, \n",
    "                        lat=lats, \n",
    "                        lon=lons,\n",
    "                        hover_data=[\"price\"], \n",
    "                        size='price',\n",
    "                        color_continuous_scale=px.colors.carto.Agsunset_r, \n",
    "                        zoom=9.5\n",
    "                        )\n",
    "\n",
    "fig.update_geos(fitbounds=\"locations\")\n",
    "fig.update_layout(height=700, width=700)\n",
    "fig.update_layout(mapbox_style=\"open-street-map\")\n",
    "fig.update_layout(margin={\"r\":50,\"t\":50,\"l\":50,\"b\":50})\n",
    "\n",
    "fig.show()"
   ]
  }
 ],
 "metadata": {
  "kernelspec": {
   "display_name": ".venv",
   "language": "python",
   "name": "python3"
  },
  "language_info": {
   "codemirror_mode": {
    "name": "ipython",
    "version": 3
   },
   "file_extension": ".py",
   "mimetype": "text/x-python",
   "name": "python",
   "nbconvert_exporter": "python",
   "pygments_lexer": "ipython3",
   "version": "3.12.4"
  },
  "orig_nbformat": 4
 },
 "nbformat": 4,
 "nbformat_minor": 2
}
